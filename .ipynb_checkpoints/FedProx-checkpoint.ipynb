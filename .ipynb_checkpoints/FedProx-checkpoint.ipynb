{
 "cells": [
  {
   "cell_type": "markdown",
   "metadata": {
    "colab_type": "text",
    "id": "view-in-github"
   },
   "source": [
    "<a href=\"https://colab.research.google.com/github/ayushm-agrawal/Federated-Learning-Implementations/blob/master/FedProx.ipynb\" target=\"_parent\"><img src=\"https://colab.research.google.com/assets/colab-badge.svg\" alt=\"Open In Colab\"/></a>"
   ]
  },
  {
   "cell_type": "markdown",
   "metadata": {
    "colab_type": "text",
    "id": "BQ1r3Tva0Qbd"
   },
   "source": [
    "## 如何浏览这个笔记本... ...\n",
    "\n",
    "  从折叠Google Colab中的所有单元格开始。这将使您能够轻松地浏览可能对您有用的不同部分。\n",
    "\n",
    "本笔记本的主要部分如下\n",
    "<dl>\n",
    "  <dt><b>进口</b></dt>\n",
    "  <dd>- 包含所有必要的进口</dd>\n",
    "\n",
    "  <dt><b>重新格式化时间</b></dt>\n",
    "  <dd>--以可读格式格式化时间的功能</dd>\n",
    "  <dt><b>加载MNIST数据集</b></dt>\n",
    "  <dd>- 从Torchvision数据集加载MNIST训练和测试数据集</dd>\n",
    "  <dt><b>数据可视化</b></dt>\n",
    "  <dd>-从训练和测试数据集中加载前几张图像作为理智检查。</dd>-从训练和测试数据集中加载前几张图像作为理智检查\n",
    "  <dt><b>数据分区（IID和非IID）</b></dt>\n",
    "  <dd>-定义了两个函数，用于在现实世界的场景中复制数据分区\n",
    "  <dd>- IID：相同和独立的数据集，一般为数据集提供统一的分布\n",
    "  <dd>-非IID：这是一种病态的实现，在联邦学习方案中，每个客户端只从类的子集而不是所有类获取数据\n",
    "  <dt><b>型号</b></dt>\n",
    "  <dd>- MNIST 2NN。多层感知器，复制自FedAvg论文</dd>\n",
    "  <dd>- MNIST CNN。从FedAvg文件中复制的两层CNN模型</dd>\n",
    "  <dt><b>测试循环</b></dt>\n",
    "  <dd>-我们在每个纪元使用这个测试循环来阻止我们的模型过度拟合。</dd>-我们在每个纪元使用这个测试循环来阻止我们的模型过度拟合\n",
    "  <dt><b>FedProx</b></dt>\n",
    "  <dd>--该块包含论文中讨论的 FedProx 算法的全部实现。</dd>--该块包含论文中讨论的 FedProx 算法的全部实现\n",
    "  <dd>- 实现了不同的功能来复制FedProx论文中提到的异质性</dd>\n",
    "  <dd>-客户端更新功能用于训练本地客户端</dd>\n",
    "  <dd>- 服务器端更新功能由客户端接收本地模型并更新全局模型</dd>\n",
    "\n",
    "  <b>注意：从这里开始，我们开始运行不同的FEDPROX算法测试</b>\n",
    "\n",
    "  > <u>对于每个实验，请检查所使用的超参数，并在必要时进行更新</u>\n",
    "\n",
    "  <dt><b>FedProx的特殊情况</b></dt>\n",
    "  <dd>-在这种情况下，FedProx的行为类似于FedAvg</dd>\n",
    "  <dt><b>以0%的概率进行训练</b></dt>\n",
    "  <dd>-在没有杂散的数据集时，为 IID 和非 IID 数据集运行 CNN 和 MLP 模型测试\n",
    "  <dt><b>以50%的概率进行训练</b></dt>\n",
    "  <dd>-当有50%的杂散者时，为IID和非IID数据集运行CNN和MLP模型的测试.</dd>\n",
    "  <dt><b>以90%的概率进行训练</b></dt>\n",
    "  <dd>-当有90%的散兵游勇时，为IID和非IID数据集运行CNN和MLP模型的测试.</dd>\n",
    "\n",
    "  <dt><b>FedAvg和FedProx在IID数据集分区上的比较</b></dt>\n",
    "  <dd>-在高度异构的系统下，运行测试以达到FedAvg和FedProx的目标精度\n",
    "  <dt><b>FedAvg和FedProx在非IID数据集Paritition上的比较</b></dt>\n",
    "  <dd>-在高度异构的系统下，运行测试以达到FedAvg和FedProx的目标精度"
   ]
  },
  {
   "cell_type": "markdown",
   "metadata": {
    "colab_type": "text",
    "id": "1ET8d4SH-g2D"
   },
   "source": [
    "## Imports"
   ]
  },
  {
   "cell_type": "code",
   "execution_count": 1,
   "metadata": {
    "colab": {
     "base_uri": "https://localhost:8080/",
     "height": 0
    },
    "colab_type": "code",
    "id": "u2iSYH27XY_E",
    "outputId": "d52c0520-b50e-4223-ad1e-10a9ff44f99f"
   },
   "outputs": [
    {
     "name": "stdout",
     "output_type": "stream",
     "text": [
      "'nvidia-smi' 不是内部或外部命令，也不是可运行的程序\n",
      "或批处理文件。\n"
     ]
    }
   ],
   "source": [
    "%load_ext tensorboard\n",
    "import os\n",
    "import numpy as np\n",
    "import matplotlib.pyplot as plt\n",
    "import copy\n",
    "import time\n",
    "import random\n",
    "\n",
    "import torch\n",
    "import torch.nn as nn\n",
    "import torch.nn.functional as F\n",
    "\n",
    "from torch.utils.data import Dataset, DataLoader\n",
    "from torch.utils.tensorboard import SummaryWriter\n",
    "from torchvision import transforms, utils, datasets\n",
    "from torchsummary import summary\n",
    "from datetime import datetime, timedelta\n",
    "\n",
    "# Check assigned GPU\n",
    "gpu_info = !nvidia-smi\n",
    "gpu_info = '\\n'.join(gpu_info)\n",
    "if gpu_info.find('failed') >= 0:\n",
    "  print('Select the Runtime > \"Change runtime type\" menu to enable a GPU accelerator, ')\n",
    "  print('and then re-execute this cell.')\n",
    "else:\n",
    "  print(gpu_info)\n",
    "\n",
    "\n",
    "# set manual seed for reproducibility\n",
    "seed = 42\n",
    "\n",
    "# general reproducibility\n",
    "random.seed(seed)\n",
    "np.random.seed(seed)\n",
    "torch.manual_seed(seed)\n",
    "\n",
    "# gpu training specific\n",
    "torch.backends.cudnn.deterministic = True\n",
    "torch.backends.cudnn.benchmark = False"
   ]
  },
  {
   "cell_type": "markdown",
   "metadata": {
    "colab_type": "text",
    "id": "X7MesIL6AAuD"
   },
   "source": [
    "## Re-Format Time"
   ]
  },
  {
   "cell_type": "code",
   "execution_count": 2,
   "metadata": {
    "colab": {},
    "colab_type": "code",
    "id": "0b0H9UUX__89"
   },
   "outputs": [],
   "source": [
    "def get_time_format(seconds):\n",
    "    sec = timedelta(seconds=int(seconds))\n",
    "    d = datetime(1, 1, 1) + sec\n",
    "    if d.day-1 == 1:\n",
    "        return \"%.2d:%.2d:%.2d:%.2d\" % (d.day-1, d.hour, d.minute, d.second)\n",
    "    return \"%.2d:%.2d:%.2d\" % (d.hour, d.minute, d.second)\n",
    "\n",
    "\n",
    "def calculate_time(start_time):\n",
    "    return get_time_format(time.time() - start_time)"
   ]
  },
  {
   "cell_type": "markdown",
   "metadata": {
    "colab_type": "text",
    "id": "NY4eWzGiL6Mj"
   },
   "source": [
    "## Load the MNIST Dataset"
   ]
  },
  {
   "cell_type": "code",
   "execution_count": 3,
   "metadata": {
    "colab": {
     "base_uri": "https://localhost:8080/",
     "height": 0,
     "referenced_widgets": [
      "98cd9ad523994dda91464699551d2b3b",
      "e30e11ff2435479fb05dac246dc35903",
      "9054a24758044b1da895a28ec540dd9d",
      "baf38b8c974c496d9250e41505aa59ae",
      "8719071a7cdd4c9c9df412f3f1a18f1f",
      "490d326e50a245b6911807e2ead8dfd6",
      "11836412a5b548db985f0f47203c0148",
      "56390bc20db44d98942252c041bd2254",
      "fd8012fcab0b41b48403689eebd1d2c0",
      "a92aef955dfa4c81959a00150dfab3fc",
      "c955aaecef7f48bfb7588d712deb7e52",
      "498da1c80a724e218a24b41b27049683",
      "1810dfe35a384083bf2b6041234be8e9",
      "df3835d5706b49af98265aea3b409124",
      "18f8b569091146beb6c3732a91c86c80",
      "a924987b839c4f61aa495922b497effe",
      "de85728d78694c93b77b6f9695abe15f",
      "b18ee45c02df41db9b093cbbe0ae045e",
      "1a6f08d2ca414445b0347d2a8115578c",
      "bc0c0bad47ad47f88b3c5d256ee79df8",
      "c2cca6467968443ba06a323f4c0561da",
      "d1d2fc5da2034f2cbc4a12247ead4e51",
      "ebab738db4bf41b488815a8362486d5e",
      "2385daa9afcc460dab4fab0eb3499914",
      "ca4959a99d7240f4a839bca8eaab4153",
      "507084f3dfd648909dbf551039b10277",
      "60e5165ee5fa4f658b1a6afa7e57d870",
      "f5e793b152e6407683422492bbcfd689",
      "bea52aaa5419473784808ba50245589d",
      "79a0861e36374a3a9464ca2a6a69e54e",
      "fd2ce620c89149c5b7b0abb7026349d2",
      "73c362907c0f4a8bb823dd758b5d1e70",
      "b0354cf6272b467f9c1453b30322378e",
      "81260284233a48d8807c110290887c41",
      "3f1d12814e484e8e8b1c1d4900f4ab46",
      "b2fc68b04b9646c1bc99cb881dfb6a3b",
      "a59d9ee14953462281c40190d3e125ee",
      "ed7b03e4f80f4af1ab3113f192aa9f47",
      "467e749cacf74b3cac743da14de4d301",
      "0df702481955455c809693bc1972247d",
      "5d8dbd34b29e422da85886be60567beb",
      "f0ce564b1c0d499084f88182c016ba03",
      "7f161a4ef67c46699e34915664448798",
      "71a185c3c8204b36ac7b7a78500ef9f9",
      "b2057e1f02074056851069d0cabd4a20",
      "d69518fea14c44c59c53c02457af5495",
      "f3d69c49c289404e80c78fb9eadb6148",
      "6a0d657066804e658534da7c33bddf85",
      "db4543462aa84e3e9f748c3bfcf2a899",
      "d3af59d85b3648da95f39fad9c5e4735",
      "d7306d3f075d479b9d7dd8d0fc3b75c0",
      "d11e30c492e6478baff5c0973871a824",
      "45446691eea145f682b3e9dfc86a3ec9",
      "bdd7b26d74394f5e949e41ac6ae5de98",
      "f94b9d8fe0884a31aa9a4f51dfc6cf84",
      "0665403511994d82bc8370148f44e070",
      "196969d71b494012b8a52584f9d50201",
      "06b917dd20694c848cef87f4ac11b2e1",
      "99dfc7e0063d4004882cd434557c79bf",
      "3530fc4b65264b61b78e094316877a21",
      "9f47bfb81ffb42d1a943d994ad36cfaf",
      "15d3b624d14a4d3d83726c851c5e21db",
      "0e4e54fdd01a405ba5b80ef1bdd37dea",
      "0b6cac0b1ad14f339bee098ecee86057"
     ]
    },
    "colab_type": "code",
    "id": "G649tjTXLL8F",
    "outputId": "735733a1-85a0-46d7-c36a-958264fc99f9"
   },
   "outputs": [],
   "source": [
    "# 创建变换\n",
    "# 我们只需将其转换为张量并进行归一化处理，因为论文中没有提到特殊的变换。\n",
    "transforms_mnist = transforms.Compose([\n",
    "                                       transforms.ToTensor(),\n",
    "                                       transforms.Normalize((0.1307,), (0.3081,))\n",
    "                                       ])\n",
    "\n",
    "mnist_data_train = datasets.MNIST('data/mnist/', train=True, download=True, transform=transforms_mnist)\n",
    "mnist_data_test = datasets.MNIST('data/mnist/', train=False, download=True, transform=transforms_mnist)"
   ]
  },
  {
   "cell_type": "code",
   "execution_count": 4,
   "metadata": {
    "colab": {
     "base_uri": "https://localhost:8080/",
     "height": 0
    },
    "colab_type": "code",
    "id": "dm9usjn2vFkL",
    "outputId": "3b4b2944-71da-41c3-a625-b0bd0cbc7acd"
   },
   "outputs": [
    {
     "name": "stdout",
     "output_type": "stream",
     "text": [
      "Classes: [0 1 2 3 4 5 6 7 8 9] \tType: <class 'numpy.ndarray'>\n",
      "Classes Test: [0 1 2 3 4 5 6 7 8 9] \tType: <class 'numpy.ndarray'>\n"
     ]
    }
   ],
   "source": [
    "classes = np.array(list(mnist_data_train.class_to_idx.values()))\n",
    "classes_test = np.array(list(mnist_data_test.class_to_idx.values()))\n",
    "num_classes = len(classes_test)\n",
    "print(\"Classes: {} \\tType: {}\".format(classes, type(classes)))\n",
    "print(\"Classes Test: {} \\tType: {}\".format(classes_test, type(classes)))\n"
   ]
  },
  {
   "cell_type": "code",
   "execution_count": 5,
   "metadata": {
    "colab": {
     "base_uri": "https://localhost:8080/",
     "height": 0
    },
    "colab_type": "code",
    "id": "9lvJt3Ofv2SO",
    "outputId": "ed065a58-369a-44fc-e6c0-4f902b86b8ad"
   },
   "outputs": [
    {
     "name": "stdout",
     "output_type": "stream",
     "text": [
      "Image Shape: torch.Size([28, 28])\n"
     ]
    }
   ],
   "source": [
    "print(\"Image Shape: {}\".format(mnist_data_train.data[0].size()))"
   ]
  },
  {
   "cell_type": "markdown",
   "metadata": {
    "colab_type": "text",
    "id": "jCOONkg-zV7Y"
   },
   "source": [
    "## Visualize Data"
   ]
  },
  {
   "cell_type": "code",
   "execution_count": 6,
   "metadata": {
    "colab": {},
    "colab_type": "code",
    "id": "R9MK03TZw6Qs"
   },
   "outputs": [],
   "source": [
    "def imshow(img):\n",
    "\timg = img/2 + 0.5 #unnormalize the image\n",
    "\tplt.imshow(img, cmap='gray') # convert from tensor to image"
   ]
  },
  {
   "cell_type": "code",
   "execution_count": 7,
   "metadata": {
    "colab": {},
    "colab_type": "code",
    "id": "gMJ0Kx4Kw-_H"
   },
   "outputs": [],
   "source": [
    "def visualize(dataset):\n",
    "  figure = plt.figure(figsize=(25,4))\n",
    "  for i in range(20):\n",
    "    axis = figure.add_subplot(2, 20/2, i+1, xticks=[], yticks=[])\n",
    "    data = dataset.data[i]\n",
    "    data = data.numpy()\n",
    "\n",
    "    target = dataset.targets[i]\n",
    "    target = target.numpy()\n",
    "    imshow(data)\n",
    "    axis.set_title(target)\n"
   ]
  },
  {
   "cell_type": "code",
   "execution_count": 8,
   "metadata": {
    "colab": {
     "base_uri": "https://localhost:8080/",
     "height": 0
    },
    "colab_type": "code",
    "id": "8bPOwKg10Ro7",
    "outputId": "287106dd-9b40-49b3-c0c3-6e86c6113ec2"
   },
   "outputs": [
    {
     "data": {
      "image/png": "[encoded data removed]",
      "text/plain": [
       "<Figure size 1800x288 with 20 Axes>"
      ]
     },
     "metadata": {},
     "output_type": "display_data"
    }
   ],
   "source": [
    "visualize(mnist_data_train)"
   ]
  },
  {
   "cell_type": "code",
   "execution_count": 9,
   "metadata": {
    "colab": {
     "base_uri": "https://localhost:8080/",
     "height": 0
    },
    "colab_type": "code",
    "id": "RKoh5Cf70UYu",
    "outputId": "e0fb725c-046c-403f-d7f6-88dbb80911b6"
   },
   "outputs": [
    {
     "data": {
      "image/png": "[encoded data removed]",
      "text/plain": [
       "<Figure size 1800x288 with 20 Axes>"
      ]
     },
     "metadata": {},
     "output_type": "display_data"
    }
   ],
   "source": [
    "visualize(mnist_data_test)"
   ]
  },
  {
   "cell_type": "markdown",
   "metadata": {
    "colab_type": "text",
    "id": "ctjRsETiO1qO"
   },
   "source": [
    "## Partitioning the Data (IID and non-IID)"
   ]
  },
  {
   "cell_type": "code",
   "execution_count": 10,
   "metadata": {
    "colab": {},
    "colab_type": "code",
    "id": "3_v8lyrgO5dD"
   },
   "outputs": [],
   "source": [
    "def iid_partition(dataset, clients):\n",
    "  \"\"\"\n",
    "  I.I.D.在客户机上对数据进行分割。\n",
    "  洗牌数据\n",
    "  分给客户\n",
    "  \n",
    "  params.Dataset\n",
    "    - 数据集(Torch.utils.Dataset)。包含MNIST图像的数据集\n",
    "    - 客户端（int）。要分割数据的客户数量\n",
    "\n",
    "  返回。\n",
    "    - 每个客户的图像索引字典\n",
    "  \"\"\"\n",
    "\n",
    "  num_items_per_client = int(len(dataset)/clients)\n",
    "  client_dict = {}\n",
    "  image_idxs = [i for i in range(len(dataset))]\n",
    "\n",
    "  for i in range(clients):\n",
    "    client_dict[i] = set(np.random.choice(image_idxs, num_items_per_client, replace=False))\n",
    "    image_idxs = list(set(image_idxs) - client_dict[i])\n",
    "\n",
    "  return client_dict"
   ]
  },
  {
   "cell_type": "code",
   "execution_count": 11,
   "metadata": {
    "colab": {},
    "colab_type": "code",
    "id": "4zMdliGMQoSl"
   },
   "outputs": [],
   "source": [
    "def non_iid_partition(dataset, clients, total_shards, shards_size, num_shards_per_client):\n",
    "  \"\"\"\n",
    "  非I.I.D数据在客户机上的分割。\n",
    "  按数字标签对数据进行排序\n",
    "  将数据划分为大小为S的N个碎片。\n",
    "  每个客户将获得X个碎片\n",
    "\n",
    "  params.Dataset\n",
    "    - 数据集(Torch.utils.Dataset)。包含MNIST图像的数据集\n",
    "    - 客户端（int）。要分割数据的客户数量\n",
    "    - total_shards (int)。要分割数据的碎片数。\n",
    "    - shards_size (int).每个碎片的大小。每个碎片的大小 \n",
    "    - num_shards_per_client（int）。每个客户收到的shards_size大小的碎片数量。\n",
    "\n",
    "  返回。\n",
    "    - 每个客户的图像索引字典\n",
    "  \"\"\"\n",
    "  \n",
    "  shard_idxs = [i for i in range(total_shards)]\n",
    "  client_dict = {i: np.array([], dtype='int64') for i in range(clients)}\n",
    "  idxs = np.arange(len(dataset))\n",
    "  data_labels = dataset.targets.numpy()\n",
    "\n",
    "  # sort the labels\n",
    "  label_idxs = np.vstack((idxs, data_labels))\n",
    "  label_idxs = label_idxs[:, label_idxs[1,:].argsort()]\n",
    "  idxs = label_idxs[0,:]\n",
    "\n",
    "  # 把数据分成大小为shards_size的总碎片。\n",
    "  #为每个客户分配num_shards_per_client。\n",
    "  for i in range(clients):\n",
    "    rand_set = set(np.random.choice(shard_idxs, num_shards_per_client, replace=False))\n",
    "    shard_idxs = list(set(shard_idxs) - rand_set)\n",
    "\n",
    "    for rand in rand_set:\n",
    "      client_dict[i] = np.concatenate((client_dict[i], idxs[rand*shards_size:(rand+1)*shards_size]), axis=0)\n",
    "  \n",
    "  return client_dict"
   ]
  },
  {
   "cell_type": "markdown",
   "metadata": {
    "colab_type": "text",
    "id": "PTfxv8kFoGAy"
   },
   "source": [
    "## Models"
   ]
  },
  {
   "cell_type": "code",
   "execution_count": 12,
   "metadata": {
    "colab": {},
    "colab_type": "code",
    "id": "CvoDNFKbZST5"
   },
   "outputs": [],
   "source": [
    "class MNIST_2NN(nn.Module):\n",
    "  \"\"\"\n",
    "  一个简单的多层感知器，有2个隐藏层，每个隐藏层有200个单元。\n",
    "  使用ReLu激活\n",
    "\n",
    "  总预期参数。199,210\n",
    "  \"\"\"\n",
    "  def __init__(self):\n",
    "    super(MNIST_2NN, self).__init__()\n",
    "\n",
    "    self.fc1 = nn.Linear(28*28, 200)\n",
    "    self.fc2 = nn.Linear(200, 200)\n",
    "    self.fc3 = nn.Linear(200, 10)\n",
    "\n",
    "  def forward(self, x):\n",
    "    x = torch.flatten(x, 1)\n",
    "    x = F.relu(self.fc1(x))\n",
    "    x = F.relu(self.fc2(x))\n",
    "    out = self.fc3(x)\n",
    "\n",
    "    return x"
   ]
  },
  {
   "cell_type": "code",
   "execution_count": 13,
   "metadata": {
    "colab": {},
    "colab_type": "code",
    "id": "ut1hZ8x3qYPZ"
   },
   "outputs": [],
   "source": [
    "class MNIST_CNN(nn.Module):\n",
    "  \"\"\"\n",
    "  CNN有两个5x5卷积洗衣机（第一个有32个通道，第二个有64个。\n",
    "  每一个都有2x2的最大池化），完全连接层有512个单元和 \n",
    "  ReLu的激活，以及最终的Softmax输出层\n",
    "\n",
    "  预期参数总数：1,663,370 1,663,370\n",
    "  \"\"\"\n",
    "  def __init__(self):\n",
    "    super(MNIST_CNN, self).__init__()\n",
    "\n",
    "    self.conv1 = nn.Conv2d(1, 32, kernel_size=5)\n",
    "    self.conv2 = nn.Conv2d(32, 64, kernel_size=5)\n",
    "    \n",
    "    self.pool = nn.MaxPool2d(2,2)\n",
    "    self.dropout = nn.Dropout(p=0.2)\n",
    "\n",
    "    self.fc1 = nn.Linear(1024, 512)\n",
    "    self.out = nn.Linear(512, 10)\n",
    "\n",
    "  def forward(self, x):\n",
    "    x = self.pool(F.relu(self.conv1(x)))\n",
    "    x = self.pool(F.relu(self.conv2(x)))\n",
    "    x = self.dropout(x)\n",
    "    x = torch.flatten(x, 1)\n",
    "    x = F.relu(self.fc1(x))\n",
    "    x = self.out(x)\n",
    "    out = F.log_softmax(x, dim=1)\n",
    "\n",
    "    return out"
   ]
  },
  {
   "cell_type": "markdown",
   "metadata": {
    "colab_type": "text",
    "id": "uVv4HA9HuLtr"
   },
   "source": [
    "### Print Model Summaries"
   ]
  },
  {
   "cell_type": "code",
   "execution_count": 14,
   "metadata": {
    "colab": {
     "base_uri": "https://localhost:8080/",
     "height": 0
    },
    "colab_type": "code",
    "id": "I5oTH710sJEt",
    "outputId": "b6061eac-5411-4d76-fa92-cf2aece3341f"
   },
   "outputs": [
    {
     "name": "stdout",
     "output_type": "stream",
     "text": [
      "MNIST MLP SUMMARY\n",
      "----------------------------------------------------------------\n",
      "        Layer (type)               Output Shape         Param #\n",
      "================================================================\n",
      "            Linear-1                  [-1, 200]         157,000\n",
      "            Linear-2                  [-1, 200]          40,200\n",
      "            Linear-3                   [-1, 10]           2,010\n",
      "================================================================\n",
      "Total params: 199,210\n",
      "Trainable params: 199,210\n",
      "Non-trainable params: 0\n",
      "----------------------------------------------------------------\n",
      "Input size (MB): 0.00\n",
      "Forward/backward pass size (MB): 0.00\n",
      "Params size (MB): 0.76\n",
      "Estimated Total Size (MB): 0.77\n",
      "----------------------------------------------------------------\n",
      "None\n",
      "\n",
      "MNIST CNN SUMMARY\n",
      "----------------------------------------------------------------\n",
      "        Layer (type)               Output Shape         Param #\n",
      "================================================================\n",
      "            Conv2d-1           [-1, 32, 24, 24]             832\n",
      "         MaxPool2d-2           [-1, 32, 12, 12]               0\n",
      "            Conv2d-3             [-1, 64, 8, 8]          51,264\n",
      "         MaxPool2d-4             [-1, 64, 4, 4]               0\n",
      "           Dropout-5             [-1, 64, 4, 4]               0\n",
      "            Linear-6                  [-1, 512]         524,800\n",
      "            Linear-7                   [-1, 10]           5,130\n",
      "================================================================\n",
      "Total params: 582,026\n",
      "Trainable params: 582,026\n",
      "Non-trainable params: 0\n",
      "----------------------------------------------------------------\n",
      "Input size (MB): 0.00\n",
      "Forward/backward pass size (MB): 0.23\n",
      "Params size (MB): 2.22\n",
      "Estimated Total Size (MB): 2.45\n",
      "----------------------------------------------------------------\n",
      "None\n"
     ]
    }
   ],
   "source": [
    "mnist_mlp = MNIST_2NN()\n",
    "mnist_cnn = MNIST_CNN()\n",
    "\n",
    "if torch.cuda.is_available():\n",
    "  mnist_mlp.cuda()\n",
    "  mnist_cnn.cuda()\n",
    "\n",
    "print(\"MNIST MLP SUMMARY\")\n",
    "print(summary(mnist_mlp, (28,28)))\n",
    "\n",
    "print(\"\\nMNIST CNN SUMMARY\")\n",
    "print(summary(mnist_cnn, (1, 28,28)))"
   ]
  },
  {
   "cell_type": "markdown",
   "metadata": {
    "colab_type": "text",
    "id": "tUYyb4T-uXmF"
   },
   "source": [
    "## Testing Loop"
   ]
  },
  {
   "cell_type": "code",
   "execution_count": 15,
   "metadata": {
    "colab": {},
    "colab_type": "code",
    "id": "uCcIZmO5uan9"
   },
   "outputs": [],
   "source": [
    "def testing(model, dataset, bs, criterion, num_classes, classes):\n",
    "  #test loss \n",
    "  test_loss = 0.0\n",
    "  correct_class = list(0. for i in range(num_classes))\n",
    "  total_class = list(0. for i in range(num_classes))\n",
    "\n",
    "  test_loader = DataLoader(dataset, batch_size=bs)\n",
    "  l = len(test_loader)\n",
    "  model.eval()\n",
    "  for data, labels in test_loader:\n",
    "\n",
    "    if torch.cuda.is_available():\n",
    "      data, labels = data.cuda(), labels.cuda()\n",
    "\n",
    "    output = model(data)\n",
    "    loss = criterion(output, labels)\n",
    "    test_loss += loss.item()*data.size(0)\n",
    "\n",
    "    _, pred = torch.max(output, 1)\n",
    "\n",
    "    correct_tensor = pred.eq(labels.data.view_as(pred))\n",
    "    correct = np.squeeze(correct_tensor.numpy()) if not torch.cuda.is_available() else np.squeeze(correct_tensor.cpu().numpy())\n",
    "\n",
    "    #test accuracy for each object class\n",
    "    for i in range(num_classes):\n",
    "      label = labels.data[i]\n",
    "      correct_class[label] += correct[i].item()\n",
    "      total_class[label] += 1\n",
    "    \n",
    "  # avg test loss\n",
    "  test_loss = test_loss/len(test_loader.dataset)\n",
    "  # print(\"Test Loss: {:.6f}\\n\".format(test_loss))\n",
    "\n",
    "  # print test accuracy\n",
    "  # for i in range(10):\n",
    "  #   if total_class[i]>0:\n",
    "  #     print('Test Accuracy of %5s: %2d%% (%2d/%2d)' % \n",
    "  #           (classes[i], 100 * correct_class[i] / total_class[i],\n",
    "  #           np.sum(correct_class[i]), np.sum(total_class[i])))\n",
    "  #   else:\n",
    "  #     print('Test Accuracy of %5s: N/A (no training examples)' % (classes[i]))\n",
    "\n",
    "  test_accuracy = 100. * np.sum(correct_class) / np.sum(total_class)\n",
    "\n",
    "  # print('\\nFinal Test  Accuracy: {:.3f} ({}/{})'.format(\n",
    "  #       100. * np.sum(correct_class) / np.sum(total_class),\n",
    "  #       np.sum(correct_class), np.sum(total_class)))\n",
    "  return test_loss, test_accuracy"
   ]
  },
  {
   "cell_type": "markdown",
   "metadata": {
    "colab_type": "text",
    "id": "gf_8XEXa-gZ7"
   },
   "source": [
    "## FedProx"
   ]
  },
  {
   "cell_type": "markdown",
   "metadata": {
    "colab_type": "text",
    "id": "cjGMTWxAOsf1"
   },
   "source": [
    "### 系统异质性模拟。\n",
    "\n",
    "根据异质性所对应的设备百分比，为选定的客户机生成纪元。\n",
    "\n",
    "将x个纪元数（在[1，E]之间统一随机选择）分别分配给0%、50%或90%的选定设备。0%的设备执行少于E个纪元的工作的设置对应于没有系统异质性的环境，而90%的设备发送其部分解决方案对应于高度异质的系统。"
   ]
  },
  {
   "cell_type": "code",
   "execution_count": 16,
   "metadata": {
    "colab": {},
    "colab_type": "code",
    "id": "i-WTHuT3OpFD"
   },
   "outputs": [],
   "source": [
    "def GenerateLocalEpochs(percentage, size, max_epochs):\n",
    "  ''' \n",
    "  该方法为选定的客户生成时代列表。\n",
    "  复制系统的异质性\n",
    "\n",
    "  Params:\n",
    "    百分比：客户少于E时代的百分比。\n",
    "    size: 列表的总大小\n",
    "    max_epochs: 本地纪元的最大值。\n",
    "  \n",
    "  返回。\n",
    "    每个客户端更新的大小时间列表\n",
    "\n",
    "  '''\n",
    "\n",
    "  # if percentage is 0 then each client runs for E epochs\n",
    "  if percentage == 0:\n",
    "      return np.array([max_epochs]*size)\n",
    "  else:\n",
    "    # get the number of clients to have fewer than E epochs\n",
    "    heterogenous_size = int((percentage/100) * size)\n",
    "\n",
    "    # generate random uniform epochs of heterogenous size between 1 and E\n",
    "    epoch_list = np.random.randint(1, max_epochs, heterogenous_size)\n",
    "\n",
    "    # the rest of the clients will have E epochs\n",
    "    remaining_size = size - heterogenous_size\n",
    "    rem_list = [max_epochs]*remaining_size\n",
    "\n",
    "    epoch_list = np.append(epoch_list, rem_list, axis=0)\n",
    "    \n",
    "    # shuffle the list and return\n",
    "    np.random.shuffle(epoch_list)\n",
    "\n",
    "    return epoch_list"
   ]
  },
  {
   "cell_type": "markdown",
   "metadata": {
    "colab_type": "text",
    "id": "L-aNdQsQ-Kvp"
   },
   "source": [
    "### Local Training (Client Update)\n",
    "\n",
    "在客户端对模型进行本地培训\n"
   ]
  },
  {
   "cell_type": "code",
   "execution_count": 17,
   "metadata": {
    "colab": {},
    "colab_type": "code",
    "id": "oX6OsQyO-Gz7"
   },
   "outputs": [],
   "source": [
    "class CustomDataset(Dataset):\n",
    "  def __init__(self, dataset, idxs):\n",
    "      self.dataset = dataset\n",
    "      self.idxs = list(idxs)\n",
    "\n",
    "  def __len__(self):\n",
    "      return len(self.idxs)\n",
    "\n",
    "  def __getitem__(self, item):\n",
    "      image, label = self.dataset[self.idxs[item]]\n",
    "      return image, label\n",
    "\n",
    "class ClientUpdate(object):\n",
    "  def __init__(self, dataset, batchSize, learning_rate, epochs, idxs, mu, algorithm):\n",
    "    self.train_loader = DataLoader(CustomDataset(dataset, idxs), batch_size=batchSize, shuffle=True)\n",
    "    self.algorithm = algorithm\n",
    "    self.learning_rate = learning_rate\n",
    "    self.epochs = epochs\n",
    "\n",
    "  def train(self, model):\n",
    "    # print(\"Client training for {} epochs.\".format(self.epochs))\n",
    "    criterion = nn.CrossEntropyLoss()\n",
    "    proximal_criterion = nn.MSELoss(reduction='mean')\n",
    "    optimizer = torch.optim.SGD(model.parameters(), lr=self.learning_rate, momentum=0.5)\n",
    "\n",
    "    # 利用全局模型的权重进行近端项计算。\n",
    "    global_model = copy.deepcopy(model)\n",
    "\n",
    "    # calculate local training time\n",
    "    start_time = time.time()\n",
    "\n",
    "\n",
    "    e_loss = []\n",
    "    for epoch in range(1, self.epochs+1):\n",
    "\n",
    "      train_loss = 0.0\n",
    "\n",
    "      model.train()\n",
    "      for data, labels in self.train_loader:\n",
    "\n",
    "        if torch.cuda.is_available():\n",
    "          data, labels = data.cuda(), labels.cuda()\n",
    "\n",
    "        # clear the gradients\n",
    "        optimizer.zero_grad()\n",
    "        # make a forward pass\n",
    "        output = model(data)\n",
    "\n",
    "        # calculate the loss + the proximal term\n",
    "        _, pred = torch.max(output, 1)\n",
    "\n",
    "        if self.algorithm == 'fedprox':\n",
    "          proximal_term = 0.0\n",
    "\n",
    "          # iterate through the current and global model parameters\n",
    "          for w, w_t in zip(model.parameters(), global_model.parameters()) :\n",
    "            # update the proximal term \n",
    "            #proximal_term += torch.sum(torch.abs((w-w_t)**2))\n",
    "            proximal_term += (w-w_t).norm(2)\n",
    "\n",
    "          loss = criterion(output, labels) + (mu/2)*proximal_term\n",
    "        else:\n",
    "          loss = criterion(output, labels)\n",
    "    \n",
    "        # do a backwards pass\n",
    "        loss.backward()\n",
    "        # perform a single optimization step\n",
    "        optimizer.step()\n",
    "        # update training loss\n",
    "        train_loss += loss.item()*data.size(0)\n",
    "\n",
    "      # average losses\n",
    "      train_loss = train_loss/len(self.train_loader.dataset)\n",
    "      e_loss.append(train_loss)\n",
    "\n",
    "    total_loss = sum(e_loss)/len(e_loss)\n",
    "\n",
    "    return model.state_dict(), total_loss, (time.time() - start_time)"
   ]
  },
  {
   "cell_type": "markdown",
   "metadata": {
    "colab_type": "text",
    "id": "Ukgh1DVHE2Ds"
   },
   "source": [
    "### 服务器端培训\n",
    "\n",
    "按照论文中的算法1"
   ]
  },
  {
   "cell_type": "code",
   "execution_count": 18,
   "metadata": {
    "colab": {},
    "colab_type": "code",
    "id": "1NF1e33BgpeL"
   },
   "outputs": [],
   "source": [
    "def training(model, rounds, batch_size, lr, ds, data_dict, test_data_dict, C, K, E, mu, percentage, plt_title, plt_color, target_test_accuracy, algorithm=\"fedprox\"):\n",
    "  \"\"\"\n",
    "  函数实现了FedAvg论文中的Federated Averaging算法。\n",
    "  具体来说，这个函数用于服务器端的训练和权重更新\n",
    "\n",
    "  参数。\n",
    "    - 模型。          要训练的PyTorch模型\n",
    "    - 轮次。         客户端更新的通信轮次\n",
    "    - batch_size:      客户更新培训的批次大小\n",
    "    - lr:              用于客户更新培训的学习率\n",
    "    - ds:              用于训练的数据集\n",
    "    - data_dict：用于训练的数据分区类型（IID或非IID）。\n",
    "    - test_data_dict:  用于测试模型的数据\n",
    "    - C：每轮随机选取进行计算的客户的分数\n",
    "    - K：客户总数\n",
    "    - E：每个客户端每轮对其本地数据集的训练次数。\n",
    "    - 亩：近端项常数\n",
    "    - 百分比：所选客户中E次以下的百分比\n",
    "  返回。\n",
    "    - model:           在服务器上训练的模型\n",
    "  \"\"\"\n",
    "\n",
    "  # 全局模型权重\n",
    "  global_weights = model.state_dict()\n",
    "\n",
    "  # training loss\n",
    "  train_loss = []\n",
    "\n",
    "  # test accuracy\n",
    "  test_acc = []\n",
    "\n",
    "  # store last loss for convergence\n",
    "  last_loss = 0.0\n",
    "\n",
    "  # total time taken \n",
    "  total_time = 0\n",
    "\n",
    "  print(f\"System heterogeneity set to {percentage}% stragglers.\\n\")\n",
    "  print(f\"Picking {max(int(C*K),1 )} random clients per round.\\n\")\n",
    "\n",
    "  for curr_round in range(1, rounds+1):\n",
    "    w, local_loss, lst_local_train_time = [], [], []\n",
    "\n",
    "    m = max(int(C*K), 1)\n",
    "\n",
    "    heterogenous_epoch_list = GenerateLocalEpochs(percentage, size=m, max_epochs=E)\n",
    "    heterogenous_epoch_list = np.array(heterogenous_epoch_list)\n",
    "\n",
    "    S_t = np.random.choice(range(K), m, replace=False)\n",
    "    S_t = np.array(S_t)\n",
    "    \n",
    "    # For Federated Averaging, drop all the clients that are stragglers对于联合平均，放弃所有的散兵游勇的客户。\n",
    "    if algorithm == 'fedavg':\n",
    "      stragglers_indices = np.argwhere(heterogenous_epoch_list < E)\n",
    "      heterogenous_epoch_list = np.delete(heterogenous_epoch_list, stragglers_indices)\n",
    "      S_t = np.delete(S_t, stragglers_indices)\n",
    "\n",
    "    for k, epoch in zip(S_t, heterogenous_epoch_list):\n",
    "      local_update = ClientUpdate(dataset=ds, batchSize=batch_size, learning_rate=lr, epochs=epoch, idxs=data_dict[k], mu=mu, algorithm=algorithm)\n",
    "      weights, loss, local_train_time = local_update.train(model=copy.deepcopy(model))\n",
    "\n",
    "      w.append(copy.deepcopy(weights))\n",
    "      local_loss.append(copy.deepcopy(loss))\n",
    "      lst_local_train_time.append(local_train_time)\n",
    "\n",
    "    # 计算更新全局权重的时间\n",
    "    global_start_time = time.time()\n",
    "\n",
    "    # 更新全局权重\n",
    "    weights_avg = copy.deepcopy(w[0])\n",
    "    for k in weights_avg.keys():\n",
    "      for i in range(1, len(w)):\n",
    "        weights_avg[k] += w[i][k]\n",
    "\n",
    "      weights_avg[k] = torch.div(weights_avg[k], len(w))\n",
    "\n",
    "    global_weights = weights_avg\n",
    "\n",
    "    global_end_time = time.time()\n",
    "\n",
    "    # calculate total time \n",
    "    total_time += (global_end_time - global_start_time) + sum(lst_local_train_time)/len(lst_local_train_time)\n",
    "\n",
    "    # 将更新后的权重移到我们的模型状态下。\n",
    "    model.load_state_dict(global_weights)\n",
    "\n",
    "    # loss\n",
    "    loss_avg = sum(local_loss) / len(local_loss)\n",
    "\n",
    "    # test accuracy\n",
    "    criterion = nn.CrossEntropyLoss()\n",
    "    test_loss, test_accuracy = testing(model, test_data_dict, 128, criterion, num_classes, classes_test)\n",
    "    \n",
    "\n",
    "\n",
    "    print(f\"Round: {curr_round}... \\tAverage Train Loss: {round(loss_avg, 3)}... \\tTest Loss: {test_loss}... \\tTest Accuracy: {test_accuracy}\")\n",
    "    train_loss.append(loss_avg)\n",
    "\n",
    "    test_acc.append(test_accuracy)\n",
    "    # 如果我们达到目标测试精度，就会中断\n",
    "    if test_accuracy >= target_test_accuracy:\n",
    "      rounds = curr_round\n",
    "      break\n",
    "\n",
    "    # 如果我们实现了收敛，即连续两轮之间的损失<0.0001，就会中断。\n",
    "    if algorithm == 'fedprox' and abs(loss_avg - last_loss) < 0.0001:\n",
    "      rounds = curr_round\n",
    "      break\n",
    "    \n",
    "    # update the last loss\n",
    "    last_loss = loss_avg\n",
    "\n",
    "  # plot train loss\n",
    "  fig, ax = plt.subplots()\n",
    "  x_axis = np.arange(1, rounds+1)\n",
    "  y_axis = np.array(train_loss)\n",
    "  ax.plot(x_axis, y_axis)\n",
    "\n",
    "  ax.set(xlabel='Number of Rounds', ylabel='Train Loss',\n",
    "       title=plt_title)\n",
    "  ax.grid()\n",
    "  fig.savefig(plt_title+'.jpg', format='jpg')\n",
    "\n",
    "  # plot test accuracy\n",
    "  fig1, ax1 = plt.subplots()\n",
    "  x_axis1 = np.arange(1, rounds+1)\n",
    "  y_axis1 = np.array(test_acc)\n",
    "  ax1.plot(x_axis1, y_axis1)\n",
    "\n",
    "  ax1.set(xlabel='Number of Rounds', ylabel='Test Accuracy', title=plt_title)\n",
    "  ax1.grid()\n",
    "  fig1.savefig(plt_title+'-test.jpg', format='jpg')\n",
    "  \n",
    "  print(\"Training Done!\")\n",
    "  # print(\"Total time taken to Train: {}\".format(get_time_format(total_time)))\n",
    "\n",
    "  return model "
   ]
  },
  {
   "cell_type": "markdown",
   "metadata": {
    "colab_type": "text",
    "id": "4hO5oV6aXqeh"
   },
   "source": [
    "## Special Case of FedProx with mu = 0 where it is Federated Averaging"
   ]
  },
  {
   "cell_type": "markdown",
   "metadata": {
    "colab_type": "text",
    "id": "flSQv_P4zCfx"
   },
   "source": [
    "### Train\n"
   ]
  },
  {
   "cell_type": "code",
   "execution_count": 19,
   "metadata": {
    "colab": {
     "base_uri": "https://localhost:8080/",
     "height": 0
    },
    "colab_type": "code",
    "id": "0ZalcKZtEseA",
    "outputId": "35adcc5f-5210-45f5-d2c1-817421fcb5d0"
   },
   "outputs": [
    {
     "name": "stdout",
     "output_type": "stream",
     "text": [
      "System heterogeneity set to 0% stragglers.\n",
      "\n",
      "Picking 10 random clients per round.\n",
      "\n",
      "Round: 1... \tAverage Train Loss: 0.25... \tTest Loss: 0.17049376853406428... \tTest Accuracy: 95.69620253164557\n",
      "Round: 2... \tAverage Train Loss: 0.04... \tTest Loss: 0.12431390246255324... \tTest Accuracy: 97.0886075949367\n",
      "Round: 3... \tAverage Train Loss: 0.03... \tTest Loss: 0.10474479146893136... \tTest Accuracy: 97.59493670886076\n",
      "Round: 4... \tAverage Train Loss: 0.022... \tTest Loss: 0.09010547121274284... \tTest Accuracy: 98.22784810126582\n",
      "Round: 5... \tAverage Train Loss: 0.017... \tTest Loss: 0.08123345862051938... \tTest Accuracy: 98.22784810126582\n",
      "Round: 6... \tAverage Train Loss: 0.015... \tTest Loss: 0.07143230602220865... \tTest Accuracy: 98.48101265822785\n",
      "Round: 7... \tAverage Train Loss: 0.014... \tTest Loss: 0.06792789494401659... \tTest Accuracy: 98.48101265822785\n",
      "Round: 8... \tAverage Train Loss: 0.015... \tTest Loss: 0.06043080994997872... \tTest Accuracy: 98.60759493670886\n",
      "Round: 9... \tAverage Train Loss: 0.012... \tTest Loss: 0.060136482739147325... \tTest Accuracy: 98.73417721518987\n",
      "Round: 10... \tAverage Train Loss: 0.01... \tTest Loss: 0.056823501353128816... \tTest Accuracy: 98.73417721518987\n",
      "Round: 11... \tAverage Train Loss: 0.01... \tTest Loss: 0.05392834924376803... \tTest Accuracy: 98.9873417721519\n",
      "Round: 12... \tAverage Train Loss: 0.01... \tTest Loss: 0.0510342222668347... \tTest Accuracy: 98.9873417721519\n",
      "Round: 13... \tAverage Train Loss: 0.008... \tTest Loss: 0.052316361373188555... \tTest Accuracy: 98.9873417721519\n",
      "Round: 14... \tAverage Train Loss: 0.01... \tTest Loss: 0.04687417698274803... \tTest Accuracy: 98.9873417721519\n",
      "Round: 15... \tAverage Train Loss: 0.009... \tTest Loss: 0.04790468853814673... \tTest Accuracy: 98.9873417721519\n",
      "Round: 16... \tAverage Train Loss: 0.007... \tTest Loss: 0.049973721729758835... \tTest Accuracy: 98.9873417721519\n",
      "Round: 17... \tAverage Train Loss: 0.008... \tTest Loss: 0.046647636219213744... \tTest Accuracy: 98.9873417721519\n",
      "Round: 18... \tAverage Train Loss: 0.008... \tTest Loss: 0.04404706785790404... \tTest Accuracy: 98.9873417721519\n",
      "Training Done!\n"
     ]
    },
    {
     "data": {
      "image/png": "[encoded data removed]",
      "text/plain": [
       "<Figure size 432x288 with 1 Axes>"
      ]
     },
     "metadata": {
      "needs_background": "light"
     },
     "output_type": "display_data"
    },
    {
     "data": {
      "image/png": "[encoded data removed]",
      "text/plain": [
       "<Figure size 432x288 with 1 Axes>"
      ]
     },
     "metadata": {
      "needs_background": "light"
     },
     "output_type": "display_data"
    }
   ],
   "source": [
    "# number of training rounds\n",
    "rounds = 20\n",
    "# client fraction\n",
    "C = 0.1\n",
    "# number of clients\n",
    "K = 100\n",
    "# number of training passes on local dataset for each roung\n",
    "E = 20\n",
    "# batch size\n",
    "batch_size = 10\n",
    "# learning Rate\n",
    "lr=0.01\n",
    "# proximal term constant\n",
    "mu = 0.0\n",
    "# percentage of clients to have fewer than E epochs\n",
    "percentage = 0\n",
    "# target test accuracy\n",
    "target_test_accuracy=99.0\n",
    "# data partition dictionary\n",
    "iid_dict = iid_partition(mnist_data_train, 100)\n",
    "# load model\n",
    "mnist_cnn = MNIST_CNN()\n",
    "\n",
    "if torch.cuda.is_available():\n",
    "  mnist_cnn.cuda()\n",
    "\n",
    "mnist_cnn_iid_trained = training(mnist_cnn, rounds, batch_size, lr, mnist_data_train, iid_dict, mnist_data_test, C, K, E, mu, percentage, \"FedProx MNIST CNN Special Case (FedAvg)\", \"orange\", target_test_accuracy)"
   ]
  },
  {
   "cell_type": "markdown",
   "metadata": {
    "colab_type": "text",
    "id": "b4btCseB0MtI"
   },
   "source": [
    " # Training with 0% probability of system heterogeneity"
   ]
  },
  {
   "cell_type": "markdown",
   "metadata": {
    "colab_type": "text",
    "id": "ewgOl5Va6DQs"
   },
   "source": [
    "## MNIST CNN on IID"
   ]
  },
  {
   "cell_type": "markdown",
   "metadata": {
    "colab_type": "text",
    "id": "Q-NXHBgy6DQ1"
   },
   "source": [
    "### Train\n"
   ]
  },
  {
   "cell_type": "code",
   "execution_count": 20,
   "metadata": {
    "colab": {
     "base_uri": "https://localhost:8080/",
     "height": 947
    },
    "colab_type": "code",
    "id": "CuPEOShG6DQ2",
    "outputId": "40d6c431-cc48-4938-e563-56cd1471dcda"
   },
   "outputs": [
    {
     "name": "stdout",
     "output_type": "stream",
     "text": [
      "System heterogeneity set to 0% stragglers.\n",
      "\n",
      "Picking 10 random clients per round.\n",
      "\n",
      "Round: 1... \tAverage Train Loss: 0.277... \tTest Loss: 0.16346356416419147... \tTest Accuracy: 96.32911392405063\n",
      "Round: 2... \tAverage Train Loss: 0.054... \tTest Loss: 0.1226399223064538... \tTest Accuracy: 97.0886075949367\n",
      "Round: 3... \tAverage Train Loss: 0.034... \tTest Loss: 0.10646762717429083... \tTest Accuracy: 97.46835443037975\n",
      "Round: 4... \tAverage Train Loss: 0.036... \tTest Loss: 0.08473946548650274... \tTest Accuracy: 97.59493670886076\n",
      "Round: 5... \tAverage Train Loss: 0.031... \tTest Loss: 0.07371780116481241... \tTest Accuracy: 97.46835443037975\n",
      "Round: 6... \tAverage Train Loss: 0.026... \tTest Loss: 0.07110391768519767... \tTest Accuracy: 97.72151898734177\n",
      "Round: 7... \tAverage Train Loss: 0.022... \tTest Loss: 0.06417540403420863... \tTest Accuracy: 98.10126582278481\n",
      "Round: 8... \tAverage Train Loss: 0.022... \tTest Loss: 0.057543255817960014... \tTest Accuracy: 98.35443037974683\n",
      "Round: 9... \tAverage Train Loss: 0.019... \tTest Loss: 0.05777846025340841... \tTest Accuracy: 98.60759493670886\n",
      "Round: 10... \tAverage Train Loss: 0.018... \tTest Loss: 0.05564700445647904... \tTest Accuracy: 98.60759493670886\n",
      "Round: 11... \tAverage Train Loss: 0.016... \tTest Loss: 0.05458108130911569... \tTest Accuracy: 98.73417721518987\n",
      "Round: 12... \tAverage Train Loss: 0.016... \tTest Loss: 0.05309128946069832... \tTest Accuracy: 98.73417721518987\n",
      "Round: 13... \tAverage Train Loss: 0.015... \tTest Loss: 0.05090930010651209... \tTest Accuracy: 98.60759493670886\n",
      "Round: 14... \tAverage Train Loss: 0.018... \tTest Loss: 0.049784760507632746... \tTest Accuracy: 98.86075949367088\n",
      "Round: 15... \tAverage Train Loss: 0.017... \tTest Loss: 0.04563995804693404... \tTest Accuracy: 98.9873417721519\n",
      "Round: 16... \tAverage Train Loss: 0.013... \tTest Loss: 0.047237869732937546... \tTest Accuracy: 98.9873417721519\n",
      "Round: 17... \tAverage Train Loss: 0.016... \tTest Loss: 0.043417987526067736... \tTest Accuracy: 98.9873417721519\n",
      "Round: 18... \tAverage Train Loss: 0.013... \tTest Loss: 0.04128146539041627... \tTest Accuracy: 99.24050632911393\n",
      "Training Done!\n"
     ]
    },
    {
     "data": {
      "image/png": "[encoded data removed]",
      "text/plain": [
       "<Figure size 432x288 with 1 Axes>"
      ]
     },
     "metadata": {
      "needs_background": "light"
     },
     "output_type": "display_data"
    },
    {
     "data": {
      "image/png": "[encoded data removed]",
      "text/plain": [
       "<Figure size 432x288 with 1 Axes>"
      ]
     },
     "metadata": {
      "needs_background": "light"
     },
     "output_type": "display_data"
    }
   ],
   "source": [
    "# number of training rounds\n",
    "rounds = 20\n",
    "# client fraction\n",
    "C = 0.1\n",
    "# number of clients\n",
    "K = 100\n",
    "# 每个路由器在本地数据集上的训练次数。\n",
    "E = 20\n",
    "# batch size\n",
    "batch_size = 10\n",
    "# learning Rate\n",
    "lr=0.01\n",
    "# proximal term constant\n",
    "mu = 0.01\n",
    "# percentage of clients to have fewer than E epochs 少于E周期的客户百分比\n",
    "percentage = 0\n",
    "# target_test_accuracy\n",
    "target_test_accuracy=99.0\n",
    "# data partition dictionary\n",
    "iid_dict = iid_partition(mnist_data_train, 100)\n",
    "# load model\n",
    "mnist_cnn = MNIST_CNN()\n",
    "\n",
    "if torch.cuda.is_available():\n",
    "  mnist_cnn.cuda()\n",
    "\n",
    "mnist_cnn_iid_trained = training(mnist_cnn, rounds, batch_size, lr, mnist_data_train, iid_dict, mnist_data_test, C, K, E, mu, percentage, \"FedProx MNIST CNN on IID Dataset (0%)\", \"orange\", target_test_accuracy)"
   ]
  },
  {
   "cell_type": "markdown",
   "metadata": {
    "colab_type": "text",
    "id": "uF8MdSIUYcnl"
   },
   "source": [
    "## MNIST CNN on Non IID"
   ]
  },
  {
   "cell_type": "markdown",
   "metadata": {
    "colab_type": "text",
    "id": "a6wXX7JW11bx"
   },
   "source": [
    "### Train\n"
   ]
  },
  {
   "cell_type": "code",
   "execution_count": 21,
   "metadata": {
    "colab": {
     "base_uri": "https://localhost:8080/",
     "height": 811
    },
    "colab_type": "code",
    "id": "fCD3kBCKYfBK",
    "outputId": "9cb5f594-1191-4900-e5a8-b715bb330a89",
    "scrolled": true
   },
   "outputs": [
    {
     "name": "stdout",
     "output_type": "stream",
     "text": [
      "System heterogeneity set to 0% stragglers.\n",
      "\n",
      "Picking 10 random clients per round.\n",
      "\n",
      "Round: 1... \tAverage Train Loss: 0.046... \tTest Loss: 2.020266538619995... \tTest Accuracy: 38.9873417721519\n",
      "Round: 2... \tAverage Train Loss: 0.025... \tTest Loss: 1.6584369752883912... \tTest Accuracy: 48.10126582278481\n",
      "Round: 3... \tAverage Train Loss: 0.028... \tTest Loss: 1.4389110403060914... \tTest Accuracy: 60.88607594936709\n",
      "Round: 4... \tAverage Train Loss: 0.023... \tTest Loss: 0.9048837572097779... \tTest Accuracy: 72.27848101265823\n",
      "Round: 5... \tAverage Train Loss: 0.018... \tTest Loss: 0.939396342086792... \tTest Accuracy: 64.30379746835443\n",
      "Round: 6... \tAverage Train Loss: 0.017... \tTest Loss: 0.5469078992843628... \tTest Accuracy: 82.53164556962025\n",
      "Round: 7... \tAverage Train Loss: 0.015... \tTest Loss: 0.42866552686691284... \tTest Accuracy: 87.34177215189874\n",
      "Round: 8... \tAverage Train Loss: 0.014... \tTest Loss: 0.3065548618555069... \tTest Accuracy: 90.75949367088607\n",
      "Round: 9... \tAverage Train Loss: 0.011... \tTest Loss: 0.22322292302846908... \tTest Accuracy: 94.30379746835443\n",
      "Round: 10... \tAverage Train Loss: 0.012... \tTest Loss: 0.3013381259918213... \tTest Accuracy: 90.88607594936708\n",
      "Round: 11... \tAverage Train Loss: 0.006... \tTest Loss: 0.31833395965099337... \tTest Accuracy: 90.12658227848101\n",
      "Round: 12... \tAverage Train Loss: 0.012... \tTest Loss: 0.18811681392192842... \tTest Accuracy: 94.9367088607595\n",
      "Round: 13... \tAverage Train Loss: 0.011... \tTest Loss: 0.25198092106580733... \tTest Accuracy: 92.53164556962025\n",
      "Round: 14... \tAverage Train Loss: 0.011... \tTest Loss: 0.17546844535768033... \tTest Accuracy: 94.43037974683544\n",
      "Training Done!\n"
     ]
    },
    {
     "data": {
      "image/png": "[encoded data removed]",
      "text/plain": [
       "<Figure size 432x288 with 1 Axes>"
      ]
     },
     "metadata": {
      "needs_background": "light"
     },
     "output_type": "display_data"
    },
    {
     "data": {
      "image/png": "[encoded data removed]",
      "text/plain": [
       "<Figure size 432x288 with 1 Axes>"
      ]
     },
     "metadata": {
      "needs_background": "light"
     },
     "output_type": "display_data"
    }
   ],
   "source": [
    "# number of training rounds\n",
    "rounds = 100\n",
    "# client fraction\n",
    "C = 0.1\n",
    "# number of clients\n",
    "K = 100\n",
    "# number of training passes on local dataset for each roung\n",
    "E = 20\n",
    "# batch size\n",
    "batch_size = 10\n",
    "# learning Rate\n",
    "lr=0.01\n",
    "# proximal term constant\n",
    "mu = 0.01\n",
    "# percentage of clients to have fewer than E epochs\n",
    "percentage = 0\n",
    "\n",
    "# target_test_accuracy\n",
    "target_test_accuracy=99.0\n",
    "# dict containing different type of data partition\n",
    "data_dict = non_iid_partition(mnist_data_train, 100, 200, 300, 2)\n",
    "# load model\n",
    "mnist_cnn = MNIST_CNN()\n",
    "\n",
    "if torch.cuda.is_available():\n",
    "  mnist_cnn.cuda()\n",
    "\n",
    "mnist_cnn_non_iid_trained = training(mnist_cnn, rounds, batch_size, lr, mnist_data_train, data_dict, mnist_data_test, C, K, E, mu, percentage, \"FedProx MNIST CNN on non-IID Dataset (0%)\", \"green\", target_test_accuracy)\n"
   ]
  },
  {
   "cell_type": "markdown",
   "metadata": {
    "colab_type": "text",
    "id": "z_jifdzniuhm"
   },
   "source": [
    "## MNIST MLP on IID"
   ]
  },
  {
   "cell_type": "markdown",
   "metadata": {
    "colab_type": "text",
    "id": "uh-te0Od2XGO"
   },
   "source": [
    "### Train"
   ]
  },
  {
   "cell_type": "code",
   "execution_count": 23,
   "metadata": {
    "colab": {
     "base_uri": "https://localhost:8080/",
     "height": 777
    },
    "colab_type": "code",
    "id": "UmpWmKOQixVV",
    "outputId": "5589d55e-6803-4961-cf94-35a0c3d45799"
   },
   "outputs": [
    {
     "name": "stdout",
     "output_type": "stream",
     "text": [
      "System heterogeneity set to 90% stragglers.\n",
      "\n",
      "Picking 10 random clients per round.\n",
      "\n",
      "Round: 1... \tAverage Train Loss: 0.652... \tTest Loss: 0.34382249405384063... \tTest Accuracy: 91.64556962025317\n",
      "Round: 2... \tAverage Train Loss: 0.231... \tTest Loss: 0.30314429025650025... \tTest Accuracy: 92.53164556962025\n",
      "Round: 3... \tAverage Train Loss: 0.14... \tTest Loss: 0.28435067482590676... \tTest Accuracy: 93.29113924050633\n",
      "Round: 4... \tAverage Train Loss: 0.125... \tTest Loss: 0.2650254020392895... \tTest Accuracy: 93.54430379746836\n",
      "Round: 5... \tAverage Train Loss: 0.157... \tTest Loss: 0.24615731883943082... \tTest Accuracy: 93.79746835443038\n",
      "Round: 6... \tAverage Train Loss: 0.11... \tTest Loss: 0.23172753547132016... \tTest Accuracy: 93.67088607594937\n",
      "Round: 7... \tAverage Train Loss: 0.116... \tTest Loss: 0.2169306075155735... \tTest Accuracy: 93.79746835443038\n",
      "Round: 8... \tAverage Train Loss: 0.087... \tTest Loss: 0.2112577001363039... \tTest Accuracy: 93.54430379746836\n",
      "Round: 9... \tAverage Train Loss: 0.067... \tTest Loss: 0.20247169665768744... \tTest Accuracy: 93.67088607594937\n",
      "Round: 10... \tAverage Train Loss: 0.085... \tTest Loss: 0.19094912275895476... \tTest Accuracy: 94.0506329113924\n",
      "Training Done!\n"
     ]
    },
    {
     "data": {
      "image/png": "[encoded data removed]",
      "text/plain": [
       "<Figure size 432x288 with 1 Axes>"
      ]
     },
     "metadata": {
      "needs_background": "light"
     },
     "output_type": "display_data"
    },
    {
     "data": {
      "image/png": "[encoded data removed]",
      "text/plain": [
       "<Figure size 432x288 with 1 Axes>"
      ]
     },
     "metadata": {
      "needs_background": "light"
     },
     "output_type": "display_data"
    }
   ],
   "source": [
    "# number of training rounds\n",
    "rounds = 100\n",
    "# client fraction\n",
    "C = 0.1\n",
    "# number of clients\n",
    "K = 100\n",
    "# number of training passes on local dataset for each round\n",
    "E = 20\n",
    "# batch size\n",
    "batch_size = 10\n",
    "# learning Rate\n",
    "lr=0.01\n",
    "# proximal term constant\n",
    "mu = 0.01\n",
    "# percentage of clients to have fewer than E epochs\n",
    "percentage = 0\n",
    "# target_test_accuracy\n",
    "target_test_accuracy=94.0\n",
    "# dict containing different type of data partition\n",
    "data_dict = iid_partition(mnist_data_train, 100)\n",
    "# load model\n",
    "mnist_mlp = MNIST_2NN()\n",
    "\n",
    "if torch.cuda.is_available():\n",
    "  mnist_mlp.cuda()\n",
    "\n",
    "mnist_mlp_iid_trained = training(mnist_mlp, rounds, batch_size, lr, mnist_data_train, data_dict, mnist_data_test, C, K, E, mu, percentage, \"FedProx MNIST MLP on IID Dataset (0%)\", \"orange\", target_test_accuracy)\n"
   ]
  },
  {
   "cell_type": "markdown",
   "metadata": {
    "colab_type": "text",
    "id": "J8jzEyO0iywz"
   },
   "source": [
    "## MNIST MLP on Non IID"
   ]
  },
  {
   "cell_type": "markdown",
   "metadata": {
    "colab_type": "text",
    "id": "pJFepr3y2bF-"
   },
   "source": [
    "### Train"
   ]
  },
  {
   "cell_type": "code",
   "execution_count": 20,
   "metadata": {
    "colab": {
     "base_uri": "https://localhost:8080/",
     "height": 1000
    },
    "colab_type": "code",
    "id": "EBKO44Hgi1Uh",
    "outputId": "0842559f-da96-4efd-c965-9d27cc5bcba2"
   },
   "outputs": [
    {
     "name": "stdout",
     "output_type": "stream",
     "text": [
      "System heterogeneity set to 90% stragglers.\n",
      "\n",
      "Picking 10 random clients per round.\n",
      "\n",
      "Round: 1... \tAverage Train Loss: 0.147... \tTest Loss: 3.897266345977783... \tTest Accuracy: 14.556962025316455\n",
      "Round: 2... \tAverage Train Loss: 0.082... \tTest Loss: 3.2369390007019043... \tTest Accuracy: 21.645569620253166\n",
      "Round: 3... \tAverage Train Loss: 0.045... \tTest Loss: 2.301664499473572... \tTest Accuracy: 30.632911392405063\n",
      "Round: 4... \tAverage Train Loss: 0.057... \tTest Loss: 1.9964432664871217... \tTest Accuracy: 45.18987341772152\n",
      "Round: 5... \tAverage Train Loss: 0.043... \tTest Loss: 1.3883989372253418... \tTest Accuracy: 59.49367088607595\n",
      "Round: 6... \tAverage Train Loss: 0.04... \tTest Loss: 0.9875138891220093... \tTest Accuracy: 69.24050632911393\n",
      "Round: 7... \tAverage Train Loss: 0.051... \tTest Loss: 1.0221508581161498... \tTest Accuracy: 63.29113924050633\n",
      "Round: 8... \tAverage Train Loss: 0.019... \tTest Loss: 1.0072558596611023... \tTest Accuracy: 62.91139240506329\n",
      "Round: 9... \tAverage Train Loss: 0.026... \tTest Loss: 0.7723623979568481... \tTest Accuracy: 68.60759493670886\n",
      "Round: 10... \tAverage Train Loss: 0.025... \tTest Loss: 0.6894950699806214... \tTest Accuracy: 73.92405063291139\n",
      "Round: 11... \tAverage Train Loss: 0.021... \tTest Loss: 0.5485036952495574... \tTest Accuracy: 82.40506329113924\n",
      "Round: 12... \tAverage Train Loss: 0.037... \tTest Loss: 0.6735534970283509... \tTest Accuracy: 73.67088607594937\n",
      "Round: 13... \tAverage Train Loss: 0.033... \tTest Loss: 0.563926306438446... \tTest Accuracy: 78.35443037974683\n",
      "Round: 14... \tAverage Train Loss: 0.024... \tTest Loss: 0.4508830524921417... \tTest Accuracy: 86.45569620253164\n",
      "Round: 15... \tAverage Train Loss: 0.028... \tTest Loss: 0.547755115890503... \tTest Accuracy: 80.0\n",
      "Round: 16... \tAverage Train Loss: 0.032... \tTest Loss: 0.4129133095741272... \tTest Accuracy: 87.34177215189874\n",
      "Round: 17... \tAverage Train Loss: 0.018... \tTest Loss: 0.4237902881383896... \tTest Accuracy: 86.9620253164557\n",
      "Round: 18... \tAverage Train Loss: 0.02... \tTest Loss: 0.4835678117275238... \tTest Accuracy: 82.15189873417721\n",
      "Round: 19... \tAverage Train Loss: 0.019... \tTest Loss: 0.5950306791782379... \tTest Accuracy: 75.18987341772151\n",
      "Round: 20... \tAverage Train Loss: 0.018... \tTest Loss: 0.4536558573722839... \tTest Accuracy: 81.77215189873418\n",
      "Round: 21... \tAverage Train Loss: 0.023... \tTest Loss: 0.5365456020355225... \tTest Accuracy: 81.13924050632912\n",
      "Round: 22... \tAverage Train Loss: 0.012... \tTest Loss: 0.4398199642181396... \tTest Accuracy: 83.79746835443038\n",
      "Round: 23... \tAverage Train Loss: 0.024... \tTest Loss: 0.5463483184814453... \tTest Accuracy: 77.59493670886076\n",
      "Round: 24... \tAverage Train Loss: 0.033... \tTest Loss: 0.3667656172275543... \tTest Accuracy: 85.9493670886076\n",
      "Round: 25... \tAverage Train Loss: 0.028... \tTest Loss: 0.5228320558547974... \tTest Accuracy: 80.12658227848101\n",
      "Round: 26... \tAverage Train Loss: 0.019... \tTest Loss: 0.5474350475311279... \tTest Accuracy: 79.74683544303798\n",
      "Round: 27... \tAverage Train Loss: 0.014... \tTest Loss: 0.5183770678520203... \tTest Accuracy: 80.37974683544304\n",
      "Round: 28... \tAverage Train Loss: 0.022... \tTest Loss: 0.7686105138778686... \tTest Accuracy: 77.46835443037975\n",
      "Round: 29... \tAverage Train Loss: 0.019... \tTest Loss: 0.3776075988292694... \tTest Accuracy: 88.73417721518987\n",
      "Round: 30... \tAverage Train Loss: 0.021... \tTest Loss: 0.42305338053703306... \tTest Accuracy: 85.69620253164557\n",
      "Round: 31... \tAverage Train Loss: 0.021... \tTest Loss: 0.3496237790822983... \tTest Accuracy: 88.35443037974683\n",
      "Round: 32... \tAverage Train Loss: 0.014... \tTest Loss: 0.3268343365192413... \tTest Accuracy: 88.60759493670886\n",
      "Round: 33... \tAverage Train Loss: 0.018... \tTest Loss: 0.35495909762382505... \tTest Accuracy: 86.20253164556962\n",
      "Round: 34... \tAverage Train Loss: 0.016... \tTest Loss: 0.4526296708583832... \tTest Accuracy: 84.9367088607595\n",
      "Round: 35... \tAverage Train Loss: 0.034... \tTest Loss: 0.34683232984542844... \tTest Accuracy: 89.74683544303798\n",
      "Round: 36... \tAverage Train Loss: 0.018... \tTest Loss: 0.39548530972003937... \tTest Accuracy: 84.55696202531645\n",
      "Round: 37... \tAverage Train Loss: 0.014... \tTest Loss: 0.37929125761985777... \tTest Accuracy: 88.9873417721519\n",
      "Round: 38... \tAverage Train Loss: 0.019... \tTest Loss: 0.3778691327095032... \tTest Accuracy: 87.46835443037975\n",
      "Round: 39... \tAverage Train Loss: 0.017... \tTest Loss: 0.37015217700004577... \tTest Accuracy: 86.83544303797468\n",
      "Round: 40... \tAverage Train Loss: 0.017... \tTest Loss: 0.3355076699018478... \tTest Accuracy: 88.86075949367088\n",
      "Round: 41... \tAverage Train Loss: 0.015... \tTest Loss: 0.3505572741031647... \tTest Accuracy: 87.46835443037975\n",
      "Round: 42... \tAverage Train Loss: 0.021... \tTest Loss: 0.3266352616071701... \tTest Accuracy: 86.9620253164557\n",
      "Round: 43... \tAverage Train Loss: 0.024... \tTest Loss: 0.576792022228241... \tTest Accuracy: 78.9873417721519\n",
      "Round: 44... \tAverage Train Loss: 0.02... \tTest Loss: 0.3227816744327545... \tTest Accuracy: 89.49367088607595\n",
      "Round: 45... \tAverage Train Loss: 0.011... \tTest Loss: 0.29517616884708403... \tTest Accuracy: 89.62025316455696\n",
      "Round: 46... \tAverage Train Loss: 0.025... \tTest Loss: 0.3156911677122116... \tTest Accuracy: 89.24050632911393\n",
      "Round: 47... \tAverage Train Loss: 0.012... \tTest Loss: 0.25945645248889926... \tTest Accuracy: 93.0379746835443\n",
      "Round: 48... \tAverage Train Loss: 0.015... \tTest Loss: 0.3399138810634613... \tTest Accuracy: 90.12658227848101\n",
      "Round: 49... \tAverage Train Loss: 0.016... \tTest Loss: 0.3271932601451874... \tTest Accuracy: 90.63291139240506\n",
      "Round: 50... \tAverage Train Loss: 0.012... \tTest Loss: 0.29975291804075244... \tTest Accuracy: 90.25316455696202\n",
      "Round: 51... \tAverage Train Loss: 0.019... \tTest Loss: 0.3098497066736221... \tTest Accuracy: 88.9873417721519\n",
      "Round: 52... \tAverage Train Loss: 0.022... \tTest Loss: 0.27572783319950106... \tTest Accuracy: 90.88607594936708\n",
      "Round: 53... \tAverage Train Loss: 0.016... \tTest Loss: 0.2727527193784714... \tTest Accuracy: 90.0\n",
      "Round: 54... \tAverage Train Loss: 0.013... \tTest Loss: 0.27845078864097594... \tTest Accuracy: 90.37974683544304\n",
      "Round: 55... \tAverage Train Loss: 0.013... \tTest Loss: 0.2622309994697571... \tTest Accuracy: 91.51898734177215\n",
      "Training Done!\n"
     ]
    },
    {
     "data": {
      "image/png": "[encoded data removed]",
      "text/plain": [
       "<Figure size 432x288 with 1 Axes>"
      ]
     },
     "metadata": {
      "needs_background": "light"
     },
     "output_type": "display_data"
    },
    {
     "data": {
      "image/png": "[encoded data removed]",
      "text/plain": [
       "<Figure size 432x288 with 1 Axes>"
      ]
     },
     "metadata": {
      "needs_background": "light"
     },
     "output_type": "display_data"
    }
   ],
   "source": [
    "# number of training rounds\n",
    "rounds = 100\n",
    "# client fraction\n",
    "C = 0.1\n",
    "# number of clients\n",
    "K = 100\n",
    "# number of training passes on local dataset for each roung\n",
    "E = 20\n",
    "# batch size\n",
    "batch_size = 10\n",
    "# learning Rate\n",
    "lr=0.01\n",
    "# proximal term constant\n",
    "mu = 0.01\n",
    "# percentage of clients to have fewer than E epochs\n",
    "percentage = 0\n",
    "# target_test_accuracy\n",
    "target_test_accuracy=94.0\n",
    "# dict containing different type of data partition\n",
    "data_dict = non_iid_partition(mnist_data_train, 100, 200, 300, 2)\n",
    "# load model\n",
    "mnist_mlp = MNIST_2NN()\n",
    "\n",
    "if torch.cuda.is_available():\n",
    "  mnist_mlp.cuda()\n",
    "\n",
    "mnist_mlp_non_iid_trained = training(mnist_mlp, rounds, batch_size, lr, mnist_data_train, data_dict, mnist_data_test, C, K, E, mu, percentage, \"FedProx MNIST MLP on non-IID Dataset (0%)\", \"green\", target_test_accuracy)"
   ]
  },
  {
   "cell_type": "markdown",
   "metadata": {
    "colab_type": "text",
    "id": "HdOmGsJLC5OD"
   },
   "source": [
    "# Training with 50% probability of system heterogeneity"
   ]
  },
  {
   "cell_type": "markdown",
   "metadata": {
    "colab_type": "text",
    "id": "gnlxH6QdDGzc"
   },
   "source": [
    "## MNIST CNN on IID"
   ]
  },
  {
   "cell_type": "markdown",
   "metadata": {
    "colab_type": "text",
    "id": "8fiWKhiKDGze"
   },
   "source": [
    "### Train\n"
   ]
  },
  {
   "cell_type": "code",
   "execution_count": 21,
   "metadata": {
    "colab": {
     "base_uri": "https://localhost:8080/",
     "height": 0
    },
    "colab_type": "code",
    "id": "bmHjsXHeDGzg",
    "outputId": "c3ebacb5-a135-4136-db5f-1d8d1b26ad3d"
   },
   "outputs": [
    {
     "name": "stdout",
     "output_type": "stream",
     "text": [
      "System heterogeneity set to 50% stragglers.\n",
      "\n",
      "Picking 10 random clients per round.\n",
      "\n",
      "Round: 1... \tAverage Train Loss: 0.697... \tTest Loss: 0.22044008469581605... \tTest Accuracy: 93.29113924050633\n",
      "Round: 2... \tAverage Train Loss: 0.114... \tTest Loss: 0.13213139222282916... \tTest Accuracy: 96.83544303797468\n",
      "Round: 3... \tAverage Train Loss: 0.064... \tTest Loss: 0.10380611239066348... \tTest Accuracy: 97.59493670886076\n",
      "Round: 4... \tAverage Train Loss: 0.06... \tTest Loss: 0.08680399181004614... \tTest Accuracy: 97.59493670886076\n",
      "Round: 5... \tAverage Train Loss: 0.054... \tTest Loss: 0.07694280325279106... \tTest Accuracy: 97.59493670886076\n",
      "Round: 6... \tAverage Train Loss: 0.05... \tTest Loss: 0.07054722912001889... \tTest Accuracy: 98.10126582278481\n",
      "Round: 7... \tAverage Train Loss: 0.036... \tTest Loss: 0.06858568950087647... \tTest Accuracy: 98.48101265822785\n",
      "Round: 8... \tAverage Train Loss: 0.043... \tTest Loss: 0.06289209533723769... \tTest Accuracy: 98.22784810126582\n",
      "Round: 9... \tAverage Train Loss: 0.025... \tTest Loss: 0.061333585348524504... \tTest Accuracy: 98.22784810126582\n",
      "Round: 10... \tAverage Train Loss: 0.023... \tTest Loss: 0.05810896898494975... \tTest Accuracy: 98.60759493670886\n",
      "Round: 11... \tAverage Train Loss: 0.04... \tTest Loss: 0.05383489248753176... \tTest Accuracy: 98.86075949367088\n",
      "Round: 12... \tAverage Train Loss: 0.029... \tTest Loss: 0.051536691583821084... \tTest Accuracy: 98.73417721518987\n",
      "Round: 13... \tAverage Train Loss: 0.024... \tTest Loss: 0.050505667014810025... \tTest Accuracy: 98.73417721518987\n",
      "Round: 14... \tAverage Train Loss: 0.026... \tTest Loss: 0.0498596128786914... \tTest Accuracy: 98.86075949367088\n",
      "Round: 15... \tAverage Train Loss: 0.021... \tTest Loss: 0.04794087335317672... \tTest Accuracy: 98.9873417721519\n",
      "Round: 16... \tAverage Train Loss: 0.022... \tTest Loss: 0.046599035823147276... \tTest Accuracy: 98.86075949367088\n",
      "Round: 17... \tAverage Train Loss: 0.02... \tTest Loss: 0.045457902707021276... \tTest Accuracy: 98.9873417721519\n",
      "Round: 18... \tAverage Train Loss: 0.038... \tTest Loss: 0.04346021056495665... \tTest Accuracy: 99.24050632911393\n",
      "Training Done!\n"
     ]
    },
    {
     "data": {
      "image/png": "[encoded data removed]",
      "text/plain": [
       "<Figure size 432x288 with 1 Axes>"
      ]
     },
     "metadata": {
      "needs_background": "light"
     },
     "output_type": "display_data"
    },
    {
     "data": {
      "image/png": "[encoded data removed]",
      "text/plain": [
       "<Figure size 432x288 with 1 Axes>"
      ]
     },
     "metadata": {
      "needs_background": "light"
     },
     "output_type": "display_data"
    }
   ],
   "source": [
    "# number of training rounds\n",
    "rounds = 100\n",
    "# client fraction\n",
    "C = 0.1\n",
    "# number of clients\n",
    "K = 100\n",
    "# number of training passes on local dataset for each roung\n",
    "E = 20\n",
    "# batch size\n",
    "batch_size = 10\n",
    "# learning Rate\n",
    "lr=0.01\n",
    "# proximal term constant\n",
    "mu = 0.01\n",
    "# percentage of clients to have fewer than E epochs\n",
    "percentage = 50\n",
    "# target_test_accuracy\n",
    "target_test_accuracy=99.0\n",
    "# data partition dictionary\n",
    "iid_dict = iid_partition(mnist_data_train, 100)\n",
    "# load model\n",
    "mnist_cnn = MNIST_CNN()\n",
    "\n",
    "if torch.cuda.is_available():\n",
    "  mnist_cnn.cuda()\n",
    "\n",
    "mnist_cnn_iid_trained = training(mnist_cnn, rounds, batch_size, lr, mnist_data_train, iid_dict, mnist_data_test, C, K, E, mu, percentage, \"FedProx MNIST CNN on IID Dataset (50%)\", \"orange\", target_test_accuracy)"
   ]
  },
  {
   "cell_type": "markdown",
   "metadata": {
    "colab_type": "text",
    "id": "3C1o99ZODOH8"
   },
   "source": [
    "## MNIST CNN on Non IID"
   ]
  },
  {
   "cell_type": "markdown",
   "metadata": {
    "colab_type": "text",
    "id": "MxLku0pEDOH9"
   },
   "source": [
    "### Train\n"
   ]
  },
  {
   "cell_type": "code",
   "execution_count": 22,
   "metadata": {
    "colab": {
     "base_uri": "https://localhost:8080/",
     "height": 964
    },
    "colab_type": "code",
    "id": "jzQZEeOeDOH-",
    "outputId": "feb5328f-75fc-459e-d070-546261985d59"
   },
   "outputs": [
    {
     "name": "stdout",
     "output_type": "stream",
     "text": [
      "System heterogeneity set to 50% stragglers.\n",
      "\n",
      "Picking 10 random clients per round.\n",
      "\n",
      "Round: 1... \tAverage Train Loss: 0.086... \tTest Loss: 2.0567443618774415... \tTest Accuracy: 22.025316455696203\n",
      "Round: 2... \tAverage Train Loss: 0.042... \tTest Loss: 2.1937351390838624... \tTest Accuracy: 33.924050632911396\n",
      "Round: 3... \tAverage Train Loss: 0.031... \tTest Loss: 1.2103012897491454... \tTest Accuracy: 67.34177215189874\n",
      "Round: 4... \tAverage Train Loss: 0.022... \tTest Loss: 1.3265219392776488... \tTest Accuracy: 55.44303797468354\n",
      "Round: 5... \tAverage Train Loss: 0.033... \tTest Loss: 0.720416911315918... \tTest Accuracy: 72.78481012658227\n",
      "Round: 6... \tAverage Train Loss: 0.024... \tTest Loss: 0.4958665160179138... \tTest Accuracy: 86.20253164556962\n",
      "Round: 7... \tAverage Train Loss: 0.023... \tTest Loss: 0.7680257570266724... \tTest Accuracy: 71.51898734177215\n",
      "Round: 8... \tAverage Train Loss: 0.017... \tTest Loss: 0.6226716510772705... \tTest Accuracy: 80.25316455696202\n",
      "Round: 9... \tAverage Train Loss: 0.02... \tTest Loss: 0.43810363273620606... \tTest Accuracy: 82.27848101265823\n",
      "Round: 10... \tAverage Train Loss: 0.014... \tTest Loss: 0.35827335240840913... \tTest Accuracy: 87.59493670886076\n",
      "Round: 11... \tAverage Train Loss: 0.009... \tTest Loss: 0.36866859163045884... \tTest Accuracy: 88.10126582278481\n",
      "Round: 12... \tAverage Train Loss: 0.015... \tTest Loss: 0.38505322918891904... \tTest Accuracy: 85.0632911392405\n",
      "Round: 13... \tAverage Train Loss: 0.015... \tTest Loss: 0.2448061906814575... \tTest Accuracy: 91.77215189873418\n",
      "Round: 14... \tAverage Train Loss: 0.02... \tTest Loss: 0.24105065076351165... \tTest Accuracy: 92.65822784810126\n",
      "Round: 15... \tAverage Train Loss: 0.013... \tTest Loss: 0.1977740632891655... \tTest Accuracy: 94.17721518987342\n",
      "Round: 16... \tAverage Train Loss: 0.015... \tTest Loss: 0.20575810784697532... \tTest Accuracy: 93.54430379746836\n",
      "Round: 17... \tAverage Train Loss: 0.012... \tTest Loss: 0.20289060664176942... \tTest Accuracy: 93.16455696202532\n",
      "Round: 18... \tAverage Train Loss: 0.017... \tTest Loss: 0.18980794788599015... \tTest Accuracy: 93.54430379746836\n",
      "Round: 19... \tAverage Train Loss: 0.006... \tTest Loss: 0.18292336298823356... \tTest Accuracy: 95.0632911392405\n",
      "Round: 20... \tAverage Train Loss: 0.012... \tTest Loss: 0.16029580088853837... \tTest Accuracy: 95.18987341772151\n",
      "Round: 21... \tAverage Train Loss: 0.009... \tTest Loss: 0.13826701547503473... \tTest Accuracy: 96.20253164556962\n",
      "Training Done!\n"
     ]
    },
    {
     "data": {
      "image/png": "[encoded data removed]",
      "text/plain": [
       "<Figure size 432x288 with 1 Axes>"
      ]
     },
     "metadata": {
      "needs_background": "light"
     },
     "output_type": "display_data"
    },
    {
     "data": {
      "image/png": "[encoded data removed]",
      "text/plain": [
       "<Figure size 432x288 with 1 Axes>"
      ]
     },
     "metadata": {
      "needs_background": "light"
     },
     "output_type": "display_data"
    }
   ],
   "source": [
    "# number of training rounds\n",
    "rounds = 100\n",
    "# client fraction\n",
    "C = 0.1\n",
    "# number of clients\n",
    "K = 100\n",
    "# number of training passes on local dataset for each roung\n",
    "E = 20\n",
    "# batch size\n",
    "batch_size = 10\n",
    "# learning Rate\n",
    "lr=0.01\n",
    "# proximal term constant\n",
    "mu = 0.01\n",
    "# percentage of clients to have fewer than E epochs\n",
    "percentage = 50\n",
    "# target_test_accuracy\n",
    "target_test_accuracy=96.0\n",
    "# dict containing different type of data partition\n",
    "data_dict = non_iid_partition(mnist_data_train, 100, 200, 300, 2)\n",
    "# load model\n",
    "mnist_cnn = MNIST_CNN()\n",
    "\n",
    "if torch.cuda.is_available():\n",
    "  mnist_cnn.cuda()\n",
    "\n",
    "mnist_cnn_non_iid_trained = training(mnist_cnn, rounds, batch_size, lr, mnist_data_train, data_dict, mnist_data_test, C, K, E, mu, percentage, \"FedProx MNIST CNN on non-IID Dataset (50%)\", \"green\", target_test_accuracy)\n"
   ]
  },
  {
   "cell_type": "markdown",
   "metadata": {
    "colab_type": "text",
    "id": "Mgspmmb1DSgu"
   },
   "source": [
    "## MNIST MLP on IID"
   ]
  },
  {
   "cell_type": "markdown",
   "metadata": {
    "colab_type": "text",
    "id": "t1AlbPY7DSgv"
   },
   "source": [
    "### Train"
   ]
  },
  {
   "cell_type": "code",
   "execution_count": 23,
   "metadata": {
    "colab": {
     "base_uri": "https://localhost:8080/",
     "height": 794
    },
    "colab_type": "code",
    "id": "a1nUItg3DSgv",
    "outputId": "cdc55651-aba5-41d9-fe0c-e24d9b524ac1"
   },
   "outputs": [
    {
     "name": "stdout",
     "output_type": "stream",
     "text": [
      "System heterogeneity set to 50% stragglers.\n",
      "\n",
      "Picking 10 random clients per round.\n",
      "\n",
      "Round: 1... \tAverage Train Loss: 0.483... \tTest Loss: 0.33310876009464263... \tTest Accuracy: 90.63291139240506\n",
      "Round: 2... \tAverage Train Loss: 0.157... \tTest Loss: 0.30008757600188257... \tTest Accuracy: 92.53164556962025\n",
      "Round: 3... \tAverage Train Loss: 0.128... \tTest Loss: 0.27986016385257245... \tTest Accuracy: 93.29113924050633\n",
      "Round: 4... \tAverage Train Loss: 0.094... \tTest Loss: 0.2643367588073015... \tTest Accuracy: 93.16455696202532\n",
      "Round: 5... \tAverage Train Loss: 0.099... \tTest Loss: 0.24402859807163477... \tTest Accuracy: 94.17721518987342\n",
      "Training Done!\n"
     ]
    },
    {
     "data": {
      "image/png": "[encoded data removed]",
      "text/plain": [
       "<Figure size 432x288 with 1 Axes>"
      ]
     },
     "metadata": {
      "needs_background": "light"
     },
     "output_type": "display_data"
    },
    {
     "data": {
      "image/png": "[encoded data removed]",
      "text/plain": [
       "<Figure size 432x288 with 1 Axes>"
      ]
     },
     "metadata": {
      "needs_background": "light"
     },
     "output_type": "display_data"
    }
   ],
   "source": [
    "# number of training rounds\n",
    "rounds = 100\n",
    "# client fraction\n",
    "C = 0.1\n",
    "# number of clients\n",
    "K = 100\n",
    "# number of training passes on local dataset for each round\n",
    "E = 20\n",
    "# batch size\n",
    "batch_size = 10\n",
    "# learning Rate\n",
    "lr=0.01\n",
    "# proximal term constant\n",
    "mu = 0.01\n",
    "# percentage of clients to have fewer than E epochs\n",
    "percentage = 50\n",
    "# target_test_accuracy\n",
    "target_test_accuracy=94.0\n",
    "# dict containing different type of data partition\n",
    "data_dict = iid_partition(mnist_data_train, 100)\n",
    "# load model\n",
    "mnist_mlp = MNIST_2NN()\n",
    "\n",
    "if torch.cuda.is_available():\n",
    "  mnist_mlp.cuda()\n",
    "\n",
    "mnist_mlp_iid_trained = training(mnist_mlp, rounds, batch_size, lr, mnist_data_train, data_dict, mnist_data_test, C, K, E, mu, percentage, \"FedProx MNIST MLP on IID Dataset (50%)\", \"orange\", target_test_accuracy)\n"
   ]
  },
  {
   "cell_type": "markdown",
   "metadata": {
    "colab_type": "text",
    "id": "PrWMRFBCDWu-"
   },
   "source": [
    "## MNIST MLP on Non IID"
   ]
  },
  {
   "cell_type": "markdown",
   "metadata": {
    "colab_type": "text",
    "id": "joc_YdwDDWu-"
   },
   "source": [
    "### Train"
   ]
  },
  {
   "cell_type": "code",
   "execution_count": 24,
   "metadata": {
    "colab": {
     "base_uri": "https://localhost:8080/",
     "height": 1000
    },
    "colab_type": "code",
    "id": "JEhvU3V1DWu_",
    "outputId": "eaf7b331-5baf-467d-dcae-442251a4c79a"
   },
   "outputs": [
    {
     "name": "stdout",
     "output_type": "stream",
     "text": [
      "System heterogeneity set to 50% stragglers.\n",
      "\n",
      "Picking 10 random clients per round.\n",
      "\n",
      "Round: 1... \tAverage Train Loss: 0.084... \tTest Loss: 3.568646237564087... \tTest Accuracy: 38.860759493670884\n",
      "Round: 2... \tAverage Train Loss: 0.066... \tTest Loss: 2.1809330642700195... \tTest Accuracy: 43.67088607594937\n",
      "Round: 3... \tAverage Train Loss: 0.033... \tTest Loss: 1.4978701761245727... \tTest Accuracy: 53.79746835443038\n",
      "Round: 4... \tAverage Train Loss: 0.048... \tTest Loss: 1.45625025100708... \tTest Accuracy: 53.67088607594937\n",
      "Round: 5... \tAverage Train Loss: 0.029... \tTest Loss: 1.3060195548057556... \tTest Accuracy: 67.0886075949367\n",
      "Round: 6... \tAverage Train Loss: 0.032... \tTest Loss: 0.7245361777305603... \tTest Accuracy: 80.37974683544304\n",
      "Round: 7... \tAverage Train Loss: 0.026... \tTest Loss: 1.1236146129608153... \tTest Accuracy: 64.0506329113924\n",
      "Round: 8... \tAverage Train Loss: 0.036... \tTest Loss: 0.688749760055542... \tTest Accuracy: 78.60759493670886\n",
      "Round: 9... \tAverage Train Loss: 0.013... \tTest Loss: 0.7437158829689026... \tTest Accuracy: 72.65822784810126\n",
      "Round: 10... \tAverage Train Loss: 0.028... \tTest Loss: 0.6089680616378784... \tTest Accuracy: 76.70886075949367\n",
      "Round: 11... \tAverage Train Loss: 0.019... \tTest Loss: 0.7931462365150451... \tTest Accuracy: 71.13924050632912\n",
      "Round: 12... \tAverage Train Loss: 0.02... \tTest Loss: 0.5476403145313263... \tTest Accuracy: 80.37974683544304\n",
      "Round: 13... \tAverage Train Loss: 0.017... \tTest Loss: 0.5529574391365051... \tTest Accuracy: 78.73417721518987\n",
      "Round: 14... \tAverage Train Loss: 0.034... \tTest Loss: 0.6401712869644165... \tTest Accuracy: 77.59493670886076\n",
      "Round: 15... \tAverage Train Loss: 0.02... \tTest Loss: 0.43427234663963316... \tTest Accuracy: 85.56962025316456\n",
      "Round: 16... \tAverage Train Loss: 0.029... \tTest Loss: 0.4441264757633209... \tTest Accuracy: 85.56962025316456\n",
      "Round: 17... \tAverage Train Loss: 0.023... \tTest Loss: 0.5538610012054443... \tTest Accuracy: 81.26582278481013\n",
      "Round: 18... \tAverage Train Loss: 0.024... \tTest Loss: 0.5362542091369629... \tTest Accuracy: 81.13924050632912\n",
      "Round: 19... \tAverage Train Loss: 0.02... \tTest Loss: 0.4872626561880112... \tTest Accuracy: 80.88607594936708\n",
      "Round: 20... \tAverage Train Loss: 0.016... \tTest Loss: 0.5305738484382629... \tTest Accuracy: 81.51898734177215\n",
      "Round: 21... \tAverage Train Loss: 0.019... \tTest Loss: 0.5982896592140198... \tTest Accuracy: 80.88607594936708\n",
      "Round: 22... \tAverage Train Loss: 0.011... \tTest Loss: 0.6612388085365295... \tTest Accuracy: 80.25316455696202\n",
      "Round: 23... \tAverage Train Loss: 0.014... \tTest Loss: 0.43114264426231386... \tTest Accuracy: 84.81012658227849\n",
      "Round: 24... \tAverage Train Loss: 0.013... \tTest Loss: 0.5403574625015258... \tTest Accuracy: 79.11392405063292\n",
      "Round: 25... \tAverage Train Loss: 0.015... \tTest Loss: 0.3819047817468643... \tTest Accuracy: 87.59493670886076\n",
      "Round: 26... \tAverage Train Loss: 0.015... \tTest Loss: 0.5129797843217849... \tTest Accuracy: 82.40506329113924\n",
      "Round: 27... \tAverage Train Loss: 0.027... \tTest Loss: 0.3891238628864288... \tTest Accuracy: 87.9746835443038\n",
      "Round: 28... \tAverage Train Loss: 0.019... \tTest Loss: 0.38034587409496307... \tTest Accuracy: 88.35443037974683\n",
      "Round: 29... \tAverage Train Loss: 0.014... \tTest Loss: 0.3491667809009552... \tTest Accuracy: 88.60759493670886\n",
      "Round: 30... \tAverage Train Loss: 0.017... \tTest Loss: 0.491070899605751... \tTest Accuracy: 81.89873417721519\n",
      "Round: 31... \tAverage Train Loss: 0.014... \tTest Loss: 0.44995636100769043... \tTest Accuracy: 82.78481012658227\n",
      "Round: 32... \tAverage Train Loss: 0.014... \tTest Loss: 0.4231445792675018... \tTest Accuracy: 85.18987341772151\n",
      "Round: 33... \tAverage Train Loss: 0.014... \tTest Loss: 0.40442802109718323... \tTest Accuracy: 85.44303797468355\n",
      "Round: 34... \tAverage Train Loss: 0.015... \tTest Loss: 0.3652400463104248... \tTest Accuracy: 87.72151898734177\n",
      "Round: 35... \tAverage Train Loss: 0.01... \tTest Loss: 0.3477405904173851... \tTest Accuracy: 88.10126582278481\n",
      "Round: 36... \tAverage Train Loss: 0.012... \tTest Loss: 0.4492266204595566... \tTest Accuracy: 85.69620253164557\n",
      "Round: 37... \tAverage Train Loss: 0.012... \tTest Loss: 0.35884456667900083... \tTest Accuracy: 87.59493670886076\n",
      "Training Done!\n"
     ]
    },
    {
     "data": {
      "image/png": "[encoded data removed]",
      "text/plain": [
       "<Figure size 432x288 with 1 Axes>"
      ]
     },
     "metadata": {
      "needs_background": "light"
     },
     "output_type": "display_data"
    },
    {
     "data": {
      "image/png": "[encoded data removed]",
      "text/plain": [
       "<Figure size 432x288 with 1 Axes>"
      ]
     },
     "metadata": {
      "needs_background": "light"
     },
     "output_type": "display_data"
    }
   ],
   "source": [
    "# number of training rounds\n",
    "rounds = 100\n",
    "# client fraction\n",
    "C = 0.1\n",
    "# number of clients\n",
    "K = 100\n",
    "# number of training passes on local dataset for each roung\n",
    "E = 20\n",
    "# batch size\n",
    "batch_size = 10\n",
    "# learning Rate\n",
    "lr=0.01\n",
    "# proximal term constant\n",
    "mu = 0.01\n",
    "# percentage of clients to have fewer than E epochs\n",
    "percentage = 50\n",
    "# target_test_accuracy\n",
    "target_test_accuracy=94.0\n",
    "# dict containing different type of data partition\n",
    "data_dict = non_iid_partition(mnist_data_train, 100, 200, 300, 2)\n",
    "# load model\n",
    "mnist_mlp = MNIST_2NN()\n",
    "\n",
    "if torch.cuda.is_available():\n",
    "  mnist_mlp.cuda()\n",
    "\n",
    "mnist_mlp_non_iid_trained = training(mnist_mlp, rounds, batch_size, lr, mnist_data_train, data_dict, mnist_data_test, C, K, E, mu, percentage, \"FedProx MNIST MLP on non-IID Dataset (50%)\", \"green\", target_test_accuracy)"
   ]
  },
  {
   "cell_type": "markdown",
   "metadata": {
    "colab_type": "text",
    "id": "ORHykPm3Fv_8"
   },
   "source": [
    "# Training with 90% probability of system heterogeneity"
   ]
  },
  {
   "cell_type": "markdown",
   "metadata": {
    "colab_type": "text",
    "id": "TXqBlMtHFwAN"
   },
   "source": [
    "## MNIST CNN on IID"
   ]
  },
  {
   "cell_type": "markdown",
   "metadata": {
    "colab_type": "text",
    "id": "BXstm_BVFwAO"
   },
   "source": [
    "### Train\n"
   ]
  },
  {
   "cell_type": "code",
   "execution_count": 25,
   "metadata": {
    "colab": {
     "base_uri": "https://localhost:8080/",
     "height": 0
    },
    "colab_type": "code",
    "id": "gmPH7ly3FwAP",
    "outputId": "ecbc768b-5e40-46dc-863e-87bb8eee5cc6"
   },
   "outputs": [
    {
     "name": "stdout",
     "output_type": "stream",
     "text": [
      "System heterogeneity set to 90% stragglers.\n",
      "\n",
      "Picking 10 random clients per round.\n",
      "\n",
      "Round: 1... \tAverage Train Loss: 0.498... \tTest Loss: 0.17910663338005542... \tTest Accuracy: 95.0632911392405\n",
      "Round: 2... \tAverage Train Loss: 0.094... \tTest Loss: 0.1252077272027731... \tTest Accuracy: 97.0886075949367\n",
      "Training Done!\n"
     ]
    },
    {
     "data": {
      "image/png": "[encoded data removed]",
      "text/plain": [
       "<Figure size 432x288 with 1 Axes>"
      ]
     },
     "metadata": {
      "needs_background": "light"
     },
     "output_type": "display_data"
    },
    {
     "data": {
      "image/png": "[encoded data removed]",
      "text/plain": [
       "<Figure size 432x288 with 1 Axes>"
      ]
     },
     "metadata": {
      "needs_background": "light"
     },
     "output_type": "display_data"
    }
   ],
   "source": [
    "# number of training rounds\n",
    "rounds = 100\n",
    "# client fraction\n",
    "C = 0.1\n",
    "# number of clients\n",
    "K = 100\n",
    "# number of training passes on local dataset for each roung\n",
    "E = 20\n",
    "# batch size\n",
    "batch_size = 10\n",
    "# learning Rate\n",
    "lr=0.01\n",
    "# proximal term constant\n",
    "mu = 0.01\n",
    "# percentage of clients to have fewer than E epochs\n",
    "percentage = 90\n",
    "# target_test_accuracy\n",
    "target_test_accuracy=97.0\n",
    "# data partition dictionary\n",
    "iid_dict = iid_partition(mnist_data_train, 100)\n",
    "# load model\n",
    "mnist_cnn = MNIST_CNN()\n",
    "\n",
    "if torch.cuda.is_available():\n",
    "  mnist_cnn.cuda()\n",
    "\n",
    "mnist_cnn_iid_trained = training(mnist_cnn, rounds, batch_size, lr, mnist_data_train, iid_dict, mnist_data_test, C, K, E, mu, percentage, \"FedProx MNIST CNN on IID Dataset (90%)\", \"orange\", target_test_accuracy)"
   ]
  },
  {
   "cell_type": "markdown",
   "metadata": {
    "colab_type": "text",
    "id": "RnBEDxmwFwAb"
   },
   "source": [
    "## MNIST CNN on Non IID"
   ]
  },
  {
   "cell_type": "markdown",
   "metadata": {
    "colab_type": "text",
    "id": "Gkgaorx7FwAb"
   },
   "source": [
    "### Train\n"
   ]
  },
  {
   "cell_type": "code",
   "execution_count": 26,
   "metadata": {
    "colab": {
     "base_uri": "https://localhost:8080/",
     "height": 0
    },
    "colab_type": "code",
    "id": "8FB_3VV4FwAc",
    "outputId": "1b08fdff-7da5-4145-e426-880e7f9a137a"
   },
   "outputs": [
    {
     "name": "stdout",
     "output_type": "stream",
     "text": [
      "System heterogeneity set to 90% stragglers.\n",
      "\n",
      "Picking 10 random clients per round.\n",
      "\n",
      "Round: 1... \tAverage Train Loss: 0.198... \tTest Loss: 2.0280861198425293... \tTest Accuracy: 32.65822784810127\n",
      "Round: 2... \tAverage Train Loss: 0.059... \tTest Loss: 2.0695122245788573... \tTest Accuracy: 28.860759493670887\n",
      "Round: 3... \tAverage Train Loss: 0.037... \tTest Loss: 1.452779514503479... \tTest Accuracy: 62.53164556962025\n",
      "Round: 4... \tAverage Train Loss: 0.04... \tTest Loss: 1.2117727085113525... \tTest Accuracy: 62.278481012658226\n",
      "Round: 5... \tAverage Train Loss: 0.029... \tTest Loss: 0.562769024181366... \tTest Accuracy: 81.13924050632912\n",
      "Round: 6... \tAverage Train Loss: 0.022... \tTest Loss: 0.5549780474662781... \tTest Accuracy: 81.39240506329114\n",
      "Round: 7... \tAverage Train Loss: 0.02... \tTest Loss: 0.5245083583831787... \tTest Accuracy: 78.22784810126582\n",
      "Round: 8... \tAverage Train Loss: 0.034... \tTest Loss: 0.5575742385864257... \tTest Accuracy: 78.9873417721519\n",
      "Round: 9... \tAverage Train Loss: 0.024... \tTest Loss: 0.6944382860183715... \tTest Accuracy: 73.16455696202532\n",
      "Round: 10... \tAverage Train Loss: 0.022... \tTest Loss: 0.3454120471000671... \tTest Accuracy: 88.73417721518987\n",
      "Round: 11... \tAverage Train Loss: 0.027... \tTest Loss: 0.4283471611022949... \tTest Accuracy: 84.17721518987342\n",
      "Round: 12... \tAverage Train Loss: 0.021... \tTest Loss: 0.26430428500175474... \tTest Accuracy: 91.77215189873418\n",
      "Round: 13... \tAverage Train Loss: 0.016... \tTest Loss: 0.4201907956123352... \tTest Accuracy: 84.55696202531645\n",
      "Round: 14... \tAverage Train Loss: 0.016... \tTest Loss: 0.24445021727085114... \tTest Accuracy: 91.64556962025317\n",
      "Round: 15... \tAverage Train Loss: 0.01... \tTest Loss: 0.21414309645891189... \tTest Accuracy: 94.17721518987342\n",
      "Round: 16... \tAverage Train Loss: 0.018... \tTest Loss: 0.16617339126467703... \tTest Accuracy: 95.44303797468355\n",
      "Round: 17... \tAverage Train Loss: 0.022... \tTest Loss: 0.18400585273504258... \tTest Accuracy: 94.30379746835443\n",
      "Round: 18... \tAverage Train Loss: 0.011... \tTest Loss: 0.276879879117012... \tTest Accuracy: 88.60759493670886\n",
      "Round: 19... \tAverage Train Loss: 0.019... \tTest Loss: 0.257953705739975... \tTest Accuracy: 89.36708860759494\n",
      "Round: 20... \tAverage Train Loss: 0.012... \tTest Loss: 0.14027584601640702... \tTest Accuracy: 95.69620253164557\n",
      "Round: 21... \tAverage Train Loss: 0.011... \tTest Loss: 0.16441089953780175... \tTest Accuracy: 94.17721518987342\n",
      "Round: 22... \tAverage Train Loss: 0.017... \tTest Loss: 0.27006447501182557... \tTest Accuracy: 90.63291139240506\n",
      "Round: 23... \tAverage Train Loss: 0.01... \tTest Loss: 0.12260933645367622... \tTest Accuracy: 96.45569620253164\n",
      "Round: 24... \tAverage Train Loss: 0.011... \tTest Loss: 0.10998811550736427... \tTest Accuracy: 96.83544303797468\n",
      "Round: 25... \tAverage Train Loss: 0.008... \tTest Loss: 0.1319855043053627... \tTest Accuracy: 95.9493670886076\n",
      "Round: 26... \tAverage Train Loss: 0.008... \tTest Loss: 0.17131669469475747... \tTest Accuracy: 93.54430379746836\n",
      "Round: 27... \tAverage Train Loss: 0.012... \tTest Loss: 0.1574646137714386... \tTest Accuracy: 94.68354430379746\n",
      "Round: 28... \tAverage Train Loss: 0.012... \tTest Loss: 0.11202342010438442... \tTest Accuracy: 96.70886075949367\n",
      "Round: 29... \tAverage Train Loss: 0.013... \tTest Loss: 0.1550178647518158... \tTest Accuracy: 94.9367088607595\n",
      "Round: 30... \tAverage Train Loss: 0.011... \tTest Loss: 0.18132938000410795... \tTest Accuracy: 93.54430379746836\n",
      "Round: 31... \tAverage Train Loss: 0.014... \tTest Loss: 0.13469078403115273... \tTest Accuracy: 94.9367088607595\n",
      "Round: 32... \tAverage Train Loss: 0.01... \tTest Loss: 0.12184031670093537... \tTest Accuracy: 95.44303797468355\n",
      "Round: 33... \tAverage Train Loss: 0.005... \tTest Loss: 0.13473229193091393... \tTest Accuracy: 95.44303797468355\n",
      "Round: 34... \tAverage Train Loss: 0.014... \tTest Loss: 0.11981925537586212... \tTest Accuracy: 95.82278481012658\n",
      "Round: 35... \tAverage Train Loss: 0.014... \tTest Loss: 0.10171396450698375... \tTest Accuracy: 96.20253164556962\n",
      "Round: 36... \tAverage Train Loss: 0.008... \tTest Loss: 0.10761774299442768... \tTest Accuracy: 96.32911392405063\n",
      "Round: 37... \tAverage Train Loss: 0.008... \tTest Loss: 0.1408600808560848... \tTest Accuracy: 95.18987341772151\n",
      "Round: 38... \tAverage Train Loss: 0.006... \tTest Loss: 0.11568092326819897... \tTest Accuracy: 96.83544303797468\n",
      "Round: 39... \tAverage Train Loss: 0.014... \tTest Loss: 0.10479117251038551... \tTest Accuracy: 96.83544303797468\n",
      "Round: 40... \tAverage Train Loss: 0.009... \tTest Loss: 0.07357704319730402... \tTest Accuracy: 97.59493670886076\n",
      "Training Done!\n"
     ]
    },
    {
     "data": {
      "image/png": "[encoded data removed]",
      "text/plain": [
       "<Figure size 432x288 with 1 Axes>"
      ]
     },
     "metadata": {
      "needs_background": "light"
     },
     "output_type": "display_data"
    },
    {
     "data": {
      "image/png": "[encoded data removed]",
      "text/plain": [
       "<Figure size 432x288 with 1 Axes>"
      ]
     },
     "metadata": {
      "needs_background": "light"
     },
     "output_type": "display_data"
    }
   ],
   "source": [
    "# number of training rounds\n",
    "rounds = 1000\n",
    "# client fraction\n",
    "C = 0.1\n",
    "# number of clients\n",
    "K = 100\n",
    "# number of training passes on local dataset for each roung\n",
    "E = 20\n",
    "# batch size\n",
    "batch_size = 10\n",
    "# learning Rate\n",
    "lr=0.01\n",
    "# target test accuracy\n",
    "target_test_accuracy = 97.0\n",
    "# proximal term constant\n",
    "mu = 0.01\n",
    "# percentage of clients to have fewer than E epochs\n",
    "percentage = 90\n",
    "# dict containing different type of data partition\n",
    "data_dict = non_iid_partition(mnist_data_train, 100, 200, 300, 2)\n",
    "# load model\n",
    "mnist_cnn = MNIST_CNN()\n",
    "\n",
    "if torch.cuda.is_available():\n",
    "  mnist_cnn.cuda()\n",
    "\n",
    "mnist_cnn_non_iid_trained = training(mnist_cnn, rounds, batch_size, lr, mnist_data_train, data_dict, mnist_data_test, C, K, E, mu, percentage, \"FedProx MNIST CNN on non-IID Dataset (90%)\", \"green\", target_test_accuracy)\n"
   ]
  },
  {
   "cell_type": "markdown",
   "metadata": {
    "colab_type": "text",
    "id": "DwwgVhnzFwAg"
   },
   "source": [
    "## MNIST MLP on IID"
   ]
  },
  {
   "cell_type": "markdown",
   "metadata": {
    "colab_type": "text",
    "id": "JVs0NLz6FwAh"
   },
   "source": [
    "### Train"
   ]
  },
  {
   "cell_type": "code",
   "execution_count": 27,
   "metadata": {
    "colab": {
     "base_uri": "https://localhost:8080/",
     "height": 0
    },
    "colab_type": "code",
    "id": "9MuSeGADFwAh",
    "outputId": "9bcf2d5e-321f-4a29-8ea3-19dfc4864d3b"
   },
   "outputs": [
    {
     "name": "stdout",
     "output_type": "stream",
     "text": [
      "System heterogeneity set to 90% stragglers.\n",
      "\n",
      "Picking 10 random clients per round.\n",
      "\n",
      "Round: 1... \tAverage Train Loss: 1.184... \tTest Loss: 0.5423568528175354... \tTest Accuracy: 84.17721518987342\n",
      "Round: 2... \tAverage Train Loss: 0.156... \tTest Loss: 0.31003442658782004... \tTest Accuracy: 91.77215189873418\n",
      "Round: 3... \tAverage Train Loss: 0.132... \tTest Loss: 0.2717537739753723... \tTest Accuracy: 92.53164556962025\n",
      "Round: 4... \tAverage Train Loss: 0.095... \tTest Loss: 0.2539614675551653... \tTest Accuracy: 93.29113924050633\n",
      "Round: 5... \tAverage Train Loss: 0.109... \tTest Loss: 0.2364041008591652... \tTest Accuracy: 93.41772151898734\n",
      "Round: 6... \tAverage Train Loss: 0.122... \tTest Loss: 0.21778287158608436... \tTest Accuracy: 93.41772151898734\n",
      "Round: 7... \tAverage Train Loss: 0.111... \tTest Loss: 0.20311598591804506... \tTest Accuracy: 93.92405063291139\n",
      "Round: 8... \tAverage Train Loss: 0.064... \tTest Loss: 0.20080851832032204... \tTest Accuracy: 94.43037974683544\n",
      "Training Done!\n"
     ]
    },
    {
     "data": {
      "image/png": "[encoded data removed]",
      "text/plain": [
       "<Figure size 432x288 with 1 Axes>"
      ]
     },
     "metadata": {
      "needs_background": "light"
     },
     "output_type": "display_data"
    },
    {
     "data": {
      "image/png": "[encoded data removed]",
      "text/plain": [
       "<Figure size 432x288 with 1 Axes>"
      ]
     },
     "metadata": {
      "needs_background": "light"
     },
     "output_type": "display_data"
    }
   ],
   "source": [
    "# number of training rounds\n",
    "rounds = 100\n",
    "# client fraction\n",
    "C = 0.1\n",
    "# number of clients\n",
    "K = 100\n",
    "# number of training passes on local dataset for each round\n",
    "E = 20\n",
    "# batch size\n",
    "batch_size = 10\n",
    "# learning Rate\n",
    "lr=0.01\n",
    "# proximal term constant\n",
    "mu = 0.01\n",
    "# percentage of clients to have fewer than E epochs\n",
    "percentage = 90\n",
    "# target_test_accuracy\n",
    "target_test_accuracy=94.0\n",
    "# dict containing different type of data partition\n",
    "data_dict = iid_partition(mnist_data_train, 100)\n",
    "# load model\n",
    "mnist_mlp = MNIST_2NN()\n",
    "\n",
    "if torch.cuda.is_available():\n",
    "  mnist_mlp.cuda()\n",
    "\n",
    "mnist_mlp_iid_trained = training(mnist_mlp, rounds, batch_size, lr, mnist_data_train, data_dict, mnist_data_test, C, K, E, mu, percentage, \"FedProx MNIST MLP on IID Dataset (90%)\", \"orange\", target_test_accuracy)\n"
   ]
  },
  {
   "cell_type": "markdown",
   "metadata": {
    "colab_type": "text",
    "id": "0HlS1DmnFwAm"
   },
   "source": [
    "## MNIST MLP on Non IID"
   ]
  },
  {
   "cell_type": "markdown",
   "metadata": {
    "colab_type": "text",
    "id": "m3gm47fHFwAn"
   },
   "source": [
    "### Train"
   ]
  },
  {
   "cell_type": "code",
   "execution_count": 28,
   "metadata": {
    "colab": {
     "base_uri": "https://localhost:8080/",
     "height": 1000
    },
    "colab_type": "code",
    "id": "Z0XLVPfNFwAn",
    "outputId": "67e293da-60ad-4b4d-934d-1e4a5ee11831",
    "scrolled": true
   },
   "outputs": [
    {
     "name": "stdout",
     "output_type": "stream",
     "text": [
      "System heterogeneity set to 90% stragglers.\n",
      "\n",
      "Picking 10 random clients per round.\n",
      "\n",
      "Round: 1... \tAverage Train Loss: 0.212... \tTest Loss: 3.6564828678131103... \tTest Accuracy: 35.063291139240505\n",
      "Round: 2... \tAverage Train Loss: 0.127... \tTest Loss: 2.605531404495239... \tTest Accuracy: 35.822784810126585\n",
      "Round: 3... \tAverage Train Loss: 0.06... \tTest Loss: 1.6459743143081664... \tTest Accuracy: 53.41772151898734\n",
      "Round: 4... \tAverage Train Loss: 0.042... \tTest Loss: 1.1270027487754821... \tTest Accuracy: 62.151898734177216\n",
      "Round: 5... \tAverage Train Loss: 0.052... \tTest Loss: 0.6607975283622741... \tTest Accuracy: 81.77215189873418\n",
      "Round: 6... \tAverage Train Loss: 0.032... \tTest Loss: 0.5949673434257507... \tTest Accuracy: 82.65822784810126\n",
      "Round: 7... \tAverage Train Loss: 0.026... \tTest Loss: 0.4907594350576401... \tTest Accuracy: 87.0886075949367\n",
      "Round: 8... \tAverage Train Loss: 0.028... \tTest Loss: 0.5890193690299987... \tTest Accuracy: 78.9873417721519\n",
      "Round: 9... \tAverage Train Loss: 0.032... \tTest Loss: 0.44282559008598327... \tTest Accuracy: 85.0632911392405\n",
      "Round: 10... \tAverage Train Loss: 0.022... \tTest Loss: 0.3938798062086105... \tTest Accuracy: 88.22784810126582\n",
      "Round: 11... \tAverage Train Loss: 0.026... \tTest Loss: 0.7033614268302918... \tTest Accuracy: 76.83544303797468\n",
      "Round: 12... \tAverage Train Loss: 0.023... \tTest Loss: 0.7668951499938965... \tTest Accuracy: 74.17721518987342\n",
      "Round: 13... \tAverage Train Loss: 0.041... \tTest Loss: 0.35571962728500367... \tTest Accuracy: 88.48101265822785\n",
      "Round: 14... \tAverage Train Loss: 0.019... \tTest Loss: 0.3314215259313583... \tTest Accuracy: 89.74683544303798\n",
      "Round: 15... \tAverage Train Loss: 0.025... \tTest Loss: 0.2944141613483429... \tTest Accuracy: 90.75949367088607\n",
      "Round: 16... \tAverage Train Loss: 0.034... \tTest Loss: 0.2940220541596413... \tTest Accuracy: 91.77215189873418\n",
      "Round: 17... \tAverage Train Loss: 0.016... \tTest Loss: 0.3722166121006012... \tTest Accuracy: 86.32911392405063\n",
      "Round: 18... \tAverage Train Loss: 0.015... \tTest Loss: 0.326725798535347... \tTest Accuracy: 88.35443037974683\n",
      "Round: 19... \tAverage Train Loss: 0.018... \tTest Loss: 0.31768154084682465... \tTest Accuracy: 89.87341772151899\n",
      "Round: 20... \tAverage Train Loss: 0.026... \tTest Loss: 0.3692862445354462... \tTest Accuracy: 85.69620253164557\n",
      "Round: 21... \tAverage Train Loss: 0.014... \tTest Loss: 0.34522615642547605... \tTest Accuracy: 86.32911392405063\n",
      "Round: 22... \tAverage Train Loss: 0.019... \tTest Loss: 0.3141185704946518... \tTest Accuracy: 88.60759493670886\n",
      "Round: 23... \tAverage Train Loss: 0.023... \tTest Loss: 0.3184535283327103... \tTest Accuracy: 88.35443037974683\n",
      "Round: 24... \tAverage Train Loss: 0.015... \tTest Loss: 0.2456674073934555... \tTest Accuracy: 91.64556962025317\n",
      "Round: 25... \tAverage Train Loss: 0.019... \tTest Loss: 0.23665000125169755... \tTest Accuracy: 92.27848101265823\n",
      "Round: 26... \tAverage Train Loss: 0.026... \tTest Loss: 0.26251560673713686... \tTest Accuracy: 91.51898734177215\n",
      "Round: 27... \tAverage Train Loss: 0.018... \tTest Loss: 0.26485483589172365... \tTest Accuracy: 91.26582278481013\n",
      "Round: 28... \tAverage Train Loss: 0.017... \tTest Loss: 0.2312584451198578... \tTest Accuracy: 93.79746835443038\n",
      "Round: 29... \tAverage Train Loss: 0.016... \tTest Loss: 0.3625257796049118... \tTest Accuracy: 85.69620253164557\n",
      "Round: 30... \tAverage Train Loss: 0.032... \tTest Loss: 0.27984772372245786... \tTest Accuracy: 91.13924050632912\n",
      "Round: 31... \tAverage Train Loss: 0.014... \tTest Loss: 0.21606156113147734... \tTest Accuracy: 94.17721518987342\n",
      "Training Done!\n"
     ]
    },
    {
     "data": {
      "image/png": "[encoded data removed]",
      "text/plain": [
       "<Figure size 432x288 with 1 Axes>"
      ]
     },
     "metadata": {
      "needs_background": "light"
     },
     "output_type": "display_data"
    },
    {
     "data": {
      "image/png": "[encoded data removed]",
      "text/plain": [
       "<Figure size 432x288 with 1 Axes>"
      ]
     },
     "metadata": {
      "needs_background": "light"
     },
     "output_type": "display_data"
    }
   ],
   "source": [
    "# number of training rounds\n",
    "rounds = 100\n",
    "# client fraction\n",
    "C = 0.1\n",
    "# number of clients\n",
    "K = 100\n",
    "# number of training passes on local dataset for each roung\n",
    "E = 20\n",
    "# batch size\n",
    "batch_size = 10\n",
    "# learning Rate\n",
    "lr=0.05\n",
    "# proximal term constant\n",
    "mu = 0.01\n",
    "# percentage of clients to have fewer than E epochs\n",
    "percentage = 90\n",
    "# target_test_accuracy\n",
    "target_test_accuracy=94.0\n",
    "# dict containing different type of data partition\n",
    "data_dict = non_iid_partition(mnist_data_train, 100, 200, 300, 2)\n",
    "# load model\n",
    "mnist_mlp = MNIST_2NN()\n",
    "\n",
    "if torch.cuda.is_available():\n",
    "  mnist_mlp.cuda()\n",
    "\n",
    "mnist_mlp_non_iid_trained = training(mnist_mlp, rounds, batch_size, lr, mnist_data_train, data_dict, mnist_data_test, C, K, E, mu, percentage, \"FedProx MNIST MLP on non-IID Dataset (90%)\", \"green\", target_test_accuracy)"
   ]
  },
  {
   "cell_type": "markdown",
   "metadata": {
    "colab_type": "text",
    "id": "ifWreXVkYctp"
   },
   "source": [
    "# 与联邦平均IID分区比较。\n",
    "\n",
    "> 在一个高度异质的系统（90%）中，FedProx的作者声称，与Federated Averaging相比，FedProx的测试精度平均提高了**22%**。\n",
    "\n",
    "通过上面的第一个测试，我们知道，在**mu=0**的特殊情况下，FedProx与FedAvg的结果相匹配。\n",
    "\n",
    "我们将采用同样的思路，但这次要增加我们的杂散人员。我们将在**mu>0**的情况下进行同样的试验，比较FedProx的结果。"
   ]
  },
  {
   "cell_type": "markdown",
   "metadata": {
    "colab_type": "text",
    "id": "O8ydCcIaZwP3"
   },
   "source": [
    "### Training Federated Averaging with 90% stragglers (IID Partition)"
   ]
  },
  {
   "cell_type": "code",
   "execution_count": 29,
   "metadata": {
    "colab": {
     "base_uri": "https://localhost:8080/",
     "height": 0
    },
    "colab_type": "code",
    "id": "s07MAIAiZhky",
    "outputId": "7d76d908-c24a-410f-a1ed-ecbb235cb2b7",
    "scrolled": true
   },
   "outputs": [
    {
     "name": "stdout",
     "output_type": "stream",
     "text": [
      "System heterogeneity set to 90% stragglers.\n",
      "\n",
      "Picking 10 random clients per round.\n",
      "\n",
      "Round: 1... \tAverage Train Loss: 0.278... \tTest Loss: 0.19804287044107913... \tTest Accuracy: 94.9367088607595\n",
      "Round: 2... \tAverage Train Loss: 0.034... \tTest Loss: 0.18064604219216854... \tTest Accuracy: 96.20253164556962\n",
      "Round: 3... \tAverage Train Loss: 0.041... \tTest Loss: 0.14278925753918012... \tTest Accuracy: 95.9493670886076\n",
      "Round: 4... \tAverage Train Loss: 0.016... \tTest Loss: 0.12211099474786315... \tTest Accuracy: 96.9620253164557\n",
      "Round: 5... \tAverage Train Loss: 0.026... \tTest Loss: 0.11028702472640434... \tTest Accuracy: 97.34177215189874\n",
      "Round: 6... \tAverage Train Loss: 0.019... \tTest Loss: 0.1070078384462744... \tTest Accuracy: 96.70886075949367\n",
      "Round: 7... \tAverage Train Loss: 0.014... \tTest Loss: 0.09580641674659128... \tTest Accuracy: 97.84810126582279\n",
      "Round: 8... \tAverage Train Loss: 0.017... \tTest Loss: 0.09908184150725137... \tTest Accuracy: 97.72151898734177\n",
      "Round: 9... \tAverage Train Loss: 0.016... \tTest Loss: 0.06752325250897556... \tTest Accuracy: 97.84810126582279\n",
      "Round: 10... \tAverage Train Loss: 0.017... \tTest Loss: 0.06776092841534409... \tTest Accuracy: 98.22784810126582\n",
      "Round: 11... \tAverage Train Loss: 0.013... \tTest Loss: 0.06674310479230772... \tTest Accuracy: 98.10126582278481\n",
      "Round: 12... \tAverage Train Loss: 0.013... \tTest Loss: 0.06497515207171672... \tTest Accuracy: 98.35443037974683\n",
      "Round: 13... \tAverage Train Loss: 0.008... \tTest Loss: 0.06936169864598196... \tTest Accuracy: 98.86075949367088\n",
      "Round: 14... \tAverage Train Loss: 0.014... \tTest Loss: 0.06874318851265707... \tTest Accuracy: 97.72151898734177\n",
      "Round: 15... \tAverage Train Loss: 0.016... \tTest Loss: 0.06883849793621338... \tTest Accuracy: 98.10126582278481\n",
      "Round: 16... \tAverage Train Loss: 0.009... \tTest Loss: 0.06566463325954683... \tTest Accuracy: 98.35443037974683\n",
      "Round: 17... \tAverage Train Loss: 0.0... \tTest Loss: 0.06712386654364964... \tTest Accuracy: 98.22784810126582\n",
      "Round: 18... \tAverage Train Loss: 0.017... \tTest Loss: 0.06582962596406577... \tTest Accuracy: 97.9746835443038\n",
      "Round: 19... \tAverage Train Loss: 0.012... \tTest Loss: 0.06098214793410734... \tTest Accuracy: 98.48101265822785\n",
      "Round: 20... \tAverage Train Loss: 0.01... \tTest Loss: 0.05945764031976869... \tTest Accuracy: 98.86075949367088\n",
      "Round: 21... \tAverage Train Loss: 0.007... \tTest Loss: 0.05915514691734352... \tTest Accuracy: 98.60759493670886\n",
      "Round: 22... \tAverage Train Loss: 0.004... \tTest Loss: 0.05871022568773187... \tTest Accuracy: 98.48101265822785\n",
      "Round: 23... \tAverage Train Loss: 0.008... \tTest Loss: 0.05114772364278906... \tTest Accuracy: 98.48101265822785\n",
      "Round: 24... \tAverage Train Loss: 0.013... \tTest Loss: 0.045036023472961095... \tTest Accuracy: 98.73417721518987\n",
      "Round: 25... \tAverage Train Loss: 0.004... \tTest Loss: 0.055264530324190854... \tTest Accuracy: 98.22784810126582\n",
      "Round: 26... \tAverage Train Loss: 0.009... \tTest Loss: 0.05188004059419909... \tTest Accuracy: 98.35443037974683\n",
      "Round: 27... \tAverage Train Loss: 0.01... \tTest Loss: 0.04655161910031166... \tTest Accuracy: 97.9746835443038\n",
      "Round: 28... \tAverage Train Loss: 0.009... \tTest Loss: 0.058922656660457144... \tTest Accuracy: 98.22784810126582\n",
      "Round: 29... \tAverage Train Loss: 0.009... \tTest Loss: 0.04448995652125013... \tTest Accuracy: 98.73417721518987\n",
      "Round: 30... \tAverage Train Loss: 0.0... \tTest Loss: 0.04710550448201466... \tTest Accuracy: 98.48101265822785\n",
      "Round: 31... \tAverage Train Loss: 0.007... \tTest Loss: 0.044686058995743225... \tTest Accuracy: 98.9873417721519\n",
      "Round: 32... \tAverage Train Loss: 0.009... \tTest Loss: 0.0450151754843886... \tTest Accuracy: 98.9873417721519\n",
      "Round: 33... \tAverage Train Loss: 0.007... \tTest Loss: 0.05136334222750738... \tTest Accuracy: 98.48101265822785\n",
      "Round: 34... \tAverage Train Loss: 0.007... \tTest Loss: 0.054084918952186124... \tTest Accuracy: 98.35443037974683\n",
      "Round: 35... \tAverage Train Loss: 0.007... \tTest Loss: 0.05228127737304639... \tTest Accuracy: 98.22784810126582\n",
      "Round: 36... \tAverage Train Loss: 0.003... \tTest Loss: 0.05061245838563045... \tTest Accuracy: 98.73417721518987\n",
      "Round: 37... \tAverage Train Loss: 0.009... \tTest Loss: 0.04539133911873505... \tTest Accuracy: 98.35443037974683\n",
      "Round: 38... \tAverage Train Loss: 0.005... \tTest Loss: 0.052801834817225245... \tTest Accuracy: 98.35443037974683\n",
      "Round: 39... \tAverage Train Loss: 0.009... \tTest Loss: 0.04817273500748561... \tTest Accuracy: 98.60759493670886\n",
      "Round: 40... \tAverage Train Loss: 0.008... \tTest Loss: 0.04753579907351959... \tTest Accuracy: 98.48101265822785\n",
      "Round: 41... \tAverage Train Loss: 0.015... \tTest Loss: 0.043626217158383225... \tTest Accuracy: 98.60759493670886\n",
      "Round: 42... \tAverage Train Loss: 0.006... \tTest Loss: 0.04739368029250764... \tTest Accuracy: 98.86075949367088\n",
      "Round: 43... \tAverage Train Loss: 0.008... \tTest Loss: 0.04283174737818772... \tTest Accuracy: 98.86075949367088\n",
      "Round: 44... \tAverage Train Loss: 0.004... \tTest Loss: 0.03824778000409424... \tTest Accuracy: 98.73417721518987\n",
      "Round: 45... \tAverage Train Loss: 0.007... \tTest Loss: 0.04545353330164217... \tTest Accuracy: 98.60759493670886\n",
      "Round: 46... \tAverage Train Loss: 0.006... \tTest Loss: 0.049321468454157004... \tTest Accuracy: 98.10126582278481\n",
      "Round: 47... \tAverage Train Loss: 0.004... \tTest Loss: 0.04940190506763611... \tTest Accuracy: 97.9746835443038\n",
      "Round: 48... \tAverage Train Loss: 0.007... \tTest Loss: 0.04516395807625668... \tTest Accuracy: 98.60759493670886\n",
      "Round: 49... \tAverage Train Loss: 0.003... \tTest Loss: 0.04365487406218017... \tTest Accuracy: 98.86075949367088\n",
      "Round: 50... \tAverage Train Loss: 0.007... \tTest Loss: 0.04500168031724752... \tTest Accuracy: 98.9873417721519\n",
      "Round: 51... \tAverage Train Loss: 0.005... \tTest Loss: 0.04207633913024911... \tTest Accuracy: 98.73417721518987\n",
      "Round: 52... \tAverage Train Loss: 0.006... \tTest Loss: 0.03799465152856392... \tTest Accuracy: 99.11392405063292\n",
      "Training Done!\n"
     ]
    },
    {
     "data": {
      "image/png": "[encoded data removed]",
      "text/plain": [
       "<Figure size 432x288 with 1 Axes>"
      ]
     },
     "metadata": {
      "needs_background": "light"
     },
     "output_type": "display_data"
    },
    {
     "data": {
      "image/png": "[encoded data removed]",
      "text/plain": [
       "<Figure size 432x288 with 1 Axes>"
      ]
     },
     "metadata": {
      "needs_background": "light"
     },
     "output_type": "display_data"
    }
   ],
   "source": [
    "# 客户端更新的通信轮次\n",
    "rounds = 100\n",
    "#每轮随机选取进行计算的客户的分数\n",
    "C = 0.1\n",
    "# 客户总数\n",
    "K = 100\n",
    "# 每个客户端每轮对其本地数据集的训练次数。\n",
    "E = 20\n",
    "#客户更新培训的批次大小\n",
    "batch_size = 10\n",
    "# learning Rate\n",
    "lr=0.01\n",
    "# 近端项常数\n",
    "mu = 0.0\n",
    "# 少于E周期的客户百分比\n",
    "percentage = 90\n",
    "# target test accuracy\n",
    "target_test_accuracy = 99.0\n",
    "# 用于训练的数据分区类型（IID或非IID）。\n",
    "iid_dict = iid_partition(mnist_data_train, 100)\n",
    "# load model\n",
    "mnist_cnn = MNIST_CNN()\n",
    "\n",
    "if torch.cuda.is_available():\n",
    "  mnist_cnn.cuda()\n",
    "\n",
    "mnist_cnn_iid_trained_fedavg = training(mnist_cnn, rounds, batch_size, lr, mnist_data_train, iid_dict, mnist_data_test, C, K, E, mu, percentage, \"FedAvg MNIST CNN (90% Stragglers)\", \"orange\", target_test_accuracy, algorithm='fedavg')"
   ]
  },
  {
   "cell_type": "markdown",
   "metadata": {
    "colab_type": "text",
    "id": "xVjIEgHPaClX"
   },
   "source": [
    "### Training FedProx with 90% Stragglers (IID Parition)"
   ]
  },
  {
   "cell_type": "code",
   "execution_count": 19,
   "metadata": {
    "colab": {
     "base_uri": "https://localhost:8080/",
     "height": 0
    },
    "colab_type": "code",
    "id": "jn9WLZTHaBnq",
    "outputId": "01b38dab-4805-4351-fd4a-cf07e087ddfa",
    "scrolled": true
   },
   "outputs": [
    {
     "name": "stdout",
     "output_type": "stream",
     "text": [
      "System heterogeneity set to 90% stragglers.\n",
      "\n",
      "Picking 10 random clients per round.\n",
      "\n",
      "Round: 1... \tAverage Train Loss: 0.574... \tTest Loss: 0.20601354684233666... \tTest Accuracy: 93.92405063291139\n",
      "Round: 2... \tAverage Train Loss: 0.124... \tTest Loss: 0.1318167860120535... \tTest Accuracy: 96.70886075949367\n",
      "Round: 3... \tAverage Train Loss: 0.107... \tTest Loss: 0.10440207680091262... \tTest Accuracy: 97.0886075949367\n",
      "Round: 4... \tAverage Train Loss: 0.073... \tTest Loss: 0.0920703527469188... \tTest Accuracy: 97.72151898734177\n",
      "Round: 5... \tAverage Train Loss: 0.055... \tTest Loss: 0.08040327654704452... \tTest Accuracy: 97.84810126582279\n",
      "Round: 6... \tAverage Train Loss: 0.057... \tTest Loss: 0.07565791203454136... \tTest Accuracy: 97.9746835443038\n",
      "Round: 7... \tAverage Train Loss: 0.053... \tTest Loss: 0.0675556357444264... \tTest Accuracy: 98.48101265822785\n",
      "Round: 8... \tAverage Train Loss: 0.051... \tTest Loss: 0.060747656403575094... \tTest Accuracy: 98.10126582278481\n",
      "Round: 9... \tAverage Train Loss: 0.027... \tTest Loss: 0.062115299239219164... \tTest Accuracy: 97.84810126582279\n",
      "Round: 10... \tAverage Train Loss: 0.036... \tTest Loss: 0.0590065352286445... \tTest Accuracy: 98.73417721518987\n",
      "Round: 11... \tAverage Train Loss: 0.034... \tTest Loss: 0.05712626429303782... \tTest Accuracy: 98.60759493670886\n",
      "Round: 12... \tAverage Train Loss: 0.048... \tTest Loss: 0.051452163698477674... \tTest Accuracy: 98.60759493670886\n",
      "Round: 13... \tAverage Train Loss: 0.033... \tTest Loss: 0.04931516963522881... \tTest Accuracy: 98.86075949367088\n",
      "Round: 14... \tAverage Train Loss: 0.028... \tTest Loss: 0.049622921255382244... \tTest Accuracy: 99.11392405063292\n",
      "Training Done!\n"
     ]
    },
    {
     "data": {
      "image/png": "[encoded data removed]",
      "text/plain": [
       "<Figure size 432x288 with 1 Axes>"
      ]
     },
     "metadata": {
      "needs_background": "light"
     },
     "output_type": "display_data"
    },
    {
     "data": {
      "image/png": "[encoded data removed]",
      "text/plain": [
       "<Figure size 432x288 with 1 Axes>"
      ]
     },
     "metadata": {
      "needs_background": "light"
     },
     "output_type": "display_data"
    }
   ],
   "source": [
    "# 客户端更新的通信轮次\n",
    "rounds = 300\n",
    "#每轮随机选取进行计算的客户的分数\n",
    "C = 0.1\n",
    "# 客户总数\n",
    "K = 100\n",
    "#每个客户端每轮对其本地数据集的训练次数。\n",
    "E = 20\n",
    "# 客户更新培训的批次大小\n",
    "batch_size = 10\n",
    "# learning Rate\n",
    "lr=0.01\n",
    "# 近端项常数\n",
    "mu = 0.01\n",
    "# 少于E周期的客户百分比\n",
    "percentage = 90\n",
    "# target test accuracy\n",
    "target_test_accuracy = 99.0\n",
    "\n",
    "# 用于训练的数据分区类型（IID或非IID）。\n",
    "iid_dict = iid_partition(mnist_data_train, 100)\n",
    "# load model\n",
    "mnist_cnn = MNIST_CNN()\n",
    "\n",
    "if torch.cuda.is_available():\n",
    "  mnist_cnn.cuda()\n",
    "\n",
    "mnist_cnn_iid_trained_fedprox = training(mnist_cnn, rounds, batch_size, lr, mnist_data_train, iid_dict, mnist_data_test, C, K, E, mu, percentage, \"FedProx MNIST CNN (90% Stragglers)\", \"green\", target_test_accuracy)"
   ]
  },
  {
   "cell_type": "markdown",
   "metadata": {
    "colab_type": "text",
    "id": "ha1hFkm7pJr9"
   },
   "source": [
    "# 与联邦平均法非IID分区的比较\n",
    "\n",
    "> 在一个高度异质的系统（90%）中，FedProx的作者声称，与Federated Averaging相比，FedProx的测试精度平均提高了**22%**。\n",
    "\n",
    "通过上面的第一个测试，我们知道，在**mu=0**的特殊情况下，FedProx与FedAvg的结果相匹配。\n",
    "\n",
    "我们将采用同样的思路，但这次要增加我们的杂散人员。我们将在**mu>0**的情况下进行同样的试验，比较FedProx的结果。"
   ]
  },
  {
   "cell_type": "markdown",
   "metadata": {
    "colab_type": "text",
    "id": "UZYw192zpJsL"
   },
   "source": [
    "### Training Federated Averaging with 90% stragglers (non-IID Partition)"
   ]
  },
  {
   "cell_type": "code",
   "execution_count": 20,
   "metadata": {
    "colab": {
     "base_uri": "https://localhost:8080/",
     "height": 0
    },
    "colab_type": "code",
    "id": "HHCqV3f-pJsM",
    "outputId": "01c34ee6-6442-4368-999e-834d25a2355e",
    "scrolled": true
   },
   "outputs": [
    {
     "name": "stdout",
     "output_type": "stream",
     "text": [
      "System heterogeneity set to 90% stragglers.\n",
      "\n",
      "Picking 10 random clients per round.\n",
      "\n",
      "Round: 1... \tAverage Train Loss: 0.044... \tTest Loss: 9.473044111633302... \tTest Accuracy: 21.0126582278481\n",
      "Round: 2... \tAverage Train Loss: 0.052... \tTest Loss: 8.838550155639648... \tTest Accuracy: 18.9873417721519\n",
      "Round: 3... \tAverage Train Loss: 0.039... \tTest Loss: 6.720257328796387... \tTest Accuracy: 25.31645569620253\n",
      "Round: 4... \tAverage Train Loss: 0.026... \tTest Loss: 7.762985409545898... \tTest Accuracy: 25.569620253164558\n",
      "Round: 5... \tAverage Train Loss: 0.007... \tTest Loss: 7.228052515411377... \tTest Accuracy: 23.417721518987342\n",
      "Round: 6... \tAverage Train Loss: 0.001... \tTest Loss: 8.330681286621093... \tTest Accuracy: 16.962025316455698\n",
      "Round: 7... \tAverage Train Loss: 0.01... \tTest Loss: 7.411790594482422... \tTest Accuracy: 21.772151898734176\n",
      "Round: 8... \tAverage Train Loss: 0.0... \tTest Loss: 7.402387130737305... \tTest Accuracy: 20.126582278481013\n",
      "Round: 9... \tAverage Train Loss: 0.032... \tTest Loss: 5.832415139770508... \tTest Accuracy: 25.949367088607595\n",
      "Round: 10... \tAverage Train Loss: 0.005... \tTest Loss: 5.886943891906738... \tTest Accuracy: 20.50632911392405\n",
      "Round: 11... \tAverage Train Loss: 0.024... \tTest Loss: 7.727177197265625... \tTest Accuracy: 25.949367088607595\n",
      "Round: 12... \tAverage Train Loss: 0.014... \tTest Loss: 6.057527066802979... \tTest Accuracy: 28.60759493670886\n",
      "Round: 13... \tAverage Train Loss: 0.018... \tTest Loss: 5.0116620429992675... \tTest Accuracy: 23.544303797468356\n",
      "Round: 14... \tAverage Train Loss: 0.009... \tTest Loss: 2.0723118064880373... \tTest Accuracy: 58.48101265822785\n",
      "Round: 15... \tAverage Train Loss: 0.015... \tTest Loss: 4.680369165802002... \tTest Accuracy: 29.620253164556964\n",
      "Round: 16... \tAverage Train Loss: 0.017... \tTest Loss: 3.5387702487945556... \tTest Accuracy: 33.037974683544306\n",
      "Round: 17... \tAverage Train Loss: 0.006... \tTest Loss: 2.447140524673462... \tTest Accuracy: 37.9746835443038\n",
      "Round: 18... \tAverage Train Loss: 0.008... \tTest Loss: 5.1324739402771... \tTest Accuracy: 37.721518987341774\n",
      "Round: 19... \tAverage Train Loss: 0.004... \tTest Loss: 4.771766009521484... \tTest Accuracy: 34.050632911392405\n",
      "Round: 20... \tAverage Train Loss: 0.012... \tTest Loss: 3.2241896240234373... \tTest Accuracy: 42.53164556962025\n",
      "Round: 21... \tAverage Train Loss: 0.005... \tTest Loss: 2.1483964029312133... \tTest Accuracy: 50.379746835443036\n",
      "Round: 22... \tAverage Train Loss: 0.002... \tTest Loss: 2.3153128702163697... \tTest Accuracy: 56.075949367088604\n",
      "Round: 23... \tAverage Train Loss: 0.025... \tTest Loss: 1.5713182117462159... \tTest Accuracy: 64.43037974683544\n",
      "Round: 24... \tAverage Train Loss: 0.001... \tTest Loss: 2.8482872467041016... \tTest Accuracy: 55.063291139240505\n",
      "Round: 25... \tAverage Train Loss: 0.013... \tTest Loss: 3.1312053276062013... \tTest Accuracy: 42.151898734177216\n",
      "Round: 26... \tAverage Train Loss: 0.007... \tTest Loss: 3.4233173316955567... \tTest Accuracy: 48.48101265822785\n",
      "Round: 27... \tAverage Train Loss: 0.005... \tTest Loss: 1.4989341485977172... \tTest Accuracy: 66.58227848101266\n",
      "Round: 28... \tAverage Train Loss: 0.013... \tTest Loss: 2.6505437717437745... \tTest Accuracy: 52.53164556962025\n",
      "Round: 29... \tAverage Train Loss: 0.007... \tTest Loss: 1.5614010799407958... \tTest Accuracy: 58.860759493670884\n",
      "Round: 30... \tAverage Train Loss: 0.006... \tTest Loss: 2.3673803050994873... \tTest Accuracy: 58.22784810126582\n",
      "Round: 31... \tAverage Train Loss: 0.016... \tTest Loss: 3.752322700500488... \tTest Accuracy: 48.10126582278481\n",
      "Round: 32... \tAverage Train Loss: 0.003... \tTest Loss: 2.097932014465332... \tTest Accuracy: 64.68354430379746\n",
      "Round: 33... \tAverage Train Loss: 0.01... \tTest Loss: 2.125557596206665... \tTest Accuracy: 54.55696202531646\n",
      "Round: 34... \tAverage Train Loss: 0.009... \tTest Loss: 2.1331171028137206... \tTest Accuracy: 58.48101265822785\n",
      "Round: 35... \tAverage Train Loss: 0.007... \tTest Loss: 1.0605556446552276... \tTest Accuracy: 75.31645569620254\n",
      "Round: 36... \tAverage Train Loss: 0.003... \tTest Loss: 0.7673773464679718... \tTest Accuracy: 77.46835443037975\n",
      "Round: 37... \tAverage Train Loss: 0.006... \tTest Loss: 1.5970545991897582... \tTest Accuracy: 66.20253164556962\n",
      "Round: 38... \tAverage Train Loss: 0.009... \tTest Loss: 1.5642231183052062... \tTest Accuracy: 61.64556962025316\n",
      "Round: 39... \tAverage Train Loss: 0.003... \tTest Loss: 1.0738634004592895... \tTest Accuracy: 76.07594936708861\n",
      "Round: 40... \tAverage Train Loss: 0.005... \tTest Loss: 1.1102170236587525... \tTest Accuracy: 72.27848101265823\n",
      "Round: 41... \tAverage Train Loss: 0.004... \tTest Loss: 1.5590908096313476... \tTest Accuracy: 67.72151898734177\n",
      "Round: 42... \tAverage Train Loss: 0.005... \tTest Loss: 0.5178104436993599... \tTest Accuracy: 83.79746835443038\n",
      "Round: 43... \tAverage Train Loss: 0.008... \tTest Loss: 1.0855153200626373... \tTest Accuracy: 73.0379746835443\n",
      "Round: 44... \tAverage Train Loss: 0.002... \tTest Loss: 1.4571466339111327... \tTest Accuracy: 76.58227848101266\n",
      "Round: 45... \tAverage Train Loss: 0.002... \tTest Loss: 1.161056056213379... \tTest Accuracy: 72.15189873417721\n",
      "Round: 46... \tAverage Train Loss: 0.005... \tTest Loss: 0.8773789573192596... \tTest Accuracy: 76.45569620253164\n",
      "Round: 47... \tAverage Train Loss: 0.004... \tTest Loss: 1.1216763146400452... \tTest Accuracy: 75.31645569620254\n",
      "Round: 48... \tAverage Train Loss: 0.008... \tTest Loss: 2.0899053407669066... \tTest Accuracy: 55.063291139240505\n",
      "Round: 49... \tAverage Train Loss: 0.007... \tTest Loss: 1.2558155341148376... \tTest Accuracy: 69.11392405063292\n",
      "Round: 50... \tAverage Train Loss: 0.002... \tTest Loss: 1.0685179841518402... \tTest Accuracy: 71.89873417721519\n",
      "Round: 51... \tAverage Train Loss: 0.006... \tTest Loss: 1.0168608640670775... \tTest Accuracy: 75.0632911392405\n",
      "Round: 52... \tAverage Train Loss: 0.007... \tTest Loss: 0.9281643863677979... \tTest Accuracy: 79.36708860759494\n",
      "Round: 53... \tAverage Train Loss: 0.004... \tTest Loss: 0.9394592512607575... \tTest Accuracy: 76.70886075949367\n",
      "Round: 54... \tAverage Train Loss: 0.004... \tTest Loss: 1.0302389651298522... \tTest Accuracy: 75.69620253164557\n",
      "Round: 55... \tAverage Train Loss: 0.001... \tTest Loss: 1.3272549451828002... \tTest Accuracy: 75.56962025316456\n",
      "Round: 56... \tAverage Train Loss: 0.003... \tTest Loss: 0.7962015657424927... \tTest Accuracy: 81.77215189873418\n",
      "Round: 57... \tAverage Train Loss: 0.003... \tTest Loss: 0.757350931930542... \tTest Accuracy: 81.51898734177215\n",
      "Round: 58... \tAverage Train Loss: 0.002... \tTest Loss: 0.8955689291000366... \tTest Accuracy: 80.0\n",
      "Round: 59... \tAverage Train Loss: 0.004... \tTest Loss: 0.5566001513004303... \tTest Accuracy: 85.9493670886076\n",
      "Round: 60... \tAverage Train Loss: 0.004... \tTest Loss: 0.8793345576286316... \tTest Accuracy: 75.9493670886076\n",
      "Round: 61... \tAverage Train Loss: 0.003... \tTest Loss: 0.3215731809318066... \tTest Accuracy: 91.26582278481013\n",
      "Training Done!\n"
     ]
    },
    {
     "data": {
      "image/png": "[encoded data removed]",
      "text/plain": [
       "<Figure size 432x288 with 1 Axes>"
      ]
     },
     "metadata": {
      "needs_background": "light"
     },
     "output_type": "display_data"
    },
    {
     "data": {
      "image/png": "[encoded data removed]",
      "text/plain": [
       "<Figure size 432x288 with 1 Axes>"
      ]
     },
     "metadata": {
      "needs_background": "light"
     },
     "output_type": "display_data"
    }
   ],
   "source": [
    "# 客户端更新的通信轮次\n",
    "rounds = 100\n",
    "# 每轮随机选取进行计算的客户的分数\n",
    "C = 0.1\n",
    "# 客户总数\n",
    "K = 100\n",
    "# 每个客户端每轮对其本地数据集的训练次数。\n",
    "E = 20\n",
    "# 客户更新培训的批次大小\n",
    "batch_size = 10\n",
    "# learning Rate\n",
    "lr=0.01\n",
    "# 近端项常数\n",
    "mu = 0.0\n",
    "# 少于E周期的客户百分比\n",
    "percentage = 90\n",
    "# target test accuracy\n",
    "target_test_accuracy = 90.0\n",
    "# 用于训练的数据分区类型（IID或非IID）。\n",
    "non_iid_dict = non_iid_partition(mnist_data_train, 100, 200, 300, 2)\n",
    "# load model\n",
    "mnist_cnn = MNIST_CNN()\n",
    "\n",
    "if torch.cuda.is_available():\n",
    "  mnist_cnn.cuda()\n",
    "\n",
    "mnist_cnn_non_iid_trained_fedavg = training(mnist_cnn, rounds, batch_size, lr, mnist_data_train, non_iid_dict, mnist_data_test, C, K, E, mu, percentage, \"FedAvg MNIST CNN (90% Stragglers) non-IID\", \"orange\", target_test_accuracy, algorithm='fedavg')"
   ]
  },
  {
   "cell_type": "markdown",
   "metadata": {
    "colab_type": "text",
    "id": "YAEZ4zjopJsS"
   },
   "source": [
    "### Training FedProx with 90% Stragglers (non-IID Parition)"
   ]
  },
  {
   "cell_type": "code",
   "execution_count": 21,
   "metadata": {
    "colab": {
     "base_uri": "https://localhost:8080/",
     "height": 0
    },
    "colab_type": "code",
    "id": "4d3AH4IgpJsT",
    "outputId": "631e3d15-a87a-4a0e-dc16-81e4637d7103"
   },
   "outputs": [
    {
     "name": "stdout",
     "output_type": "stream",
     "text": [
      "System heterogeneity set to 90% stragglers.\n",
      "\n",
      "Picking 10 random clients per round.\n",
      "\n",
      "Round: 1... \tAverage Train Loss: 0.095... \tTest Loss: 2.178399667739868... \tTest Accuracy: 23.037974683544302\n",
      "Round: 2... \tAverage Train Loss: 0.064... \tTest Loss: 2.252703425979614... \tTest Accuracy: 24.936708860759495\n",
      "Round: 3... \tAverage Train Loss: 0.026... \tTest Loss: 1.2504609964370728... \tTest Accuracy: 53.67088607594937\n",
      "Round: 4... \tAverage Train Loss: 0.065... \tTest Loss: 1.0348419339179993... \tTest Accuracy: 61.89873417721519\n",
      "Round: 5... \tAverage Train Loss: 0.042... \tTest Loss: 0.6668676726818085... \tTest Accuracy: 78.73417721518987\n",
      "Round: 6... \tAverage Train Loss: 0.029... \tTest Loss: 0.431317679810524... \tTest Accuracy: 87.84810126582279\n",
      "Round: 7... \tAverage Train Loss: 0.02... \tTest Loss: 0.46283687233924864... \tTest Accuracy: 83.67088607594937\n",
      "Round: 8... \tAverage Train Loss: 0.027... \tTest Loss: 0.43093888096809385... \tTest Accuracy: 82.53164556962025\n",
      "Round: 9... \tAverage Train Loss: 0.023... \tTest Loss: 0.6779292014598847... \tTest Accuracy: 75.44303797468355\n",
      "Round: 10... \tAverage Train Loss: 0.028... \tTest Loss: 0.3462524227619171... \tTest Accuracy: 85.56962025316456\n",
      "Round: 11... \tAverage Train Loss: 0.013... \tTest Loss: 0.2075447063803673... \tTest Accuracy: 94.30379746835443\n",
      "Training Done!\n"
     ]
    },
    {
     "data": {
      "image/png": "[encoded data removed]",
      "text/plain": [
       "<Figure size 432x288 with 1 Axes>"
      ]
     },
     "metadata": {
      "needs_background": "light"
     },
     "output_type": "display_data"
    },
    {
     "data": {
      "image/png": "[encoded data removed]",
      "text/plain": [
       "<Figure size 432x288 with 1 Axes>"
      ]
     },
     "metadata": {
      "needs_background": "light"
     },
     "output_type": "display_data"
    }
   ],
   "source": [
    "# 客户端更新的通信轮次\n",
    "rounds = 100\n",
    "# 每轮随机选取进行计算的客户的分数\n",
    "C = 0.1\n",
    "# 客户总数\n",
    "K = 100\n",
    "# 每个客户端每轮对其本地数据集的训练次数。\n",
    "E = 20\n",
    "# 客户更新培训的批次大小\n",
    "batch_size = 10\n",
    "# learning Rate\n",
    "lr=0.01\n",
    "# 近端项常数\n",
    "mu = 0.01\n",
    "# 少于E周期的客户百分比\n",
    "percentage = 90\n",
    "# target test accuracy\n",
    "target_test_accuracy = 90.0\n",
    "\n",
    "# 用于训练的数据分区类型（IID或非IID）。\n",
    "non_iid_dict = non_iid_partition(mnist_data_train, 100, 200, 300, 2)\n",
    "# load model\n",
    "mnist_cnn = MNIST_CNN()\n",
    "\n",
    "\n",
    "if torch.cuda.is_available():\n",
    "  mnist_cnn.cuda()\n",
    "\n",
    "mnist_cnn_non_iid_trained_fedprox = training(mnist_cnn, rounds, batch_size, lr, mnist_data_train, non_iid_dict, mnist_data_test, C, K, E, mu, percentage, \"FedProx MNIST CNN (90% Stragglers) non-IID\", \"green\", target_test_accuracy)"
   ]
  },
  {
   "cell_type": "code",
   "execution_count": null,
   "metadata": {},
   "outputs": [],
   "source": []
  }
 ],
 "metadata": {
  "accelerator": "GPU",
  "colab": {
   "collapsed_sections": [
    "1ET8d4SH-g2D",
    "X7MesIL6AAuD",
    "NY4eWzGiL6Mj",
    "jCOONkg-zV7Y",
    "ctjRsETiO1qO",
    "PTfxv8kFoGAy",
    "uVv4HA9HuLtr",
    "tUYyb4T-uXmF",
    "gf_8XEXa-gZ7",
    "cjGMTWxAOsf1",
    "L-aNdQsQ-Kvp",
    "4hO5oV6aXqeh",
    "flSQv_P4zCfx",
    "b4btCseB0MtI",
    "ewgOl5Va6DQs",
    "Q-NXHBgy6DQ1",
    "uF8MdSIUYcnl",
    "a6wXX7JW11bx",
    "gnlxH6QdDGzc",
    "8fiWKhiKDGze",
    "3C1o99ZODOH8",
    "MxLku0pEDOH9",
    "Mgspmmb1DSgu",
    "t1AlbPY7DSgv",
    "PrWMRFBCDWu-",
    "joc_YdwDDWu-",
    "TXqBlMtHFwAN",
    "BXstm_BVFwAO",
    "RnBEDxmwFwAb",
    "Gkgaorx7FwAb",
    "DwwgVhnzFwAg",
    "JVs0NLz6FwAh",
    "0HlS1DmnFwAm",
    "m3gm47fHFwAn",
    "ifWreXVkYctp",
    "O8ydCcIaZwP3",
    "xVjIEgHPaClX",
    "ha1hFkm7pJr9",
    "UZYw192zpJsL",
    "YAEZ4zjopJsS"
   ],
   "include_colab_link": true,
   "machine_shape": "hm",
   "name": "FedProx.ipynb",
   "provenance": []
  },
  "kernelspec": {
   "display_name": "Python 3",
   "language": "python",
   "name": "python3"
  },
  "language_info": {
   "codemirror_mode": {
    "name": "ipython",
    "version": 3
   },
   "file_extension": ".py",
   "mimetype": "text/x-python",
   "name": "python",
   "nbconvert_exporter": "python",
   "pygments_lexer": "ipython3",
   "version": "3.7.9"
  },
  "latex_envs": {
   "LaTeX_envs_menu_present": true,
   "autoclose": false,
   "autocomplete": true,
   "bibliofile": "biblio.bib",
   "cite_by": "apalike",
   "current_citInitial": 1,
   "eqLabelWithNumbers": true,
   "eqNumInitial": 1,
   "hotkeys": {
    "equation": "Ctrl-E",
    "itemize": "Ctrl-I"
   },
   "labels_anchors": false,
   "latex_user_defs": false,
   "report_style_numbering": false,
   "user_envs_cfg": false
  },
  "widgets": {
   "application/vnd.jupyter.widget-state+json": {
    "0665403511994d82bc8370148f44e070": {
     "model_module": "@jupyter-widgets/base",
     "model_name": "LayoutModel",
     "state": {
      "_model_module": "@jupyter-widgets/base",
      "_model_module_version": "1.2.0",
      "_model_name": "LayoutModel",
      "_view_count": null,
      "_view_module": "@jupyter-widgets/base",
      "_view_module_version": "1.2.0",
      "_view_name": "LayoutView",
      "align_content": null,
      "align_items": null,
      "align_self": null,
      "border": null,
      "bottom": null,
      "display": null,
      "flex": null,
      "flex_flow": null,
      "grid_area": null,
      "grid_auto_columns": null,
      "grid_auto_flow": null,
      "grid_auto_rows": null,
      "grid_column": null,
      "grid_gap": null,
      "grid_row": null,
      "grid_template_areas": null,
      "grid_template_columns": null,
      "grid_template_rows": null,
      "height": null,
      "justify_content": null,
      "justify_items": null,
      "left": null,
      "margin": null,
      "max_height": null,
      "max_width": null,
      "min_height": null,
      "min_width": null,
      "object_fit": null,
      "object_position": null,
      "order": null,
      "overflow": null,
      "overflow_x": null,
      "overflow_y": null,
      "padding": null,
      "right": null,
      "top": null,
      "visibility": null,
      "width": null
     }
    },
    "06b917dd20694c848cef87f4ac11b2e1": {
     "model_module": "@jupyter-widgets/base",
     "model_name": "LayoutModel",
     "state": {
      "_model_module": "@jupyter-widgets/base",
      "_model_module_version": "1.2.0",
      "_model_name": "LayoutModel",
      "_view_count": null,
      "_view_module": "@jupyter-widgets/base",
      "_view_module_version": "1.2.0",
      "_view_name": "LayoutView",
      "align_content": null,
      "align_items": null,
      "align_self": null,
      "border": null,
      "bottom": null,
      "display": null,
      "flex": null,
      "flex_flow": null,
      "grid_area": null,
      "grid_auto_columns": null,
      "grid_auto_flow": null,
      "grid_auto_rows": null,
      "grid_column": null,
      "grid_gap": null,
      "grid_row": null,
      "grid_template_areas": null,
      "grid_template_columns": null,
      "grid_template_rows": null,
      "height": null,
      "justify_content": null,
      "justify_items": null,
      "left": null,
      "margin": null,
      "max_height": null,
      "max_width": null,
      "min_height": null,
      "min_width": null,
      "object_fit": null,
      "object_position": null,
      "order": null,
      "overflow": null,
      "overflow_x": null,
      "overflow_y": null,
      "padding": null,
      "right": null,
      "top": null,
      "visibility": null,
      "width": null
     }
    },
    "0b6cac0b1ad14f339bee098ecee86057": {
     "model_module": "@jupyter-widgets/base",
     "model_name": "LayoutModel",
     "state": {
      "_model_module": "@jupyter-widgets/base",
      "_model_module_version": "1.2.0",
      "_model_name": "LayoutModel",
      "_view_count": null,
      "_view_module": "@jupyter-widgets/base",
      "_view_module_version": "1.2.0",
      "_view_name": "LayoutView",
      "align_content": null,
      "align_items": null,
      "align_self": null,
      "border": null,
      "bottom": null,
      "display": null,
      "flex": null,
      "flex_flow": null,
      "grid_area": null,
      "grid_auto_columns": null,
      "grid_auto_flow": null,
      "grid_auto_rows": null,
      "grid_column": null,
      "grid_gap": null,
      "grid_row": null,
      "grid_template_areas": null,
      "grid_template_columns": null,
      "grid_template_rows": null,
      "height": null,
      "justify_content": null,
      "justify_items": null,
      "left": null,
      "margin": null,
      "max_height": null,
      "max_width": null,
      "min_height": null,
      "min_width": null,
      "object_fit": null,
      "object_position": null,
      "order": null,
      "overflow": null,
      "overflow_x": null,
      "overflow_y": null,
      "padding": null,
      "right": null,
      "top": null,
      "visibility": null,
      "width": null
     }
    },
    "0df702481955455c809693bc1972247d": {
     "model_module": "@jupyter-widgets/base",
     "model_name": "LayoutModel",
     "state": {
      "_model_module": "@jupyter-widgets/base",
      "_model_module_version": "1.2.0",
      "_model_name": "LayoutModel",
      "_view_count": null,
      "_view_module": "@jupyter-widgets/base",
      "_view_module_version": "1.2.0",
      "_view_name": "LayoutView",
      "align_content": null,
      "align_items": null,
      "align_self": null,
      "border": null,
      "bottom": null,
      "display": null,
      "flex": null,
      "flex_flow": null,
      "grid_area": null,
      "grid_auto_columns": null,
      "grid_auto_flow": null,
      "grid_auto_rows": null,
      "grid_column": null,
      "grid_gap": null,
      "grid_row": null,
      "grid_template_areas": null,
      "grid_template_columns": null,
      "grid_template_rows": null,
      "height": null,
      "justify_content": null,
      "justify_items": null,
      "left": null,
      "margin": null,
      "max_height": null,
      "max_width": null,
      "min_height": null,
      "min_width": null,
      "object_fit": null,
      "object_position": null,
      "order": null,
      "overflow": null,
      "overflow_x": null,
      "overflow_y": null,
      "padding": null,
      "right": null,
      "top": null,
      "visibility": null,
      "width": null
     }
    },
    "0e4e54fdd01a405ba5b80ef1bdd37dea": {
     "model_module": "@jupyter-widgets/controls",
     "model_name": "DescriptionStyleModel",
     "state": {
      "_model_module": "@jupyter-widgets/controls",
      "_model_module_version": "1.5.0",
      "_model_name": "DescriptionStyleModel",
      "_view_count": null,
      "_view_module": "@jupyter-widgets/base",
      "_view_module_version": "1.2.0",
      "_view_name": "StyleView",
      "description_width": ""
     }
    },
    "11836412a5b548db985f0f47203c0148": {
     "model_module": "@jupyter-widgets/controls",
     "model_name": "DescriptionStyleModel",
     "state": {
      "_model_module": "@jupyter-widgets/controls",
      "_model_module_version": "1.5.0",
      "_model_name": "DescriptionStyleModel",
      "_view_count": null,
      "_view_module": "@jupyter-widgets/base",
      "_view_module_version": "1.2.0",
      "_view_name": "StyleView",
      "description_width": ""
     }
    },
    "15d3b624d14a4d3d83726c851c5e21db": {
     "model_module": "@jupyter-widgets/base",
     "model_name": "LayoutModel",
     "state": {
      "_model_module": "@jupyter-widgets/base",
      "_model_module_version": "1.2.0",
      "_model_name": "LayoutModel",
      "_view_count": null,
      "_view_module": "@jupyter-widgets/base",
      "_view_module_version": "1.2.0",
      "_view_name": "LayoutView",
      "align_content": null,
      "align_items": null,
      "align_self": null,
      "border": null,
      "bottom": null,
      "display": null,
      "flex": null,
      "flex_flow": null,
      "grid_area": null,
      "grid_auto_columns": null,
      "grid_auto_flow": null,
      "grid_auto_rows": null,
      "grid_column": null,
      "grid_gap": null,
      "grid_row": null,
      "grid_template_areas": null,
      "grid_template_columns": null,
      "grid_template_rows": null,
      "height": null,
      "justify_content": null,
      "justify_items": null,
      "left": null,
      "margin": null,
      "max_height": null,
      "max_width": null,
      "min_height": null,
      "min_width": null,
      "object_fit": null,
      "object_position": null,
      "order": null,
      "overflow": null,
      "overflow_x": null,
      "overflow_y": null,
      "padding": null,
      "right": null,
      "top": null,
      "visibility": null,
      "width": null
     }
    },
    "1810dfe35a384083bf2b6041234be8e9": {
     "model_module": "@jupyter-widgets/controls",
     "model_name": "ProgressStyleModel",
     "state": {
      "_model_module": "@jupyter-widgets/controls",
      "_model_module_version": "1.5.0",
      "_model_name": "ProgressStyleModel",
      "_view_count": null,
      "_view_module": "@jupyter-widgets/base",
      "_view_module_version": "1.2.0",
      "_view_name": "StyleView",
      "bar_color": null,
      "description_width": "initial"
     }
    },
    "18f8b569091146beb6c3732a91c86c80": {
     "model_module": "@jupyter-widgets/controls",
     "model_name": "DescriptionStyleModel",
     "state": {
      "_model_module": "@jupyter-widgets/controls",
      "_model_module_version": "1.5.0",
      "_model_name": "DescriptionStyleModel",
      "_view_count": null,
      "_view_module": "@jupyter-widgets/base",
      "_view_module_version": "1.2.0",
      "_view_name": "StyleView",
      "description_width": ""
     }
    },
    "196969d71b494012b8a52584f9d50201": {
     "model_module": "@jupyter-widgets/controls",
     "model_name": "HBoxModel",
     "state": {
      "_dom_classes": [],
      "_model_module": "@jupyter-widgets/controls",
      "_model_module_version": "1.5.0",
      "_model_name": "HBoxModel",
      "_view_count": null,
      "_view_module": "@jupyter-widgets/controls",
      "_view_module_version": "1.5.0",
      "_view_name": "HBoxView",
      "box_style": "",
      "children": [
       "IPY_MODEL_99dfc7e0063d4004882cd434557c79bf",
       "IPY_MODEL_3530fc4b65264b61b78e094316877a21"
      ],
      "layout": "IPY_MODEL_06b917dd20694c848cef87f4ac11b2e1"
     }
    },
    "1a6f08d2ca414445b0347d2a8115578c": {
     "model_module": "@jupyter-widgets/controls",
     "model_name": "FloatProgressModel",
     "state": {
      "_dom_classes": [],
      "_model_module": "@jupyter-widgets/controls",
      "_model_module_version": "1.5.0",
      "_model_name": "FloatProgressModel",
      "_view_count": null,
      "_view_module": "@jupyter-widgets/controls",
      "_view_module_version": "1.5.0",
      "_view_name": "ProgressView",
      "bar_style": "info",
      "description": "",
      "description_tooltip": null,
      "layout": "IPY_MODEL_d1d2fc5da2034f2cbc4a12247ead4e51",
      "max": 1,
      "min": 0,
      "orientation": "horizontal",
      "style": "IPY_MODEL_c2cca6467968443ba06a323f4c0561da",
      "value": 1
     }
    },
    "2385daa9afcc460dab4fab0eb3499914": {
     "model_module": "@jupyter-widgets/base",
     "model_name": "LayoutModel",
     "state": {
      "_model_module": "@jupyter-widgets/base",
      "_model_module_version": "1.2.0",
      "_model_name": "LayoutModel",
      "_view_count": null,
      "_view_module": "@jupyter-widgets/base",
      "_view_module_version": "1.2.0",
      "_view_name": "LayoutView",
      "align_content": null,
      "align_items": null,
      "align_self": null,
      "border": null,
      "bottom": null,
      "display": null,
      "flex": null,
      "flex_flow": null,
      "grid_area": null,
      "grid_auto_columns": null,
      "grid_auto_flow": null,
      "grid_auto_rows": null,
      "grid_column": null,
      "grid_gap": null,
      "grid_row": null,
      "grid_template_areas": null,
      "grid_template_columns": null,
      "grid_template_rows": null,
      "height": null,
      "justify_content": null,
      "justify_items": null,
      "left": null,
      "margin": null,
      "max_height": null,
      "max_width": null,
      "min_height": null,
      "min_width": null,
      "object_fit": null,
      "object_position": null,
      "order": null,
      "overflow": null,
      "overflow_x": null,
      "overflow_y": null,
      "padding": null,
      "right": null,
      "top": null,
      "visibility": null,
      "width": null
     }
    },
    "3530fc4b65264b61b78e094316877a21": {
     "model_module": "@jupyter-widgets/controls",
     "model_name": "HTMLModel",
     "state": {
      "_dom_classes": [],
      "_model_module": "@jupyter-widgets/controls",
      "_model_module_version": "1.5.0",
      "_model_name": "HTMLModel",
      "_view_count": null,
      "_view_module": "@jupyter-widgets/controls",
      "_view_module_version": "1.5.0",
      "_view_name": "HTMLView",
      "description": "",
      "description_tooltip": null,
      "layout": "IPY_MODEL_0b6cac0b1ad14f339bee098ecee86057",
      "placeholder": "​",
      "style": "IPY_MODEL_0e4e54fdd01a405ba5b80ef1bdd37dea",
      "value": " 8192/? [00:01&lt;00:00, 8007.20it/s]"
     }
    },
    "3f1d12814e484e8e8b1c1d4900f4ab46": {
     "model_module": "@jupyter-widgets/controls",
     "model_name": "FloatProgressModel",
     "state": {
      "_dom_classes": [],
      "_model_module": "@jupyter-widgets/controls",
      "_model_module_version": "1.5.0",
      "_model_name": "FloatProgressModel",
      "_view_count": null,
      "_view_module": "@jupyter-widgets/controls",
      "_view_module_version": "1.5.0",
      "_view_name": "ProgressView",
      "bar_style": "info",
      "description": "",
      "description_tooltip": null,
      "layout": "IPY_MODEL_ed7b03e4f80f4af1ab3113f192aa9f47",
      "max": 1,
      "min": 0,
      "orientation": "horizontal",
      "style": "IPY_MODEL_a59d9ee14953462281c40190d3e125ee",
      "value": 1
     }
    },
    "45446691eea145f682b3e9dfc86a3ec9": {
     "model_module": "@jupyter-widgets/controls",
     "model_name": "ProgressStyleModel",
     "state": {
      "_model_module": "@jupyter-widgets/controls",
      "_model_module_version": "1.5.0",
      "_model_name": "ProgressStyleModel",
      "_view_count": null,
      "_view_module": "@jupyter-widgets/base",
      "_view_module_version": "1.2.0",
      "_view_name": "StyleView",
      "bar_color": null,
      "description_width": "initial"
     }
    },
    "467e749cacf74b3cac743da14de4d301": {
     "model_module": "@jupyter-widgets/controls",
     "model_name": "DescriptionStyleModel",
     "state": {
      "_model_module": "@jupyter-widgets/controls",
      "_model_module_version": "1.5.0",
      "_model_name": "DescriptionStyleModel",
      "_view_count": null,
      "_view_module": "@jupyter-widgets/base",
      "_view_module_version": "1.2.0",
      "_view_name": "StyleView",
      "description_width": ""
     }
    },
    "490d326e50a245b6911807e2ead8dfd6": {
     "model_module": "@jupyter-widgets/base",
     "model_name": "LayoutModel",
     "state": {
      "_model_module": "@jupyter-widgets/base",
      "_model_module_version": "1.2.0",
      "_model_name": "LayoutModel",
      "_view_count": null,
      "_view_module": "@jupyter-widgets/base",
      "_view_module_version": "1.2.0",
      "_view_name": "LayoutView",
      "align_content": null,
      "align_items": null,
      "align_self": null,
      "border": null,
      "bottom": null,
      "display": null,
      "flex": null,
      "flex_flow": null,
      "grid_area": null,
      "grid_auto_columns": null,
      "grid_auto_flow": null,
      "grid_auto_rows": null,
      "grid_column": null,
      "grid_gap": null,
      "grid_row": null,
      "grid_template_areas": null,
      "grid_template_columns": null,
      "grid_template_rows": null,
      "height": null,
      "justify_content": null,
      "justify_items": null,
      "left": null,
      "margin": null,
      "max_height": null,
      "max_width": null,
      "min_height": null,
      "min_width": null,
      "object_fit": null,
      "object_position": null,
      "order": null,
      "overflow": null,
      "overflow_x": null,
      "overflow_y": null,
      "padding": null,
      "right": null,
      "top": null,
      "visibility": null,
      "width": null
     }
    },
    "498da1c80a724e218a24b41b27049683": {
     "model_module": "@jupyter-widgets/controls",
     "model_name": "HTMLModel",
     "state": {
      "_dom_classes": [],
      "_model_module": "@jupyter-widgets/controls",
      "_model_module_version": "1.5.0",
      "_model_name": "HTMLModel",
      "_view_count": null,
      "_view_module": "@jupyter-widgets/controls",
      "_view_module_version": "1.5.0",
      "_view_name": "HTMLView",
      "description": "",
      "description_tooltip": null,
      "layout": "IPY_MODEL_a924987b839c4f61aa495922b497effe",
      "placeholder": "​",
      "style": "IPY_MODEL_18f8b569091146beb6c3732a91c86c80",
      "value": " 32768/? [00:01&lt;00:00, 29836.23it/s]"
     }
    },
    "507084f3dfd648909dbf551039b10277": {
     "model_module": "@jupyter-widgets/base",
     "model_name": "LayoutModel",
     "state": {
      "_model_module": "@jupyter-widgets/base",
      "_model_module_version": "1.2.0",
      "_model_name": "LayoutModel",
      "_view_count": null,
      "_view_module": "@jupyter-widgets/base",
      "_view_module_version": "1.2.0",
      "_view_name": "LayoutView",
      "align_content": null,
      "align_items": null,
      "align_self": null,
      "border": null,
      "bottom": null,
      "display": null,
      "flex": null,
      "flex_flow": null,
      "grid_area": null,
      "grid_auto_columns": null,
      "grid_auto_flow": null,
      "grid_auto_rows": null,
      "grid_column": null,
      "grid_gap": null,
      "grid_row": null,
      "grid_template_areas": null,
      "grid_template_columns": null,
      "grid_template_rows": null,
      "height": null,
      "justify_content": null,
      "justify_items": null,
      "left": null,
      "margin": null,
      "max_height": null,
      "max_width": null,
      "min_height": null,
      "min_width": null,
      "object_fit": null,
      "object_position": null,
      "order": null,
      "overflow": null,
      "overflow_x": null,
      "overflow_y": null,
      "padding": null,
      "right": null,
      "top": null,
      "visibility": null,
      "width": null
     }
    },
    "56390bc20db44d98942252c041bd2254": {
     "model_module": "@jupyter-widgets/base",
     "model_name": "LayoutModel",
     "state": {
      "_model_module": "@jupyter-widgets/base",
      "_model_module_version": "1.2.0",
      "_model_name": "LayoutModel",
      "_view_count": null,
      "_view_module": "@jupyter-widgets/base",
      "_view_module_version": "1.2.0",
      "_view_name": "LayoutView",
      "align_content": null,
      "align_items": null,
      "align_self": null,
      "border": null,
      "bottom": null,
      "display": null,
      "flex": null,
      "flex_flow": null,
      "grid_area": null,
      "grid_auto_columns": null,
      "grid_auto_flow": null,
      "grid_auto_rows": null,
      "grid_column": null,
      "grid_gap": null,
      "grid_row": null,
      "grid_template_areas": null,
      "grid_template_columns": null,
      "grid_template_rows": null,
      "height": null,
      "justify_content": null,
      "justify_items": null,
      "left": null,
      "margin": null,
      "max_height": null,
      "max_width": null,
      "min_height": null,
      "min_width": null,
      "object_fit": null,
      "object_position": null,
      "order": null,
      "overflow": null,
      "overflow_x": null,
      "overflow_y": null,
      "padding": null,
      "right": null,
      "top": null,
      "visibility": null,
      "width": null
     }
    },
    "5d8dbd34b29e422da85886be60567beb": {
     "model_module": "@jupyter-widgets/controls",
     "model_name": "HBoxModel",
     "state": {
      "_dom_classes": [],
      "_model_module": "@jupyter-widgets/controls",
      "_model_module_version": "1.5.0",
      "_model_name": "HBoxModel",
      "_view_count": null,
      "_view_module": "@jupyter-widgets/controls",
      "_view_module_version": "1.5.0",
      "_view_name": "HBoxView",
      "box_style": "",
      "children": [
       "IPY_MODEL_7f161a4ef67c46699e34915664448798",
       "IPY_MODEL_71a185c3c8204b36ac7b7a78500ef9f9"
      ],
      "layout": "IPY_MODEL_f0ce564b1c0d499084f88182c016ba03"
     }
    },
    "60e5165ee5fa4f658b1a6afa7e57d870": {
     "model_module": "@jupyter-widgets/controls",
     "model_name": "FloatProgressModel",
     "state": {
      "_dom_classes": [],
      "_model_module": "@jupyter-widgets/controls",
      "_model_module_version": "1.5.0",
      "_model_name": "FloatProgressModel",
      "_view_count": null,
      "_view_module": "@jupyter-widgets/controls",
      "_view_module_version": "1.5.0",
      "_view_name": "ProgressView",
      "bar_style": "info",
      "description": "  0%",
      "description_tooltip": null,
      "layout": "IPY_MODEL_79a0861e36374a3a9464ca2a6a69e54e",
      "max": 1,
      "min": 0,
      "orientation": "horizontal",
      "style": "IPY_MODEL_bea52aaa5419473784808ba50245589d",
      "value": 0
     }
    },
    "6a0d657066804e658534da7c33bddf85": {
     "model_module": "@jupyter-widgets/base",
     "model_name": "LayoutModel",
     "state": {
      "_model_module": "@jupyter-widgets/base",
      "_model_module_version": "1.2.0",
      "_model_name": "LayoutModel",
      "_view_count": null,
      "_view_module": "@jupyter-widgets/base",
      "_view_module_version": "1.2.0",
      "_view_name": "LayoutView",
      "align_content": null,
      "align_items": null,
      "align_self": null,
      "border": null,
      "bottom": null,
      "display": null,
      "flex": null,
      "flex_flow": null,
      "grid_area": null,
      "grid_auto_columns": null,
      "grid_auto_flow": null,
      "grid_auto_rows": null,
      "grid_column": null,
      "grid_gap": null,
      "grid_row": null,
      "grid_template_areas": null,
      "grid_template_columns": null,
      "grid_template_rows": null,
      "height": null,
      "justify_content": null,
      "justify_items": null,
      "left": null,
      "margin": null,
      "max_height": null,
      "max_width": null,
      "min_height": null,
      "min_width": null,
      "object_fit": null,
      "object_position": null,
      "order": null,
      "overflow": null,
      "overflow_x": null,
      "overflow_y": null,
      "padding": null,
      "right": null,
      "top": null,
      "visibility": null,
      "width": null
     }
    },
    "71a185c3c8204b36ac7b7a78500ef9f9": {
     "model_module": "@jupyter-widgets/controls",
     "model_name": "HTMLModel",
     "state": {
      "_dom_classes": [],
      "_model_module": "@jupyter-widgets/controls",
      "_model_module_version": "1.5.0",
      "_model_name": "HTMLModel",
      "_view_count": null,
      "_view_module": "@jupyter-widgets/controls",
      "_view_module_version": "1.5.0",
      "_view_name": "HTMLView",
      "description": "",
      "description_tooltip": null,
      "layout": "IPY_MODEL_6a0d657066804e658534da7c33bddf85",
      "placeholder": "​",
      "style": "IPY_MODEL_f3d69c49c289404e80c78fb9eadb6148",
      "value": " 32768/? [00:04&lt;00:00, 7099.94it/s]"
     }
    },
    "73c362907c0f4a8bb823dd758b5d1e70": {
     "model_module": "@jupyter-widgets/base",
     "model_name": "LayoutModel",
     "state": {
      "_model_module": "@jupyter-widgets/base",
      "_model_module_version": "1.2.0",
      "_model_name": "LayoutModel",
      "_view_count": null,
      "_view_module": "@jupyter-widgets/base",
      "_view_module_version": "1.2.0",
      "_view_name": "LayoutView",
      "align_content": null,
      "align_items": null,
      "align_self": null,
      "border": null,
      "bottom": null,
      "display": null,
      "flex": null,
      "flex_flow": null,
      "grid_area": null,
      "grid_auto_columns": null,
      "grid_auto_flow": null,
      "grid_auto_rows": null,
      "grid_column": null,
      "grid_gap": null,
      "grid_row": null,
      "grid_template_areas": null,
      "grid_template_columns": null,
      "grid_template_rows": null,
      "height": null,
      "justify_content": null,
      "justify_items": null,
      "left": null,
      "margin": null,
      "max_height": null,
      "max_width": null,
      "min_height": null,
      "min_width": null,
      "object_fit": null,
      "object_position": null,
      "order": null,
      "overflow": null,
      "overflow_x": null,
      "overflow_y": null,
      "padding": null,
      "right": null,
      "top": null,
      "visibility": null,
      "width": null
     }
    },
    "79a0861e36374a3a9464ca2a6a69e54e": {
     "model_module": "@jupyter-widgets/base",
     "model_name": "LayoutModel",
     "state": {
      "_model_module": "@jupyter-widgets/base",
      "_model_module_version": "1.2.0",
      "_model_name": "LayoutModel",
      "_view_count": null,
      "_view_module": "@jupyter-widgets/base",
      "_view_module_version": "1.2.0",
      "_view_name": "LayoutView",
      "align_content": null,
      "align_items": null,
      "align_self": null,
      "border": null,
      "bottom": null,
      "display": null,
      "flex": null,
      "flex_flow": null,
      "grid_area": null,
      "grid_auto_columns": null,
      "grid_auto_flow": null,
      "grid_auto_rows": null,
      "grid_column": null,
      "grid_gap": null,
      "grid_row": null,
      "grid_template_areas": null,
      "grid_template_columns": null,
      "grid_template_rows": null,
      "height": null,
      "justify_content": null,
      "justify_items": null,
      "left": null,
      "margin": null,
      "max_height": null,
      "max_width": null,
      "min_height": null,
      "min_width": null,
      "object_fit": null,
      "object_position": null,
      "order": null,
      "overflow": null,
      "overflow_x": null,
      "overflow_y": null,
      "padding": null,
      "right": null,
      "top": null,
      "visibility": null,
      "width": null
     }
    },
    "7f161a4ef67c46699e34915664448798": {
     "model_module": "@jupyter-widgets/controls",
     "model_name": "FloatProgressModel",
     "state": {
      "_dom_classes": [],
      "_model_module": "@jupyter-widgets/controls",
      "_model_module_version": "1.5.0",
      "_model_name": "FloatProgressModel",
      "_view_count": null,
      "_view_module": "@jupyter-widgets/controls",
      "_view_module_version": "1.5.0",
      "_view_name": "ProgressView",
      "bar_style": "success",
      "description": "",
      "description_tooltip": null,
      "layout": "IPY_MODEL_d69518fea14c44c59c53c02457af5495",
      "max": 1,
      "min": 0,
      "orientation": "horizontal",
      "style": "IPY_MODEL_b2057e1f02074056851069d0cabd4a20",
      "value": 1
     }
    },
    "81260284233a48d8807c110290887c41": {
     "model_module": "@jupyter-widgets/base",
     "model_name": "LayoutModel",
     "state": {
      "_model_module": "@jupyter-widgets/base",
      "_model_module_version": "1.2.0",
      "_model_name": "LayoutModel",
      "_view_count": null,
      "_view_module": "@jupyter-widgets/base",
      "_view_module_version": "1.2.0",
      "_view_name": "LayoutView",
      "align_content": null,
      "align_items": null,
      "align_self": null,
      "border": null,
      "bottom": null,
      "display": null,
      "flex": null,
      "flex_flow": null,
      "grid_area": null,
      "grid_auto_columns": null,
      "grid_auto_flow": null,
      "grid_auto_rows": null,
      "grid_column": null,
      "grid_gap": null,
      "grid_row": null,
      "grid_template_areas": null,
      "grid_template_columns": null,
      "grid_template_rows": null,
      "height": null,
      "justify_content": null,
      "justify_items": null,
      "left": null,
      "margin": null,
      "max_height": null,
      "max_width": null,
      "min_height": null,
      "min_width": null,
      "object_fit": null,
      "object_position": null,
      "order": null,
      "overflow": null,
      "overflow_x": null,
      "overflow_y": null,
      "padding": null,
      "right": null,
      "top": null,
      "visibility": null,
      "width": null
     }
    },
    "8719071a7cdd4c9c9df412f3f1a18f1f": {
     "model_module": "@jupyter-widgets/controls",
     "model_name": "ProgressStyleModel",
     "state": {
      "_model_module": "@jupyter-widgets/controls",
      "_model_module_version": "1.5.0",
      "_model_name": "ProgressStyleModel",
      "_view_count": null,
      "_view_module": "@jupyter-widgets/base",
      "_view_module_version": "1.2.0",
      "_view_name": "StyleView",
      "bar_color": null,
      "description_width": "initial"
     }
    },
    "9054a24758044b1da895a28ec540dd9d": {
     "model_module": "@jupyter-widgets/controls",
     "model_name": "FloatProgressModel",
     "state": {
      "_dom_classes": [],
      "_model_module": "@jupyter-widgets/controls",
      "_model_module_version": "1.5.0",
      "_model_name": "FloatProgressModel",
      "_view_count": null,
      "_view_module": "@jupyter-widgets/controls",
      "_view_module_version": "1.5.0",
      "_view_name": "ProgressView",
      "bar_style": "info",
      "description": "",
      "description_tooltip": null,
      "layout": "IPY_MODEL_490d326e50a245b6911807e2ead8dfd6",
      "max": 1,
      "min": 0,
      "orientation": "horizontal",
      "style": "IPY_MODEL_8719071a7cdd4c9c9df412f3f1a18f1f",
      "value": 1
     }
    },
    "98cd9ad523994dda91464699551d2b3b": {
     "model_module": "@jupyter-widgets/controls",
     "model_name": "HBoxModel",
     "state": {
      "_dom_classes": [],
      "_model_module": "@jupyter-widgets/controls",
      "_model_module_version": "1.5.0",
      "_model_name": "HBoxModel",
      "_view_count": null,
      "_view_module": "@jupyter-widgets/controls",
      "_view_module_version": "1.5.0",
      "_view_name": "HBoxView",
      "box_style": "",
      "children": [
       "IPY_MODEL_9054a24758044b1da895a28ec540dd9d",
       "IPY_MODEL_baf38b8c974c496d9250e41505aa59ae"
      ],
      "layout": "IPY_MODEL_e30e11ff2435479fb05dac246dc35903"
     }
    },
    "99dfc7e0063d4004882cd434557c79bf": {
     "model_module": "@jupyter-widgets/controls",
     "model_name": "FloatProgressModel",
     "state": {
      "_dom_classes": [],
      "_model_module": "@jupyter-widgets/controls",
      "_model_module_version": "1.5.0",
      "_model_name": "FloatProgressModel",
      "_view_count": null,
      "_view_module": "@jupyter-widgets/controls",
      "_view_module_version": "1.5.0",
      "_view_name": "ProgressView",
      "bar_style": "success",
      "description": "",
      "description_tooltip": null,
      "layout": "IPY_MODEL_15d3b624d14a4d3d83726c851c5e21db",
      "max": 1,
      "min": 0,
      "orientation": "horizontal",
      "style": "IPY_MODEL_9f47bfb81ffb42d1a943d994ad36cfaf",
      "value": 1
     }
    },
    "9f47bfb81ffb42d1a943d994ad36cfaf": {
     "model_module": "@jupyter-widgets/controls",
     "model_name": "ProgressStyleModel",
     "state": {
      "_model_module": "@jupyter-widgets/controls",
      "_model_module_version": "1.5.0",
      "_model_name": "ProgressStyleModel",
      "_view_count": null,
      "_view_module": "@jupyter-widgets/base",
      "_view_module_version": "1.2.0",
      "_view_name": "StyleView",
      "bar_color": null,
      "description_width": "initial"
     }
    },
    "a59d9ee14953462281c40190d3e125ee": {
     "model_module": "@jupyter-widgets/controls",
     "model_name": "ProgressStyleModel",
     "state": {
      "_model_module": "@jupyter-widgets/controls",
      "_model_module_version": "1.5.0",
      "_model_name": "ProgressStyleModel",
      "_view_count": null,
      "_view_module": "@jupyter-widgets/base",
      "_view_module_version": "1.2.0",
      "_view_name": "StyleView",
      "bar_color": null,
      "description_width": "initial"
     }
    },
    "a924987b839c4f61aa495922b497effe": {
     "model_module": "@jupyter-widgets/base",
     "model_name": "LayoutModel",
     "state": {
      "_model_module": "@jupyter-widgets/base",
      "_model_module_version": "1.2.0",
      "_model_name": "LayoutModel",
      "_view_count": null,
      "_view_module": "@jupyter-widgets/base",
      "_view_module_version": "1.2.0",
      "_view_name": "LayoutView",
      "align_content": null,
      "align_items": null,
      "align_self": null,
      "border": null,
      "bottom": null,
      "display": null,
      "flex": null,
      "flex_flow": null,
      "grid_area": null,
      "grid_auto_columns": null,
      "grid_auto_flow": null,
      "grid_auto_rows": null,
      "grid_column": null,
      "grid_gap": null,
      "grid_row": null,
      "grid_template_areas": null,
      "grid_template_columns": null,
      "grid_template_rows": null,
      "height": null,
      "justify_content": null,
      "justify_items": null,
      "left": null,
      "margin": null,
      "max_height": null,
      "max_width": null,
      "min_height": null,
      "min_width": null,
      "object_fit": null,
      "object_position": null,
      "order": null,
      "overflow": null,
      "overflow_x": null,
      "overflow_y": null,
      "padding": null,
      "right": null,
      "top": null,
      "visibility": null,
      "width": null
     }
    },
    "a92aef955dfa4c81959a00150dfab3fc": {
     "model_module": "@jupyter-widgets/base",
     "model_name": "LayoutModel",
     "state": {
      "_model_module": "@jupyter-widgets/base",
      "_model_module_version": "1.2.0",
      "_model_name": "LayoutModel",
      "_view_count": null,
      "_view_module": "@jupyter-widgets/base",
      "_view_module_version": "1.2.0",
      "_view_name": "LayoutView",
      "align_content": null,
      "align_items": null,
      "align_self": null,
      "border": null,
      "bottom": null,
      "display": null,
      "flex": null,
      "flex_flow": null,
      "grid_area": null,
      "grid_auto_columns": null,
      "grid_auto_flow": null,
      "grid_auto_rows": null,
      "grid_column": null,
      "grid_gap": null,
      "grid_row": null,
      "grid_template_areas": null,
      "grid_template_columns": null,
      "grid_template_rows": null,
      "height": null,
      "justify_content": null,
      "justify_items": null,
      "left": null,
      "margin": null,
      "max_height": null,
      "max_width": null,
      "min_height": null,
      "min_width": null,
      "object_fit": null,
      "object_position": null,
      "order": null,
      "overflow": null,
      "overflow_x": null,
      "overflow_y": null,
      "padding": null,
      "right": null,
      "top": null,
      "visibility": null,
      "width": null
     }
    },
    "b0354cf6272b467f9c1453b30322378e": {
     "model_module": "@jupyter-widgets/controls",
     "model_name": "HBoxModel",
     "state": {
      "_dom_classes": [],
      "_model_module": "@jupyter-widgets/controls",
      "_model_module_version": "1.5.0",
      "_model_name": "HBoxModel",
      "_view_count": null,
      "_view_module": "@jupyter-widgets/controls",
      "_view_module_version": "1.5.0",
      "_view_name": "HBoxView",
      "box_style": "",
      "children": [
       "IPY_MODEL_3f1d12814e484e8e8b1c1d4900f4ab46",
       "IPY_MODEL_b2fc68b04b9646c1bc99cb881dfb6a3b"
      ],
      "layout": "IPY_MODEL_81260284233a48d8807c110290887c41"
     }
    },
    "b18ee45c02df41db9b093cbbe0ae045e": {
     "model_module": "@jupyter-widgets/base",
     "model_name": "LayoutModel",
     "state": {
      "_model_module": "@jupyter-widgets/base",
      "_model_module_version": "1.2.0",
      "_model_name": "LayoutModel",
      "_view_count": null,
      "_view_module": "@jupyter-widgets/base",
      "_view_module_version": "1.2.0",
      "_view_name": "LayoutView",
      "align_content": null,
      "align_items": null,
      "align_self": null,
      "border": null,
      "bottom": null,
      "display": null,
      "flex": null,
      "flex_flow": null,
      "grid_area": null,
      "grid_auto_columns": null,
      "grid_auto_flow": null,
      "grid_auto_rows": null,
      "grid_column": null,
      "grid_gap": null,
      "grid_row": null,
      "grid_template_areas": null,
      "grid_template_columns": null,
      "grid_template_rows": null,
      "height": null,
      "justify_content": null,
      "justify_items": null,
      "left": null,
      "margin": null,
      "max_height": null,
      "max_width": null,
      "min_height": null,
      "min_width": null,
      "object_fit": null,
      "object_position": null,
      "order": null,
      "overflow": null,
      "overflow_x": null,
      "overflow_y": null,
      "padding": null,
      "right": null,
      "top": null,
      "visibility": null,
      "width": null
     }
    },
    "b2057e1f02074056851069d0cabd4a20": {
     "model_module": "@jupyter-widgets/controls",
     "model_name": "ProgressStyleModel",
     "state": {
      "_model_module": "@jupyter-widgets/controls",
      "_model_module_version": "1.5.0",
      "_model_name": "ProgressStyleModel",
      "_view_count": null,
      "_view_module": "@jupyter-widgets/base",
      "_view_module_version": "1.2.0",
      "_view_name": "StyleView",
      "bar_color": null,
      "description_width": "initial"
     }
    },
    "b2fc68b04b9646c1bc99cb881dfb6a3b": {
     "model_module": "@jupyter-widgets/controls",
     "model_name": "HTMLModel",
     "state": {
      "_dom_classes": [],
      "_model_module": "@jupyter-widgets/controls",
      "_model_module_version": "1.5.0",
      "_model_name": "HTMLModel",
      "_view_count": null,
      "_view_module": "@jupyter-widgets/controls",
      "_view_module_version": "1.5.0",
      "_view_name": "HTMLView",
      "description": "",
      "description_tooltip": null,
      "layout": "IPY_MODEL_0df702481955455c809693bc1972247d",
      "placeholder": "​",
      "style": "IPY_MODEL_467e749cacf74b3cac743da14de4d301",
      "value": " 9920512/? [00:21&lt;00:00, 3108211.78it/s]"
     }
    },
    "baf38b8c974c496d9250e41505aa59ae": {
     "model_module": "@jupyter-widgets/controls",
     "model_name": "HTMLModel",
     "state": {
      "_dom_classes": [],
      "_model_module": "@jupyter-widgets/controls",
      "_model_module_version": "1.5.0",
      "_model_name": "HTMLModel",
      "_view_count": null,
      "_view_module": "@jupyter-widgets/controls",
      "_view_module_version": "1.5.0",
      "_view_name": "HTMLView",
      "description": "",
      "description_tooltip": null,
      "layout": "IPY_MODEL_56390bc20db44d98942252c041bd2254",
      "placeholder": "​",
      "style": "IPY_MODEL_11836412a5b548db985f0f47203c0148",
      "value": " 9920512/? [00:20&lt;00:00, 3895220.12it/s]"
     }
    },
    "bc0c0bad47ad47f88b3c5d256ee79df8": {
     "model_module": "@jupyter-widgets/controls",
     "model_name": "HTMLModel",
     "state": {
      "_dom_classes": [],
      "_model_module": "@jupyter-widgets/controls",
      "_model_module_version": "1.5.0",
      "_model_name": "HTMLModel",
      "_view_count": null,
      "_view_module": "@jupyter-widgets/controls",
      "_view_module_version": "1.5.0",
      "_view_name": "HTMLView",
      "description": "",
      "description_tooltip": null,
      "layout": "IPY_MODEL_2385daa9afcc460dab4fab0eb3499914",
      "placeholder": "​",
      "style": "IPY_MODEL_ebab738db4bf41b488815a8362486d5e",
      "value": " 1654784/? [00:15&lt;00:00, 720835.93it/s]"
     }
    },
    "bdd7b26d74394f5e949e41ac6ae5de98": {
     "model_module": "@jupyter-widgets/base",
     "model_name": "LayoutModel",
     "state": {
      "_model_module": "@jupyter-widgets/base",
      "_model_module_version": "1.2.0",
      "_model_name": "LayoutModel",
      "_view_count": null,
      "_view_module": "@jupyter-widgets/base",
      "_view_module_version": "1.2.0",
      "_view_name": "LayoutView",
      "align_content": null,
      "align_items": null,
      "align_self": null,
      "border": null,
      "bottom": null,
      "display": null,
      "flex": null,
      "flex_flow": null,
      "grid_area": null,
      "grid_auto_columns": null,
      "grid_auto_flow": null,
      "grid_auto_rows": null,
      "grid_column": null,
      "grid_gap": null,
      "grid_row": null,
      "grid_template_areas": null,
      "grid_template_columns": null,
      "grid_template_rows": null,
      "height": null,
      "justify_content": null,
      "justify_items": null,
      "left": null,
      "margin": null,
      "max_height": null,
      "max_width": null,
      "min_height": null,
      "min_width": null,
      "object_fit": null,
      "object_position": null,
      "order": null,
      "overflow": null,
      "overflow_x": null,
      "overflow_y": null,
      "padding": null,
      "right": null,
      "top": null,
      "visibility": null,
      "width": null
     }
    },
    "bea52aaa5419473784808ba50245589d": {
     "model_module": "@jupyter-widgets/controls",
     "model_name": "ProgressStyleModel",
     "state": {
      "_model_module": "@jupyter-widgets/controls",
      "_model_module_version": "1.5.0",
      "_model_name": "ProgressStyleModel",
      "_view_count": null,
      "_view_module": "@jupyter-widgets/base",
      "_view_module_version": "1.2.0",
      "_view_name": "StyleView",
      "bar_color": null,
      "description_width": "initial"
     }
    },
    "c2cca6467968443ba06a323f4c0561da": {
     "model_module": "@jupyter-widgets/controls",
     "model_name": "ProgressStyleModel",
     "state": {
      "_model_module": "@jupyter-widgets/controls",
      "_model_module_version": "1.5.0",
      "_model_name": "ProgressStyleModel",
      "_view_count": null,
      "_view_module": "@jupyter-widgets/base",
      "_view_module_version": "1.2.0",
      "_view_name": "StyleView",
      "bar_color": null,
      "description_width": "initial"
     }
    },
    "c955aaecef7f48bfb7588d712deb7e52": {
     "model_module": "@jupyter-widgets/controls",
     "model_name": "FloatProgressModel",
     "state": {
      "_dom_classes": [],
      "_model_module": "@jupyter-widgets/controls",
      "_model_module_version": "1.5.0",
      "_model_name": "FloatProgressModel",
      "_view_count": null,
      "_view_module": "@jupyter-widgets/controls",
      "_view_module_version": "1.5.0",
      "_view_name": "ProgressView",
      "bar_style": "success",
      "description": "",
      "description_tooltip": null,
      "layout": "IPY_MODEL_df3835d5706b49af98265aea3b409124",
      "max": 1,
      "min": 0,
      "orientation": "horizontal",
      "style": "IPY_MODEL_1810dfe35a384083bf2b6041234be8e9",
      "value": 1
     }
    },
    "ca4959a99d7240f4a839bca8eaab4153": {
     "model_module": "@jupyter-widgets/controls",
     "model_name": "HBoxModel",
     "state": {
      "_dom_classes": [],
      "_model_module": "@jupyter-widgets/controls",
      "_model_module_version": "1.5.0",
      "_model_name": "HBoxModel",
      "_view_count": null,
      "_view_module": "@jupyter-widgets/controls",
      "_view_module_version": "1.5.0",
      "_view_name": "HBoxView",
      "box_style": "",
      "children": [
       "IPY_MODEL_60e5165ee5fa4f658b1a6afa7e57d870",
       "IPY_MODEL_f5e793b152e6407683422492bbcfd689"
      ],
      "layout": "IPY_MODEL_507084f3dfd648909dbf551039b10277"
     }
    },
    "d11e30c492e6478baff5c0973871a824": {
     "model_module": "@jupyter-widgets/controls",
     "model_name": "HTMLModel",
     "state": {
      "_dom_classes": [],
      "_model_module": "@jupyter-widgets/controls",
      "_model_module_version": "1.5.0",
      "_model_name": "HTMLModel",
      "_view_count": null,
      "_view_module": "@jupyter-widgets/controls",
      "_view_module_version": "1.5.0",
      "_view_name": "HTMLView",
      "description": "",
      "description_tooltip": null,
      "layout": "IPY_MODEL_0665403511994d82bc8370148f44e070",
      "placeholder": "​",
      "style": "IPY_MODEL_f94b9d8fe0884a31aa9a4f51dfc6cf84",
      "value": " 1654784/? [00:03&lt;00:00, 475911.17it/s]"
     }
    },
    "d1d2fc5da2034f2cbc4a12247ead4e51": {
     "model_module": "@jupyter-widgets/base",
     "model_name": "LayoutModel",
     "state": {
      "_model_module": "@jupyter-widgets/base",
      "_model_module_version": "1.2.0",
      "_model_name": "LayoutModel",
      "_view_count": null,
      "_view_module": "@jupyter-widgets/base",
      "_view_module_version": "1.2.0",
      "_view_name": "LayoutView",
      "align_content": null,
      "align_items": null,
      "align_self": null,
      "border": null,
      "bottom": null,
      "display": null,
      "flex": null,
      "flex_flow": null,
      "grid_area": null,
      "grid_auto_columns": null,
      "grid_auto_flow": null,
      "grid_auto_rows": null,
      "grid_column": null,
      "grid_gap": null,
      "grid_row": null,
      "grid_template_areas": null,
      "grid_template_columns": null,
      "grid_template_rows": null,
      "height": null,
      "justify_content": null,
      "justify_items": null,
      "left": null,
      "margin": null,
      "max_height": null,
      "max_width": null,
      "min_height": null,
      "min_width": null,
      "object_fit": null,
      "object_position": null,
      "order": null,
      "overflow": null,
      "overflow_x": null,
      "overflow_y": null,
      "padding": null,
      "right": null,
      "top": null,
      "visibility": null,
      "width": null
     }
    },
    "d3af59d85b3648da95f39fad9c5e4735": {
     "model_module": "@jupyter-widgets/base",
     "model_name": "LayoutModel",
     "state": {
      "_model_module": "@jupyter-widgets/base",
      "_model_module_version": "1.2.0",
      "_model_name": "LayoutModel",
      "_view_count": null,
      "_view_module": "@jupyter-widgets/base",
      "_view_module_version": "1.2.0",
      "_view_name": "LayoutView",
      "align_content": null,
      "align_items": null,
      "align_self": null,
      "border": null,
      "bottom": null,
      "display": null,
      "flex": null,
      "flex_flow": null,
      "grid_area": null,
      "grid_auto_columns": null,
      "grid_auto_flow": null,
      "grid_auto_rows": null,
      "grid_column": null,
      "grid_gap": null,
      "grid_row": null,
      "grid_template_areas": null,
      "grid_template_columns": null,
      "grid_template_rows": null,
      "height": null,
      "justify_content": null,
      "justify_items": null,
      "left": null,
      "margin": null,
      "max_height": null,
      "max_width": null,
      "min_height": null,
      "min_width": null,
      "object_fit": null,
      "object_position": null,
      "order": null,
      "overflow": null,
      "overflow_x": null,
      "overflow_y": null,
      "padding": null,
      "right": null,
      "top": null,
      "visibility": null,
      "width": null
     }
    },
    "d69518fea14c44c59c53c02457af5495": {
     "model_module": "@jupyter-widgets/base",
     "model_name": "LayoutModel",
     "state": {
      "_model_module": "@jupyter-widgets/base",
      "_model_module_version": "1.2.0",
      "_model_name": "LayoutModel",
      "_view_count": null,
      "_view_module": "@jupyter-widgets/base",
      "_view_module_version": "1.2.0",
      "_view_name": "LayoutView",
      "align_content": null,
      "align_items": null,
      "align_self": null,
      "border": null,
      "bottom": null,
      "display": null,
      "flex": null,
      "flex_flow": null,
      "grid_area": null,
      "grid_auto_columns": null,
      "grid_auto_flow": null,
      "grid_auto_rows": null,
      "grid_column": null,
      "grid_gap": null,
      "grid_row": null,
      "grid_template_areas": null,
      "grid_template_columns": null,
      "grid_template_rows": null,
      "height": null,
      "justify_content": null,
      "justify_items": null,
      "left": null,
      "margin": null,
      "max_height": null,
      "max_width": null,
      "min_height": null,
      "min_width": null,
      "object_fit": null,
      "object_position": null,
      "order": null,
      "overflow": null,
      "overflow_x": null,
      "overflow_y": null,
      "padding": null,
      "right": null,
      "top": null,
      "visibility": null,
      "width": null
     }
    },
    "d7306d3f075d479b9d7dd8d0fc3b75c0": {
     "model_module": "@jupyter-widgets/controls",
     "model_name": "FloatProgressModel",
     "state": {
      "_dom_classes": [],
      "_model_module": "@jupyter-widgets/controls",
      "_model_module_version": "1.5.0",
      "_model_name": "FloatProgressModel",
      "_view_count": null,
      "_view_module": "@jupyter-widgets/controls",
      "_view_module_version": "1.5.0",
      "_view_name": "ProgressView",
      "bar_style": "success",
      "description": "",
      "description_tooltip": null,
      "layout": "IPY_MODEL_bdd7b26d74394f5e949e41ac6ae5de98",
      "max": 1,
      "min": 0,
      "orientation": "horizontal",
      "style": "IPY_MODEL_45446691eea145f682b3e9dfc86a3ec9",
      "value": 1
     }
    },
    "db4543462aa84e3e9f748c3bfcf2a899": {
     "model_module": "@jupyter-widgets/controls",
     "model_name": "HBoxModel",
     "state": {
      "_dom_classes": [],
      "_model_module": "@jupyter-widgets/controls",
      "_model_module_version": "1.5.0",
      "_model_name": "HBoxModel",
      "_view_count": null,
      "_view_module": "@jupyter-widgets/controls",
      "_view_module_version": "1.5.0",
      "_view_name": "HBoxView",
      "box_style": "",
      "children": [
       "IPY_MODEL_d7306d3f075d479b9d7dd8d0fc3b75c0",
       "IPY_MODEL_d11e30c492e6478baff5c0973871a824"
      ],
      "layout": "IPY_MODEL_d3af59d85b3648da95f39fad9c5e4735"
     }
    },
    "de85728d78694c93b77b6f9695abe15f": {
     "model_module": "@jupyter-widgets/controls",
     "model_name": "HBoxModel",
     "state": {
      "_dom_classes": [],
      "_model_module": "@jupyter-widgets/controls",
      "_model_module_version": "1.5.0",
      "_model_name": "HBoxModel",
      "_view_count": null,
      "_view_module": "@jupyter-widgets/controls",
      "_view_module_version": "1.5.0",
      "_view_name": "HBoxView",
      "box_style": "",
      "children": [
       "IPY_MODEL_1a6f08d2ca414445b0347d2a8115578c",
       "IPY_MODEL_bc0c0bad47ad47f88b3c5d256ee79df8"
      ],
      "layout": "IPY_MODEL_b18ee45c02df41db9b093cbbe0ae045e"
     }
    },
    "df3835d5706b49af98265aea3b409124": {
     "model_module": "@jupyter-widgets/base",
     "model_name": "LayoutModel",
     "state": {
      "_model_module": "@jupyter-widgets/base",
      "_model_module_version": "1.2.0",
      "_model_name": "LayoutModel",
      "_view_count": null,
      "_view_module": "@jupyter-widgets/base",
      "_view_module_version": "1.2.0",
      "_view_name": "LayoutView",
      "align_content": null,
      "align_items": null,
      "align_self": null,
      "border": null,
      "bottom": null,
      "display": null,
      "flex": null,
      "flex_flow": null,
      "grid_area": null,
      "grid_auto_columns": null,
      "grid_auto_flow": null,
      "grid_auto_rows": null,
      "grid_column": null,
      "grid_gap": null,
      "grid_row": null,
      "grid_template_areas": null,
      "grid_template_columns": null,
      "grid_template_rows": null,
      "height": null,
      "justify_content": null,
      "justify_items": null,
      "left": null,
      "margin": null,
      "max_height": null,
      "max_width": null,
      "min_height": null,
      "min_width": null,
      "object_fit": null,
      "object_position": null,
      "order": null,
      "overflow": null,
      "overflow_x": null,
      "overflow_y": null,
      "padding": null,
      "right": null,
      "top": null,
      "visibility": null,
      "width": null
     }
    },
    "e30e11ff2435479fb05dac246dc35903": {
     "model_module": "@jupyter-widgets/base",
     "model_name": "LayoutModel",
     "state": {
      "_model_module": "@jupyter-widgets/base",
      "_model_module_version": "1.2.0",
      "_model_name": "LayoutModel",
      "_view_count": null,
      "_view_module": "@jupyter-widgets/base",
      "_view_module_version": "1.2.0",
      "_view_name": "LayoutView",
      "align_content": null,
      "align_items": null,
      "align_self": null,
      "border": null,
      "bottom": null,
      "display": null,
      "flex": null,
      "flex_flow": null,
      "grid_area": null,
      "grid_auto_columns": null,
      "grid_auto_flow": null,
      "grid_auto_rows": null,
      "grid_column": null,
      "grid_gap": null,
      "grid_row": null,
      "grid_template_areas": null,
      "grid_template_columns": null,
      "grid_template_rows": null,
      "height": null,
      "justify_content": null,
      "justify_items": null,
      "left": null,
      "margin": null,
      "max_height": null,
      "max_width": null,
      "min_height": null,
      "min_width": null,
      "object_fit": null,
      "object_position": null,
      "order": null,
      "overflow": null,
      "overflow_x": null,
      "overflow_y": null,
      "padding": null,
      "right": null,
      "top": null,
      "visibility": null,
      "width": null
     }
    },
    "ebab738db4bf41b488815a8362486d5e": {
     "model_module": "@jupyter-widgets/controls",
     "model_name": "DescriptionStyleModel",
     "state": {
      "_model_module": "@jupyter-widgets/controls",
      "_model_module_version": "1.5.0",
      "_model_name": "DescriptionStyleModel",
      "_view_count": null,
      "_view_module": "@jupyter-widgets/base",
      "_view_module_version": "1.2.0",
      "_view_name": "StyleView",
      "description_width": ""
     }
    },
    "ed7b03e4f80f4af1ab3113f192aa9f47": {
     "model_module": "@jupyter-widgets/base",
     "model_name": "LayoutModel",
     "state": {
      "_model_module": "@jupyter-widgets/base",
      "_model_module_version": "1.2.0",
      "_model_name": "LayoutModel",
      "_view_count": null,
      "_view_module": "@jupyter-widgets/base",
      "_view_module_version": "1.2.0",
      "_view_name": "LayoutView",
      "align_content": null,
      "align_items": null,
      "align_self": null,
      "border": null,
      "bottom": null,
      "display": null,
      "flex": null,
      "flex_flow": null,
      "grid_area": null,
      "grid_auto_columns": null,
      "grid_auto_flow": null,
      "grid_auto_rows": null,
      "grid_column": null,
      "grid_gap": null,
      "grid_row": null,
      "grid_template_areas": null,
      "grid_template_columns": null,
      "grid_template_rows": null,
      "height": null,
      "justify_content": null,
      "justify_items": null,
      "left": null,
      "margin": null,
      "max_height": null,
      "max_width": null,
      "min_height": null,
      "min_width": null,
      "object_fit": null,
      "object_position": null,
      "order": null,
      "overflow": null,
      "overflow_x": null,
      "overflow_y": null,
      "padding": null,
      "right": null,
      "top": null,
      "visibility": null,
      "width": null
     }
    },
    "f0ce564b1c0d499084f88182c016ba03": {
     "model_module": "@jupyter-widgets/base",
     "model_name": "LayoutModel",
     "state": {
      "_model_module": "@jupyter-widgets/base",
      "_model_module_version": "1.2.0",
      "_model_name": "LayoutModel",
      "_view_count": null,
      "_view_module": "@jupyter-widgets/base",
      "_view_module_version": "1.2.0",
      "_view_name": "LayoutView",
      "align_content": null,
      "align_items": null,
      "align_self": null,
      "border": null,
      "bottom": null,
      "display": null,
      "flex": null,
      "flex_flow": null,
      "grid_area": null,
      "grid_auto_columns": null,
      "grid_auto_flow": null,
      "grid_auto_rows": null,
      "grid_column": null,
      "grid_gap": null,
      "grid_row": null,
      "grid_template_areas": null,
      "grid_template_columns": null,
      "grid_template_rows": null,
      "height": null,
      "justify_content": null,
      "justify_items": null,
      "left": null,
      "margin": null,
      "max_height": null,
      "max_width": null,
      "min_height": null,
      "min_width": null,
      "object_fit": null,
      "object_position": null,
      "order": null,
      "overflow": null,
      "overflow_x": null,
      "overflow_y": null,
      "padding": null,
      "right": null,
      "top": null,
      "visibility": null,
      "width": null
     }
    },
    "f3d69c49c289404e80c78fb9eadb6148": {
     "model_module": "@jupyter-widgets/controls",
     "model_name": "DescriptionStyleModel",
     "state": {
      "_model_module": "@jupyter-widgets/controls",
      "_model_module_version": "1.5.0",
      "_model_name": "DescriptionStyleModel",
      "_view_count": null,
      "_view_module": "@jupyter-widgets/base",
      "_view_module_version": "1.2.0",
      "_view_name": "StyleView",
      "description_width": ""
     }
    },
    "f5e793b152e6407683422492bbcfd689": {
     "model_module": "@jupyter-widgets/controls",
     "model_name": "HTMLModel",
     "state": {
      "_dom_classes": [],
      "_model_module": "@jupyter-widgets/controls",
      "_model_module_version": "1.5.0",
      "_model_name": "HTMLModel",
      "_view_count": null,
      "_view_module": "@jupyter-widgets/controls",
      "_view_module_version": "1.5.0",
      "_view_name": "HTMLView",
      "description": "",
      "description_tooltip": null,
      "layout": "IPY_MODEL_73c362907c0f4a8bb823dd758b5d1e70",
      "placeholder": "​",
      "style": "IPY_MODEL_fd2ce620c89149c5b7b0abb7026349d2",
      "value": " 0/4542 [00:00&lt;?, ?it/s]"
     }
    },
    "f94b9d8fe0884a31aa9a4f51dfc6cf84": {
     "model_module": "@jupyter-widgets/controls",
     "model_name": "DescriptionStyleModel",
     "state": {
      "_model_module": "@jupyter-widgets/controls",
      "_model_module_version": "1.5.0",
      "_model_name": "DescriptionStyleModel",
      "_view_count": null,
      "_view_module": "@jupyter-widgets/base",
      "_view_module_version": "1.2.0",
      "_view_name": "StyleView",
      "description_width": ""
     }
    },
    "fd2ce620c89149c5b7b0abb7026349d2": {
     "model_module": "@jupyter-widgets/controls",
     "model_name": "DescriptionStyleModel",
     "state": {
      "_model_module": "@jupyter-widgets/controls",
      "_model_module_version": "1.5.0",
      "_model_name": "DescriptionStyleModel",
      "_view_count": null,
      "_view_module": "@jupyter-widgets/base",
      "_view_module_version": "1.2.0",
      "_view_name": "StyleView",
      "description_width": ""
     }
    },
    "fd8012fcab0b41b48403689eebd1d2c0": {
     "model_module": "@jupyter-widgets/controls",
     "model_name": "HBoxModel",
     "state": {
      "_dom_classes": [],
      "_model_module": "@jupyter-widgets/controls",
      "_model_module_version": "1.5.0",
      "_model_name": "HBoxModel",
      "_view_count": null,
      "_view_module": "@jupyter-widgets/controls",
      "_view_module_version": "1.5.0",
      "_view_name": "HBoxView",
      "box_style": "",
      "children": [
       "IPY_MODEL_c955aaecef7f48bfb7588d712deb7e52",
       "IPY_MODEL_498da1c80a724e218a24b41b27049683"
      ],
      "layout": "IPY_MODEL_a92aef955dfa4c81959a00150dfab3fc"
     }
    }
   }
  }
 },
 "nbformat": 4,
 "nbformat_minor": 1
}
